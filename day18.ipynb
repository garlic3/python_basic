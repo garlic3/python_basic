{
  "nbformat": 4,
  "nbformat_minor": 0,
  "metadata": {
    "colab": {
      "name": "day18.ipynb",
      "provenance": [],
      "collapsed_sections": [],
      "authorship_tag": "ABX9TyPrRKKC96uCknGcFGUYG404",
      "include_colab_link": true
    },
    "kernelspec": {
      "name": "python3",
      "display_name": "Python 3"
    },
    "language_info": {
      "name": "python"
    }
  },
  "cells": [
    {
      "cell_type": "markdown",
      "metadata": {
        "id": "view-in-github",
        "colab_type": "text"
      },
      "source": [
        "<a href=\"https://colab.research.google.com/github/garlic3/ai/blob/main/day18.ipynb\" target=\"_parent\"><img src=\"https://colab.research.google.com/assets/colab-badge.svg\" alt=\"Open In Colab\"/></a>"
      ]
    },
    {
      "cell_type": "code",
      "execution_count": null,
      "metadata": {
        "colab": {
          "base_uri": "https://localhost:8080/"
        },
        "id": "SfFgd0R0LkYr",
        "outputId": "c2894600-e5ea-4aea-ec02-ca25a1d64206"
      },
      "outputs": [
        {
          "output_type": "stream",
          "name": "stdout",
          "text": [
            "1)Addition\n",
            "2)Subtraction\n",
            "Enter 1 or 24\n",
            "Wrong number!\n"
          ]
        }
      ],
      "source": [
        "import random\n",
        "\n",
        "def get_num(n):\n",
        "  if n == 1:\n",
        "    num1 = random.randint(5,20)\n",
        "    num2 = random.randint(5,20)\n",
        "    print(f'num1:{num1}, num2:{num2}')\n",
        "    add = num1+num2\n",
        "    user_add = int(input('How much is it if you add together?'))\n",
        "    return add, user_add # (add, user,add)\n",
        "  else:\n",
        "    num3 = random.randint(25,50)\n",
        "    num4 = random.randint(1,25)  \n",
        "    minus = num3-num4\n",
        "    print(f'num1:{num3}, num2:{num4}')\n",
        "    user_minus = int(input('How much is it if you minus num2 from num1?'))\n",
        "    return minus, user_minus #(minus, user_minus)\n",
        "\n",
        "def check_num(answer, user):\n",
        "  if answer == user:\n",
        "    print('Correct!')\n",
        "  else:\n",
        "    print(f'Incorrect, the answer is {answer}')  \n",
        "\n",
        "\n",
        "def game():\n",
        "  print('1)Addition')\n",
        "  print('2)Subtraction')\n",
        "  num = int(input('Enter 1 or 2'))\n",
        "  if num == 1 or num == 2:\n",
        "    answer, user = get_num(num)\n",
        "    check_num(answer, user)\n",
        "  else:\n",
        "    print(f'Wrong number!')  \n",
        "\n",
        "game()\n"
      ]
    },
    {
      "cell_type": "code",
      "source": [
        "\n",
        "def add():\n",
        "  add_list = input('Enter the name')\n",
        "  li.append(add_list)\n",
        "  return li\n",
        "\n",
        "def change():\n",
        "  change_list = input('Enter the new name')\n",
        "  index = int(input('Which location? Please enter the number'))\n",
        "  li[index] = change_list\n",
        "  return li\n",
        "\n",
        "def delete():\n",
        "  del_list = input('Enter the name you want to delete')\n",
        "  li.remove(del_list)\n",
        "  return li\n",
        "\n",
        "def view():\n",
        "  print(li)\n",
        "\n",
        "\n",
        "def menu(num):\n",
        "  if num == 1:\n",
        "    li = add()\n",
        "  elif num == 2:\n",
        "    li = change()\n",
        "  elif num == 3:\n",
        "    li = delete()\n",
        "  elif num == 4:\n",
        "    li = view()     \n",
        "  elif num == 5:\n",
        "    print('good-bye!')\n",
        "    return\n",
        "  else:\n",
        "    print(f'Wrong number!')\n",
        "    return   \n",
        "\n",
        "def manage():\n",
        "  num = 0\n",
        "  while num < 5:\n",
        "    print('1)add to the list')\n",
        "    print('2)change a name in the list')\n",
        "    print('3)delete a name from the list')\n",
        "    print('4)view all the names in the list')\n",
        "    print('5)End the program')\n",
        "    num = int(input('Enter the number in menu!'))\n",
        "    menu(num) \n",
        "\n",
        "\n",
        "li = []\n",
        "manage()"
      ],
      "metadata": {
        "id": "tGotfjbnPqiE"
      },
      "execution_count": null,
      "outputs": []
    }
  ]
}