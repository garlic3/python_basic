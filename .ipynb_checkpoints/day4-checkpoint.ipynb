{
 "cells": [
  {
   "cell_type": "code",
   "execution_count": 1,
   "id": "b31877f4",
   "metadata": {},
   "outputs": [
    {
     "name": "stdout",
     "output_type": "stream",
     "text": [
      "True\n"
     ]
    }
   ],
   "source": [
    "# 조건문\n",
    "# bool & if"
   ]
  },
  {
   "cell_type": "code",
   "execution_count": 7,
   "id": "d2cd1810",
   "metadata": {},
   "outputs": [
    {
     "name": "stdout",
     "output_type": "stream",
     "text": [
      "False\n",
      "True\n",
      "False\n",
      "True\n"
     ]
    }
   ],
   "source": [
    "# bool\n",
    "print('가방'=='백')\n",
    "print('가방'!='백')\n",
    "print('가방'>'백') #한글 사전 순서대로 크기 비교!\n",
    "print('가방'<'백')"
   ]
  },
  {
   "cell_type": "code",
   "execution_count": null,
   "id": "b840c89f",
   "metadata": {},
   "outputs": [],
   "source": [
    "# if 조건문\n",
    "조건에 따라 특정 코드를 실행하거나 특정 코드를 실행하지 않게 만들고 싶을때 사용\n",
    "코드의 실행 흐름을 변경시키는 것을 조건 분기라고 함."
   ]
  },
  {
   "cell_type": "code",
   "execution_count": 13,
   "id": "2ae2d89f",
   "metadata": {},
   "outputs": [
    {
     "name": "stdout",
     "output_type": "stream",
     "text": [
      "2022-01-28 14:31:50.910503\n",
      "2022\n",
      "1\n",
      "28\n",
      "14\n",
      "31\n",
      "50\n"
     ]
    }
   ],
   "source": [
    "# 날짜/시간과 관련된 기능을 가져옴\n",
    "import datetime\n",
    "\n",
    "# 현재의 날짜와 시간을 구하는 함수\n",
    "now = datetime.datetime.now()\n",
    "print(now)\n",
    "print(now.year)\n",
    "print(now.month)\n",
    "print(now.day)\n",
    "print(now.hour)\n",
    "print(now.minute)\n",
    "print(now.second)"
   ]
  },
  {
   "cell_type": "code",
   "execution_count": 14,
   "id": "1bf15476",
   "metadata": {},
   "outputs": [
    {
     "name": "stdout",
     "output_type": "stream",
     "text": [
      "현재시각은 14시35분으로 오후입니다\n"
     ]
    }
   ],
   "source": [
    "import datetime\n",
    "now = datetime.datetime.now()\n",
    "\n",
    "hour = now.hour\n",
    "minute = now.minute\n",
    "p = 0\n",
    "if hour <13:\n",
    "    p = '오전'\n",
    "else:\n",
    "    p = '오후'\n",
    "print((f'현재시각은 {hour}시{minute}분으로 {p}입니다'))\n"
   ]
  },
  {
   "cell_type": "code",
   "execution_count": null,
   "id": "5ecc0649",
   "metadata": {},
   "outputs": [],
   "source": [
    "if now.month ==12 or 1 <== now.month <== 2:\n",
    "    p = '겨울'\n",
    "elif 3<= now.month <=5:\n",
    "    p = '봄'\n",
    "elif 6<= now.month <=8:\n",
    "    p = '여름'\n",
    "elif 9<= now.month <=11:\n",
    "    p = '가을'\n",
    "print(f'이번달은 {now.month}월로 {p}입니다')"
   ]
  },
  {
   "cell_type": "code",
   "execution_count": null,
   "id": "85554af2",
   "metadata": {},
   "outputs": [],
   "source": []
  }
 ],
 "metadata": {
  "kernelspec": {
   "display_name": "Python 3 (ipykernel)",
   "language": "python",
   "name": "python3"
  },
  "language_info": {
   "codemirror_mode": {
    "name": "ipython",
    "version": 3
   },
   "file_extension": ".py",
   "mimetype": "text/x-python",
   "name": "python",
   "nbconvert_exporter": "python",
   "pygments_lexer": "ipython3",
   "version": "3.9.7"
  }
 },
 "nbformat": 4,
 "nbformat_minor": 5
}
