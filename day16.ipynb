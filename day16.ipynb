{
  "nbformat": 4,
  "nbformat_minor": 0,
  "metadata": {
    "colab": {
      "name": "day16.ipynb",
      "provenance": [],
      "authorship_tag": "ABX9TyNagBdL4JD+TU5NjwIJg60W",
      "include_colab_link": true
    },
    "kernelspec": {
      "name": "python3",
      "display_name": "Python 3"
    },
    "language_info": {
      "name": "python"
    }
  },
  "cells": [
    {
      "cell_type": "markdown",
      "metadata": {
        "id": "view-in-github",
        "colab_type": "text"
      },
      "source": [
        "<a href=\"https://colab.research.google.com/github/garlic3/ai/blob/main/day16.ipynb\" target=\"_parent\"><img src=\"https://colab.research.google.com/assets/colab-badge.svg\" alt=\"Open In Colab\"/></a>"
      ]
    },
    {
      "cell_type": "code",
      "execution_count": null,
      "metadata": {
        "id": "gIbNizKmMOmd"
      },
      "outputs": [],
      "source": [
        "# Fibonacci\n",
        "\n",
        "def fibo(n):\n",
        "  a,b = 1,1\n",
        "  if n == 1 or n== 2:\n",
        "    return 1\n",
        "  for i in range(1,n):\n",
        "    a,b = b, a + b\n",
        "    print(a,b) \n",
        "  return a\n"
      ]
    },
    {
      "cell_type": "code",
      "source": [
        "# 재귀\n",
        "\n",
        "def fib(n):\n",
        "  if n == 1 or n == 2:\n",
        "    return 1\n",
        "  else:\n",
        "    return fib(n-1) + fibo(n-2)    # "
      ],
      "metadata": {
        "id": "fW_xbq5YQsA1"
      },
      "execution_count": null,
      "outputs": []
    },
    {
      "cell_type": "code",
      "source": [
        "# 람다\n",
        "fib = lambda n:1 if n<=2 else fib(n-1) + fib(n-2)\n",
        "fib(5)"
      ],
      "metadata": {
        "colab": {
          "base_uri": "https://localhost:8080/"
        },
        "id": "6bx1o4gSRwAM",
        "outputId": "6f5c6869-5611-4c7a-d91a-57ac18886902"
      },
      "execution_count": null,
      "outputs": [
        {
          "output_type": "execute_result",
          "data": {
            "text/plain": [
              "5"
            ]
          },
          "metadata": {},
          "execution_count": 5
        }
      ]
    },
    {
      "cell_type": "code",
      "source": [
        "# 피보나치 수열의 값을 n번째까지 리스트로 전부 출력\n",
        "def fibo(n):\n",
        "  li = [1]\n",
        "  a , b = 1, 1\n",
        "  for i in range(1,n):\n",
        "    a, b = b, a+b\n",
        "    li.append(a)\n",
        "  return li  \n",
        "\n",
        "fibo(5)        "
      ],
      "metadata": {
        "colab": {
          "base_uri": "https://localhost:8080/"
        },
        "id": "-wnrdjx8R_aw",
        "outputId": "0d73e8db-5f14-4f35-fa0a-4cda94fe9994"
      },
      "execution_count": null,
      "outputs": [
        {
          "output_type": "execute_result",
          "data": {
            "text/plain": [
              "[1, 1, 2, 3, 5]"
            ]
          },
          "metadata": {},
          "execution_count": 18
        }
      ]
    },
    {
      "cell_type": "code",
      "source": [
        "# 2D lists 2차원 리스트\n",
        "       math  korean\n",
        "austin  90     80\n",
        "rick    80     85\n",
        "andy   100     70\n",
        "\n",
        "grade = [[90,80],[80,85],[100,70]]\n",
        "\n",
        "# pandas's dataframe"
      ],
      "metadata": {
        "id": "RSCXxQFeT4FL"
      },
      "execution_count": null,
      "outputs": []
    },
    {
      "cell_type": "code",
      "source": [
        "li = [[],[],[],[]]\n",
        "n = 0\n",
        "for i in range(4):\n",
        "  name = input('Enter the name')\n",
        "  age = input('How old are you?')\n",
        "  size = input('What is your shoe size?')\n",
        "  li[n].append([name,age,size])\n",
        "  i += 1\n",
        "  n += 1\n",
        "# name = input('Which name?')\n",
        "print(li)"
      ],
      "metadata": {
        "colab": {
          "base_uri": "https://localhost:8080/"
        },
        "id": "V5XXEY8AaDbr",
        "outputId": "35a98463-9d83-480b-c89b-c6deb811f3f3"
      },
      "execution_count": null,
      "outputs": [
        {
          "output_type": "stream",
          "name": "stdout",
          "text": [
            "Enter the namea\n",
            "How old are you?1\n",
            "What is your shoe size?1\n",
            "Enter the name1\n",
            "How old are you?b\n",
            "What is your shoe size?2\n",
            "Enter the name2\n",
            "How old are you?2\n",
            "What is your shoe size?c\n",
            "Enter the name3\n",
            "How old are you?3\n",
            "What is your shoe size?3\n",
            "[[['a', '1', '1']], [['1', 'b', '2']], [['2', '2', 'c']], [['3', '3', '3']]]\n"
          ]
        }
      ]
    },
    {
      "cell_type": "code",
      "source": [
        "di = {}\n",
        "n = 0\n",
        "for i in range(4):\n",
        "  name = input('Enter the name')\n",
        "  age = input('How old are you?')\n",
        "  size = input('What is your shoe size?')\n",
        "  di[name] = age, size\n",
        "# name = input('Which name?')\n",
        "print(di)"
      ],
      "metadata": {
        "id": "jhh0wrcMa1nu"
      },
      "execution_count": null,
      "outputs": []
    },
    {
      "cell_type": "code",
      "source": [
        "di = {}\n",
        "n = 0\n",
        "for i in range(4):\n",
        "  name = input('Enter the name')\n",
        "  age = input('How old are you?')\n",
        "  size = input('What is your shoe size?')\n",
        "  di[name] = f'age:{age}, size:{size}'\n",
        "name = input('Which name?')\n",
        "del di[name]\n",
        "for i in di:\n",
        "  print(i, di[i])"
      ],
      "metadata": {
        "id": "OQZTPniSdwcZ"
      },
      "execution_count": null,
      "outputs": []
    },
    {
      "cell_type": "code",
      "source": [
        "# reading and writing\n",
        "\n",
        "# write\n",
        "file = open('Country.txt','w')\n",
        "file.write('Italy\\n')\n",
        "file.write('German\\n')\n",
        "file.write('Spain\\n')\n",
        "file.close()"
      ],
      "metadata": {
        "id": "f7O3Geled_nP"
      },
      "execution_count": null,
      "outputs": []
    },
    {
      "cell_type": "code",
      "source": [
        "# read\n",
        "file = open('Country.txt','r')\n",
        "print(file.read())\n"
      ],
      "metadata": {
        "colab": {
          "base_uri": "https://localhost:8080/"
        },
        "id": "1Iuxm2y6hlR3",
        "outputId": "fd9ad5d9-b6d9-4c37-d4fd-325d1d15d6c5"
      },
      "execution_count": null,
      "outputs": [
        {
          "output_type": "stream",
          "name": "stdout",
          "text": [
            "Italy\n",
            "German\n",
            "Spain\n",
            "\n"
          ]
        }
      ]
    },
    {
      "cell_type": "code",
      "source": [
        "# add\n",
        "file = open('Counry.txt','a')\n",
        "file.write('France\\n')\n",
        "file.close()\n"
      ],
      "metadata": {
        "id": "CpVmcITKhwFo"
      },
      "execution_count": null,
      "outputs": []
    },
    {
      "cell_type": "code",
      "source": [
        "print('1) Create a new file')\n",
        "print('2) Display the file')\n",
        "print('3) Add a new item to the file')\n",
        "print('Make a selection 1,2 or 3')\n",
        "\n",
        "n = int(input('Enter the number'))\n",
        "if n == 1:\n",
        "  s = input('Enter a school subject')\n",
        "  file = open('Subject.txt', 'w')\n",
        "  file.write(f'{s}\\n')\n",
        "elif n == 2:\n",
        "  file = open('Subject.txt', 'r')\n",
        "  print(file.read())\n",
        "elif n == 3:\n",
        "  e = input('Enter a new subject')\n",
        "  file = open('Subject.txt', 'a')\n",
        "  file.write(f'{e}\\n')\n",
        "  file = open('Subject.txt', 'r') \n",
        "  print(file.read())\n",
        "else:\n",
        "  print('Wrong number!')\n",
        "\n",
        "\n"
      ],
      "metadata": {
        "colab": {
          "base_uri": "https://localhost:8080/"
        },
        "id": "NSxKzuFViTFp",
        "outputId": "34e85ab7-826c-4cbc-cd7c-d6615b369712"
      },
      "execution_count": null,
      "outputs": [
        {
          "output_type": "stream",
          "name": "stdout",
          "text": [
            "Enter the number2\n",
            "math\n",
            "\n"
          ]
        }
      ]
    }
  ]
}