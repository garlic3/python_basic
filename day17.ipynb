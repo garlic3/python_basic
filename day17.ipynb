{
  "nbformat": 4,
  "nbformat_minor": 0,
  "metadata": {
    "colab": {
      "name": "day17",
      "provenance": [],
      "authorship_tag": "ABX9TyNmC6gXqRXnC6u/QyQt4TqS",
      "include_colab_link": true
    },
    "kernelspec": {
      "name": "python3",
      "display_name": "Python 3"
    },
    "language_info": {
      "name": "python"
    }
  },
  "cells": [
    {
      "cell_type": "markdown",
      "metadata": {
        "id": "view-in-github",
        "colab_type": "text"
      },
      "source": [
        "<a href=\"https://colab.research.google.com/github/garlic3/ai/blob/main/day17.ipynb\" target=\"_parent\"><img src=\"https://colab.research.google.com/assets/colab-badge.svg\" alt=\"Open In Colab\"/></a>"
      ]
    },
    {
      "cell_type": "code",
      "execution_count": null,
      "metadata": {
        "id": "d3uXrvxxYV6k"
      },
      "outputs": [],
      "source": [
        "# \n",
        "def get_data(): 4\n",
        "    user_name = input('Enter your name : ') 5\n",
        "    user_age = input('Enter your age : ')  6\n",
        "    data_tuple = (user_name, user_age) 7\n",
        "    return data_tuple 8\n",
        "\n",
        "def message(user_name, user_age): 10\n",
        "  if user_age <= 10: 11\n",
        "    print('Hi', user_name)\n",
        "  else: 12\n",
        "    print('Hello', user_name) 13\n",
        "\n",
        "def main(): 2\n",
        "  user_name, user_age = get_data() 3 9\n",
        "  message(user_name, user_age) 8 14\n",
        "main() 1\n",
        "\n"
      ]
    },
    {
      "cell_type": "code",
      "source": [
        "# \n",
        "def ask_number():\n",
        "  num = int(input('Enther a number'))\n",
        "  return num\n",
        "def num_count(n):\n",
        "  count = 0\n",
        "  for i in range(1,n+1):\n",
        "    count += 1\n",
        "  print(count)\n",
        "num = ask_number()\n",
        "num_count(num)"
      ],
      "metadata": {
        "colab": {
          "base_uri": "https://localhost:8080/"
        },
        "id": "B5x_JMzGh7De",
        "outputId": "25365c91-3119-4927-ee44-c9125ccbfb3d"
      },
      "execution_count": 16,
      "outputs": [
        {
          "output_type": "stream",
          "name": "stdout",
          "text": [
            "Enther a number3\n",
            "3\n"
          ]
        }
      ]
    },
    {
      "cell_type": "code",
      "source": [
        "# \n",
        "\n",
        "import random\n",
        "\n",
        "def ask_high_low():\n",
        "  hn = int(input('Enter a high number'))\n",
        "  ln = int(input('Enter a low number'))\n",
        "  comp_num = random.randint(ln,hn)\n",
        "  return comp_num\n",
        "\n",
        "def guess_num():\n",
        "  print('I am thinking of a number..')\n",
        "  user_num = int(input('Guess the number'))\n",
        "  return user_num\n",
        "\n",
        "def result(comp_num, user_num):\n",
        "  if comp_num == user_num:\n",
        "    print('Correct, you win!')\n",
        "  elif comp_num > user_num:\n",
        "    print('Too low')\n",
        "  elif comp_num < user_num:\n",
        "    print('Too high')\n",
        "      \n",
        "def num_game():\n",
        "  comp_num = ask_high_low()\n",
        "  while True:\n",
        "    user_num = guess_num()\n",
        "    result(comp_num, user_num)\n",
        "    if comp_num == user_num:\n",
        "      break\n",
        "      \n",
        "num_game()\n"
      ],
      "metadata": {
        "colab": {
          "base_uri": "https://localhost:8080/"
        },
        "id": "RRUyJI3RiOLW",
        "outputId": "a7dfb35e-73b7-4b89-f573-7296bf86bc96"
      },
      "execution_count": 33,
      "outputs": [
        {
          "output_type": "stream",
          "name": "stdout",
          "text": [
            "Enter a high number5\n",
            "Enter a low number1\n",
            "I am thinking of a number..\n",
            "Guess the number1\n",
            "Too low\n",
            "I am thinking of a number..\n",
            "Guess the number2\n",
            "Too low\n",
            "I am thinking of a number..\n",
            "Guess the number3\n",
            "Correct, you win!\n"
          ]
        }
      ]
    }
  ]
}