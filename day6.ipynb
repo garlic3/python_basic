{
  "nbformat": 4,
  "nbformat_minor": 0,
  "metadata": {
    "colab": {
      "name": "day6.ipynb",
      "provenance": [],
      "collapsed_sections": [],
      "authorship_tag": "ABX9TyN33faO7NUdX2DfYXrcI3mr",
      "include_colab_link": true
    },
    "kernelspec": {
      "name": "python3",
      "display_name": "Python 3"
    },
    "language_info": {
      "name": "python"
    }
  },
  "cells": [
    {
      "cell_type": "markdown",
      "metadata": {
        "id": "view-in-github",
        "colab_type": "text"
      },
      "source": [
        "<a href=\"https://colab.research.google.com/github/garlic3/ai/blob/main/day6.ipynb\" target=\"_parent\"><img src=\"https://colab.research.google.com/assets/colab-badge.svg\" alt=\"Open In Colab\"/></a>"
      ]
    },
    {
      "cell_type": "code",
      "execution_count": null,
      "metadata": {
        "colab": {
          "base_uri": "https://localhost:8080/"
        },
        "id": "Em_HuYSptxmd",
        "outputId": "f694d80c-0c75-4947-dc85-96e24f992a0d"
      },
      "outputs": [
        {
          "output_type": "stream",
          "name": "stdout",
          "text": [
            "2\n",
            "1\n",
            "2\n",
            "2\n"
          ]
        }
      ],
      "source": [
        " # 두 변수의 데이터를 교환\n",
        "\n",
        " a = 1\n",
        " b = 2\n",
        "\n",
        " print('a = ',a)\n",
        " print('b = ',b)\n",
        "\n",
        " t = a\n",
        " a = b\n",
        " b = t\n",
        "\n",
        "print('a = ',a)\n",
        "print('b = ',b)\n",
        "\n",
        "# a = b\n",
        "# b = a\n",
        "\n",
        "# print('a = ',a)\n",
        "# print('b = ',b)\n",
        "\n",
        "a, b = b, a  # 파이썬에서만의 두개의 변수 교환 방법\n",
        "\n",
        "print('a = ',a)\n",
        "print('b = ',b)"
      ]
    },
    {
      "cell_type": "code",
      "source": [
        "# 유명한 알고리즘\n",
        "\n",
        "# 탐색 Search\n",
        "# Linear Search 선형 탐색법 - 앞에서부터 순서대로 찾음\n",
        "# Binary Search 이진 탐색법 - 범위를 절반씩 줄여서 찾음 단, 데이터가 정렬되어 있어야함\n",
        "# Hash Search 해시 탐색법 - 검색 즉시 찾음. 단, 저장할때 가공해서 저장함\n",
        "\n",
        "# 정렬 sort \n",
        "# Selection sort 단순 선택법 - 최소/최대값을 선택하여 앞/뒤부터 순서대로 나열\n",
        "# Bubble sort 단순 교환법 - 옆에 있는 데이터를 교환하면서 자리를 바꿈\n",
        "# Insertion sort 단순 삽입법 - 데이터를 올바른 위치에 삽입하면서 자리를 바꿈\n",
        "# Quick sort 퀵정렬 - 기준 데이터를 기반으로 대소 분활을 반복하여 자리를 바꿈\n",
        "\n",
        "# 에라토스테네스의 체 sieve of Eratosthenes - 소수 구하는 알고리즘\n",
        "# 유클리드 알고리즘 - 최대 공약수를 구하는 알고리즘\n"
      ],
      "metadata": {
        "id": "p1ekbCL1AjgZ"
      },
      "execution_count": null,
      "outputs": []
    },
    {
      "cell_type": "code",
      "source": [
        "# Linear search 선형 탐색법\n",
        "# 보관된 데이터를 맨 앞부터 순서대로 원하는 값을 찾을 때 까지 탐색한다\n",
        "# 탐색 처리는 반복 구조를 사용하여 기술\n",
        "# 반복 구조에서 종료 조건을 잊지말자\n",
        "\n",
        "첨자(방번호)  0  1  2  3  4\n",
        "데이터       4  2  3  5  1\n",
        "\n"
      ],
      "metadata": {
        "colab": {
          "base_uri": "https://localhost:8080/",
          "height": 135
        },
        "id": "3HotetkOg2NY",
        "outputId": "dd9c6299-f889-4ab1-af7b-b4630724921a"
      },
      "execution_count": null,
      "outputs": [
        {
          "output_type": "error",
          "ename": "SyntaxError",
          "evalue": "ignored",
          "traceback": [
            "\u001b[0;36m  File \u001b[0;32m\"<ipython-input-1-993f71c04833>\"\u001b[0;36m, line \u001b[0;32m6\u001b[0m\n\u001b[0;31m    첨자(방번호)  0  1  2  3  4\u001b[0m\n\u001b[0m             ^\u001b[0m\n\u001b[0;31mSyntaxError\u001b[0m\u001b[0;31m:\u001b[0m invalid syntax\n"
          ]
        }
      ]
    },
    {
      "cell_type": "code",
      "source": [
        "\n",
        "arr = [4,2,3,5,1]\n",
        "for i in range(0,5):\n",
        "  if arr[i] == 5:\n",
        "    print(f'{i}번째 요소가 일치')\n",
        "    break\n",
        "  else:\n",
        "    print('찾지못했습니다')\n"
      ],
      "metadata": {
        "colab": {
          "base_uri": "https://localhost:8080/"
        },
        "id": "_PhghxYomUDS",
        "outputId": "a5e83e4c-fbdf-455b-d2eb-ccb4a9ca8433"
      },
      "execution_count": null,
      "outputs": [
        {
          "output_type": "stream",
          "name": "stdout",
          "text": [
            "찾지못했습니다\n",
            "찾지못했습니다\n",
            "찾지못했습니다\n",
            "3번째 요소가 일치\n"
          ]
        }
      ]
    },
    {
      "cell_type": "code",
      "source": [
        "def linear_search(no, list):\n",
        "  for i in range(len(list)):\n",
        "    if no == list[i]:\n",
        "      return print(f'{i}번째 요소가 일치') \n",
        "  return print('찾지 못했습니다')\n",
        "print(linear_search(5,[4,2,3,5,1]))  "
      ],
      "metadata": {
        "id": "UE-TjE9-me9z",
        "colab": {
          "base_uri": "https://localhost:8080/"
        },
        "outputId": "8fbef2ba-c259-46ac-903c-9320a0069721"
      },
      "execution_count": null,
      "outputs": [
        {
          "output_type": "stream",
          "name": "stdout",
          "text": [
            "3번째 요소가 일치\n",
            "None\n"
          ]
        }
      ]
    },
    {
      "cell_type": "code",
      "source": [
        "# Binary search 이진 탐색법\n",
        "# 이진 탐색법은 탐색하는 범위를 절반씩 줄여서 탐색\n",
        "# 데이터들이 먼저 오름차순이나 내림차순으로 정렬되어 있어야만 쓸수있음\n",
        "\n",
        "11, 13, 17, 19, 23, 29, 31 <- 찾는 값은 17\n",
        "\n",
        "0  1  2  3  4  5  6\n",
        "\n"
      ],
      "metadata": {
        "id": "kFsNjGmFvxR6"
      },
      "execution_count": null,
      "outputs": []
    },
    {
      "cell_type": "code",
      "source": [
        "# 에외 처리(에러처리, 오류처리)\n",
        "# 프로그램 실행 전에 발생하는 오류 - 구문 오류 syntax error\n",
        "# 프로그램 실행 중에 발생하는 오류 - 런타임 오류 runtime error, 예외 exception\n",
        "# EOL End of Line"
      ],
      "metadata": {
        "id": "EdMZPNQP9GOq"
      },
      "execution_count": null,
      "outputs": []
    },
    {
      "cell_type": "code",
      "source": [
        "# if로 예외처리\n",
        "\n",
        "num_input = input('정수입력')\n",
        "num_a = int(num_input)\n",
        "\n",
        "if num_input.isdigit():\n",
        "  print('원의 반지름:', num_input)\n",
        "  print('원의 둘레:', 2*3.14*num_a)\n",
        "  print('원의 넓이:', 3.14*num_a*num_a)\n",
        "else:\n",
        "  print('정수를 입력하세요')  "
      ],
      "metadata": {
        "id": "O7GVHzyzBpWh"
      },
      "execution_count": null,
      "outputs": []
    },
    {
      "cell_type": "code",
      "source": [
        "# try except 구문\n",
        "try:\n",
        "  num_input = input('정수입력')\n",
        "  num_a = int(num_input)\n",
        "  print('원의 반지름:',num_input)\n",
        "  print('원의 둘레:', 2*3.14*num_a)\n",
        "  print('원의 넓이:', 3.14*num_a*num_a)\n",
        "except:\n",
        "  print('정수를 입력하세요')  "
      ],
      "metadata": {
        "colab": {
          "base_uri": "https://localhost:8080/"
        },
        "id": "-H-yd8eNB56t",
        "outputId": "82764800-0783-4ba7-bee2-ba642675a5ed"
      },
      "execution_count": null,
      "outputs": [
        {
          "output_type": "stream",
          "name": "stdout",
          "text": [
            "정수입력12\n",
            "원의 반지름: 12\n",
            "원의 둘레: 75.36\n",
            "원의 넓이: 452.15999999999997\n"
          ]
        }
      ]
    },
    {
      "cell_type": "code",
      "source": [
        "list_all = ['52','273','32','스파이','103']\n",
        "list_num = []\n",
        "for i in list_all:\n",
        "  try:\n",
        "    float(i)\n",
        "    list_num.append(i)\n",
        "  except:\n",
        "    pass\n",
        "\n",
        "print(list_num)   "
      ],
      "metadata": {
        "colab": {
          "base_uri": "https://localhost:8080/"
        },
        "id": "5UQx_OhUCpWZ",
        "outputId": "bb96a608-3e8d-4eb0-ae62-55abfd5685f8"
      },
      "execution_count": null,
      "outputs": [
        {
          "output_type": "stream",
          "name": "stdout",
          "text": [
            "['52', '273', '32', '103']\n"
          ]
        }
      ]
    },
    {
      "cell_type": "code",
      "source": [
        "list_all = [52,273,32,'스파이',103]\n",
        "list_num = []\n",
        "for i in list_all:\n",
        "  try:\n",
        "    a = isinstance(i, str)\n",
        "    if a == True:\n",
        "      list_num.append(i)\n",
        "  except:\n",
        "    pass\n",
        "\n",
        "print(list_num)     "
      ],
      "metadata": {
        "colab": {
          "base_uri": "https://localhost:8080/"
        },
        "id": "k9l9pWT-EFXc",
        "outputId": "e19b9253-43d9-47ab-d862-8b5872180105"
      },
      "execution_count": null,
      "outputs": [
        {
          "output_type": "stream",
          "name": "stdout",
          "text": [
            "['스파이']\n"
          ]
        }
      ]
    },
    {
      "cell_type": "code",
      "source": [
        "try:\n",
        "# 예외가 발생할 가능성이 있는 코드\n",
        "except:\n",
        "# 예외가 발생했을 때 실행할 코드\n",
        "else:\n",
        "# 예외가 발생하지 않았을 때 실행할 코드\n",
        "finally:\n",
        "# 항상 실행 시킬 코드\n",
        "\n",
        "# try + except\n",
        "# try + except + else\n",
        "# try + except + finally\n",
        "# try + except + else + finally\n",
        "# try + finally\n"
      ],
      "metadata": {
        "id": "Gl4mEoQgGaXE"
      },
      "execution_count": null,
      "outputs": []
    },
    {
      "cell_type": "code",
      "source": [
        "try:\n",
        "  num = int(input('정수를 입력하세요'))\n",
        "except:\n",
        "  print(f'정수를 입력하지 않았습니다') \n",
        "else:\n",
        "  print(f'입력한 정수는 {num}입니다')\n",
        "# else는 다른 대부분의 언어에서 try-except 구문에서 없음.\n",
        "finally:\n",
        "  print('프로그램이 완전히 종료되었습니다')"
      ],
      "metadata": {
        "colab": {
          "base_uri": "https://localhost:8080/"
        },
        "id": "5uFyRQDPI9-R",
        "outputId": "0d4e9dc9-6d12-4f95-982d-3079d09af5a5"
      },
      "execution_count": null,
      "outputs": [
        {
          "output_type": "stream",
          "name": "stdout",
          "text": [
            "정수를 입력하세요ㅇㅇㅇ\n",
            "정수를 입력하지 않았습니다\n",
            "프로그램이 완전히 종료되었습니다\n"
          ]
        }
      ]
    },
    {
      "cell_type": "code",
      "source": [
        "def test():\n",
        "  print('test()함수의 첫줄입니다')\n",
        "  try:\n",
        "    print('try 구문이 실행되었습니다')\n",
        "    return\n",
        "    print('try 구문의 return 아래입니다')  \n",
        "  except:\n",
        "    print('except구문이 실행되었습니다')\n",
        "  else:\n",
        "    print('else구문이 실행되었습니다')\n",
        "  finally:\n",
        "    print('finally 구문이 실행되었습니다')\n",
        "  print('test()함수의 마지막줄입니다')      \n",
        "  \n",
        "test()  \n"
      ],
      "metadata": {
        "colab": {
          "base_uri": "https://localhost:8080/"
        },
        "id": "sRnQoytmJbF5",
        "outputId": "22f1892d-fa35-4a3a-d9c2-01fcede2869e"
      },
      "execution_count": null,
      "outputs": [
        {
          "output_type": "stream",
          "name": "stdout",
          "text": [
            "test()함수의 첫줄입니다\n",
            "try 구문이 실행되었습니다\n",
            "finally 구문이 실행되었습니다\n"
          ]
        }
      ]
    },
    {
      "cell_type": "code",
      "source": [
        "print('프로그램 실행')\n",
        "while True:\n",
        "  try:\n",
        "    print('try구문 실행')\n",
        "    break\n",
        "    print('try구문의 break 아래')\n",
        "  except:\n",
        "    print('except 구문 실행')\n",
        "  finally:\n",
        "    print('finally 구문 실행')\n",
        "  print('while의 마지막 줄')\n",
        "print('프로그램 종료')        "
      ],
      "metadata": {
        "colab": {
          "base_uri": "https://localhost:8080/"
        },
        "id": "NY4BfQ8mMJsr",
        "outputId": "12e1a927-b54e-4294-b6a5-9f360979c8f7"
      },
      "execution_count": null,
      "outputs": [
        {
          "output_type": "stream",
          "name": "stdout",
          "text": [
            "프로그램 실행\n",
            "try구문 실행\n",
            "finally 구문 실행\n",
            "프로그램 종료\n"
          ]
        }
      ]
    },
    {
      "cell_type": "code",
      "source": [
        ""
      ],
      "metadata": {
        "id": "m_Oxr18KONJT"
      },
      "execution_count": null,
      "outputs": []
    }
  ]
}