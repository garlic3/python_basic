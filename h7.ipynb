{
  "nbformat": 4,
  "nbformat_minor": 0,
  "metadata": {
    "colab": {
      "name": "\bh7.ipynb",
      "provenance": [],
      "collapsed_sections": [],
      "authorship_tag": "ABX9TyOj5vR7COcEPUseZgnA0xjF",
      "include_colab_link": true
    },
    "kernelspec": {
      "name": "python3",
      "display_name": "Python 3"
    },
    "language_info": {
      "name": "python"
    }
  },
  "cells": [
    {
      "cell_type": "markdown",
      "metadata": {
        "id": "view-in-github",
        "colab_type": "text"
      },
      "source": [
        "<a href=\"https://colab.research.google.com/github/garlic3/ai/blob/main/%08h7.ipynb\" target=\"_parent\"><img src=\"https://colab.research.google.com/assets/colab-badge.svg\" alt=\"Open In Colab\"/></a>"
      ]
    },
    {
      "cell_type": "code",
      "execution_count": null,
      "metadata": {
        "id": "27tA3XWqgncC"
      },
      "outputs": [],
      "source": [
        "'''quiz\n",
        "436)\n",
        "c\n",
        "437)\n",
        "b\n",
        "438)\n",
        "a\n",
        "439)\n",
        "b\n",
        "440)\n",
        "a\n",
        "441)\n",
        "c\n",
        "442)\n",
        "c\n",
        "443)\n",
        "b\n",
        "444)\n",
        "d\n",
        "445)\n",
        "b\n",
        "446)\n",
        "c\n",
        "447)\n",
        "c\n",
        "448)\n",
        "d\n",
        "449)\n",
        "c\n",
        "450)\n",
        "b\n",
        "451)\n",
        "a\n",
        "452)\n",
        "c\n",
        "453)\n",
        "d\n",
        "454)\n",
        "d\n",
        "455)\n",
        "a\n",
        "\n",
        "'''"
      ]
    },
    {
      "cell_type": "code",
      "source": [
        "\n",
        "e_list = []\n",
        "for i in range(1,10001): # 1부터 10,000까지 범위지정\n",
        "  new = str(i)  # 8의 개수를 세기위해 문자열로 변경\n",
        "  if '8' in new: \n",
        "    e_list.append(new) # 숫자에 8이 들어있는 리스트 생성\n",
        "all =(''.join(e_list)) # 리스트에 있는 모든 숫자를 문자열 하나로 병합\n",
        "count = all.count('8') # 합친 문자열에 있는 8개의 개수를 세기\n",
        "print(count)\n",
        "    "
      ],
      "metadata": {
        "colab": {
          "base_uri": "https://localhost:8080/"
        },
        "id": "t69WBgpXc8tp",
        "outputId": "0e6cad8e-bb5f-4d11-d8a3-ee02095409d1"
      },
      "execution_count": 34,
      "outputs": [
        {
          "output_type": "stream",
          "name": "stdout",
          "text": [
            "4000\n"
          ]
        }
      ]
    }
  ]
}