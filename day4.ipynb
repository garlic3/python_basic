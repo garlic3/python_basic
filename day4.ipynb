{
 "cells": [
  {
   "cell_type": "code",
   "execution_count": 1,
   "id": "b31877f4",
   "metadata": {},
   "outputs": [
    {
     "name": "stdout",
     "output_type": "stream",
     "text": [
      "True\n"
     ]
    }
   ],
   "source": [
    "# 조건문\n",
    "# bool & if"
   ]
  },
  {
   "cell_type": "code",
   "execution_count": 7,
   "id": "d2cd1810",
   "metadata": {},
   "outputs": [
    {
     "name": "stdout",
     "output_type": "stream",
     "text": [
      "False\n",
      "True\n",
      "False\n",
      "True\n"
     ]
    }
   ],
   "source": [
    "# bool\n",
    "print('가방'=='백')\n",
    "print('가방'!='백')\n",
    "print('가방'>'백') #한글 사전 순서대로 크기 비교!\n",
    "print('가방'<'백')"
   ]
  },
  {
   "cell_type": "code",
   "execution_count": null,
   "id": "b840c89f",
   "metadata": {},
   "outputs": [],
   "source": [
    "# if 조건문\n",
    "조건에 따라 특정 코드를 실행하거나 특정 코드를 실행하지 않게 만들고 싶을때 사용\n",
    "코드의 실행 흐름을 변경시키는 것을 조건 분기라고 함."
   ]
  },
  {
   "cell_type": "code",
   "execution_count": 13,
   "id": "2ae2d89f",
   "metadata": {},
   "outputs": [
    {
     "name": "stdout",
     "output_type": "stream",
     "text": [
      "2022-01-28 14:31:50.910503\n",
      "2022\n",
      "1\n",
      "28\n",
      "14\n",
      "31\n",
      "50\n"
     ]
    }
   ],
   "source": [
    "# 날짜/시간과 관련된 기능을 가져옴\n",
    "import datetime\n",
    "\n",
    "# 현재의 날짜와 시간을 구하는 함수\n",
    "now = datetime.datetime.now()\n",
    "print(now)\n",
    "print(now.year)\n",
    "print(now.month)\n",
    "print(now.day)\n",
    "print(now.hour)\n",
    "print(now.minute)\n",
    "print(now.second)"
   ]
  },
  {
   "cell_type": "code",
   "execution_count": 14,
   "id": "1bf15476",
   "metadata": {},
   "outputs": [
    {
     "name": "stdout",
     "output_type": "stream",
     "text": [
      "현재시각은 14시35분으로 오후입니다\n"
     ]
    }
   ],
   "source": [
    "import datetime\n",
    "now = datetime.datetime.now()\n",
    "\n",
    "hour = now.hour\n",
    "minute = now.minute\n",
    "p = 0\n",
    "if hour <13:\n",
    "    p = '오전'\n",
    "else:\n",
    "    p = '오후'\n",
    "print((f'현재시각은 {hour}시{minute}분으로 {p}입니다'))\n"
   ]
  },
  {
   "cell_type": "code",
   "execution_count": 3,
   "id": "5ecc0649",
   "metadata": {},
   "outputs": [
    {
     "name": "stdout",
     "output_type": "stream",
     "text": [
      "이번달은 1월로 겨울입니다\n"
     ]
    }
   ],
   "source": [
    "import datetime\n",
    "now = datetime.datetime.now()\n",
    "\n",
    "if now.month ==12 or 1 <= now.month <= 2:\n",
    "    p = '겨울'\n",
    "elif 3<= now.month <=5:\n",
    "    p = '봄'\n",
    "elif 6<= now.month <=8:\n",
    "    p = '여름'\n",
    "elif 9<= now.month <=11:\n",
    "    p = '가을'\n",
    "print(f'이번달은 {now.month}월로 {p}입니다')"
   ]
  },
  {
   "cell_type": "code",
   "execution_count": 10,
   "id": "2bc9ce94",
   "metadata": {
    "scrolled": true
   },
   "outputs": [
    {
     "name": "stdout",
     "output_type": "stream",
     "text": [
      "정수를 입력하세요2\n",
      "짝수입니다\n"
     ]
    }
   ],
   "source": [
    "num = input(\"정수를 입력하세요\")\n",
    "if int(num)> 10 and num[1] in '02468':\n",
    "    print(\"짝수입니다\")\n",
    "if int(num)<10 and num in '02468':\n",
    "    print('짝수입니다')\n",
    "else:\n",
    "    print(\"홀수입니다\")"
   ]
  },
  {
   "cell_type": "code",
   "execution_count": 11,
   "id": "9781d214",
   "metadata": {},
   "outputs": [
    {
     "name": "stdout",
     "output_type": "stream",
     "text": [
      "정수입력3\n"
     ]
    }
   ],
   "source": [
    "# pass\n",
    "number = int(input(\"정수입력\"))\n",
    "if number > 0:\n",
    "    pass\n",
    "else:\n",
    "    pass"
   ]
  },
  {
   "cell_type": "code",
   "execution_count": 15,
   "id": "b1fc26dc",
   "metadata": {},
   "outputs": [
    {
     "name": "stdout",
     "output_type": "stream",
     "text": [
      "3\n",
      "4\n",
      "5\n"
     ]
    }
   ],
   "source": [
    "# 리스트와 반복문\n",
    "\n",
    "li = [1,2,3,4,5] # 여러개의 데이터를 저장하여 사용한다\n",
    "\n",
    "for i in li:\n",
    "    if i >= 3:\n",
    "        print(i)"
   ]
  },
  {
   "cell_type": "code",
   "execution_count": 17,
   "id": "d5972714",
   "metadata": {},
   "outputs": [
    {
     "name": "stdout",
     "output_type": "stream",
     "text": [
      "1 apple\n",
      "2 tree\n"
     ]
    }
   ],
   "source": [
    "# 딕셔너리와 반복문\n",
    "\n",
    "dict = {1:'apple', 2:'tree'}\n",
    "for i in dict:\n",
    "    print(i, dict[i])"
   ]
  },
  {
   "cell_type": "code",
   "execution_count": 18,
   "id": "93e2247d",
   "metadata": {},
   "outputs": [
    {
     "data": {
      "text/plain": [
       "[0, 2, 4]"
      ]
     },
     "execution_count": 18,
     "metadata": {},
     "output_type": "execute_result"
    }
   ],
   "source": [
    "# for, range\n",
    "list(range(0,5,2))"
   ]
  },
  {
   "cell_type": "code",
   "execution_count": null,
   "id": "0e3c8143",
   "metadata": {},
   "outputs": [],
   "source": [
    "# for: 반복횟수를 정확히 알고 있을때 주로 사용\n",
    "# while: 반복횟수를 정확히 알 수 없을때 주로 사용"
   ]
  },
  {
   "cell_type": "code",
   "execution_count": 23,
   "id": "0487cf57",
   "metadata": {},
   "outputs": [
    {
     "name": "stdout",
     "output_type": "stream",
     "text": [
      "0번째 반복\n",
      "1번째 반복\n",
      "2번째 반복\n"
     ]
    }
   ],
   "source": [
    "n= 0\n",
    "while n < 3:\n",
    "    print(f'{n}번째 반복')\n",
    "    n+=1    "
   ]
  },
  {
   "cell_type": "code",
   "execution_count": 25,
   "id": "89f6c91c",
   "metadata": {},
   "outputs": [
    {
     "name": "stdout",
     "output_type": "stream",
     "text": [
      "0번째 반복\n",
      "1번째 반복\n",
      "2번째 반복\n"
     ]
    }
   ],
   "source": [
    "for i in range(0,3):\n",
    "    print(f'{i}번째 반복')"
   ]
  },
  {
   "cell_type": "code",
   "execution_count": 29,
   "id": "ce6f868d",
   "metadata": {},
   "outputs": [
    {
     "name": "stdout",
     "output_type": "stream",
     "text": [
      "2번째 반복\n",
      "1번째 반복\n",
      "0번째 반복\n"
     ]
    }
   ],
   "source": [
    "# for문 역순으로 불러오기\n",
    "for i in range(2,-1,-1):\n",
    "    print(f'{i}번째 반복')"
   ]
  },
  {
   "cell_type": "code",
   "execution_count": 1,
   "id": "e6dd56ee",
   "metadata": {},
   "outputs": [
    {
     "name": "stdout",
     "output_type": "stream",
     "text": [
      "0번째 반복입니다\n",
      "종료할까요(y)n\n",
      "1번째 반복입니다\n",
      "종료할까요(y)n\n",
      "2번째 반복입니다\n",
      "종료할까요(y)y\n",
      "반복을 종료합니다\n"
     ]
    }
   ],
   "source": [
    "# break/contiune\n",
    "# break 반복문 종료\n",
    "\n",
    "i = 0\n",
    "while True:\n",
    "    print(f'{i}번째 반복입니다')\n",
    "    i += 1\n",
    "    inp = input('종료할까요(y)')\n",
    "    if inp in ['Y','y']:\n",
    "        print('반복을 종료합니다')\n",
    "        break"
   ]
  },
  {
   "cell_type": "code",
   "execution_count": 2,
   "id": "7e5e45ee",
   "metadata": {},
   "outputs": [
    {
     "name": "stdout",
     "output_type": "stream",
     "text": [
      "1\n",
      "3\n",
      "5\n",
      "7\n",
      "9\n"
     ]
    }
   ],
   "source": [
    "# continue 현재 반복을 중지하고 다음 반복으로 넘어갈때 사용\n",
    "# 전체 반복에서 부분을 빼고 실행 할때 \n",
    "\n",
    "for num in range(1,11):\n",
    "    if num % 2 == 0:\n",
    "        continue\n",
    "    print(num)    "
   ]
  },
  {
   "cell_type": "code",
   "execution_count": 8,
   "id": "18c68da1",
   "metadata": {},
   "outputs": [
    {
     "name": "stdout",
     "output_type": "stream",
     "text": [
      "0번 진구\n",
      "1번 철수\n",
      "2번 미애\n",
      "3번 형구\n",
      "4번 진수\n"
     ]
    }
   ],
   "source": [
    "# enumerate() 없이 \n",
    "\n",
    "student = ['진구','철수','미애','형구','진수']\n",
    "n = 0\n",
    "\n",
    "#for i in student:\n",
    "#    print(f'{n}번째 {i}')\n",
    "#    n +=1\n",
    "\n",
    "# enumerate() 리스트의 요소가 반복할 때 현재 인덱스가 몇번째 인지 확인 \n",
    "for no, name in enumerate(student):\n",
    "    print(f'{no}번 {name}')\n",
    "\n",
    "\n"
   ]
  },
  {
   "cell_type": "code",
   "execution_count": 9,
   "id": "28cdd024",
   "metadata": {},
   "outputs": [
    {
     "name": "stdout",
     "output_type": "stream",
     "text": [
      "0번 진구\n",
      "1번 철수\n",
      "2번 미애\n",
      "3번 형구\n",
      "4번 진수\n"
     ]
    }
   ],
   "source": [
    "\n",
    "student = ('진구','철수','미애','형구','진수')\n",
    "for no, name in enumerate(student):\n",
    "    print(f'{no}번 {name}')\n",
    "\n"
   ]
  },
  {
   "cell_type": "code",
   "execution_count": 16,
   "id": "822bff79",
   "metadata": {},
   "outputs": [
    {
     "name": "stdout",
     "output_type": "stream",
     "text": [
      "홍길동의 키는 185입니다\n",
      "이몽룡의 키는 189입니다\n",
      "성춘향의 키는 168입니다\n"
     ]
    }
   ],
   "source": [
    "# items() 딕셔너리는 items() 함수를 사용하여 key와 value 값을 반환\n",
    "dict = {'홍길동':185, '이몽룡':189,'성춘향':168}\n",
    "\n",
    "# for i in dict:\n",
    "# print(f'{i}의 키는 {dict[i]}입니다')\n",
    "\n",
    "for n, h in dict.items():\n",
    "    print(f'{n}의 키는 {h}입니다')"
   ]
  },
  {
   "cell_type": "code",
   "execution_count": 18,
   "id": "b3a687d1",
   "metadata": {},
   "outputs": [
    {
     "data": {
      "text/plain": [
       "[0, 2, 4, 6, 8, 10, 12, 14, 16, 18]"
      ]
     },
     "execution_count": 18,
     "metadata": {},
     "output_type": "execute_result"
    }
   ],
   "source": [
    "# 리스트 내포\n",
    "\n",
    "array = []\n",
    "for i in range(0,20,2):\n",
    "    array.append(i)\n",
    "array    "
   ]
  },
  {
   "cell_type": "code",
   "execution_count": 21,
   "id": "8a20cb27",
   "metadata": {},
   "outputs": [
    {
     "name": "stdout",
     "output_type": "stream",
     "text": [
      "[0, 2, 4, 6, 8, 10, 12, 14, 16, 18]\n"
     ]
    }
   ],
   "source": [
    "array = [i for i in range(0,20,2)]\n",
    "print(array)"
   ]
  },
  {
   "cell_type": "code",
   "execution_count": 23,
   "id": "40acb2a4",
   "metadata": {},
   "outputs": [
    {
     "name": "stdout",
     "output_type": "stream",
     "text": [
      "[0, 2, 4, 6, 8, 10, 12, 14, 16, 18]\n"
     ]
    }
   ],
   "source": [
    "arry = ['사과','체리','바나나','과자']\n",
    "output = [ i for i in array if i !='과자']\n",
    "print(output)"
   ]
  },
  {
   "cell_type": "code",
   "execution_count": 26,
   "id": "83cf188b",
   "metadata": {},
   "outputs": [
    {
     "name": "stdout",
     "output_type": "stream",
     "text": [
      "<class 'dict'>\n"
     ]
    }
   ],
   "source": [
    "ab = {\"status\":\"0000\",\"data\":{\"opening_price\":\"45238000\",\"closing_price\":\"45229000\",\"min_price\":\"44074000\",\"max_price\":\"46062000\",\"units_traded\":\"2053.39400653\",\"acc_trade_value\":\"92815770183.6193\",\"prev_closing_price\":\"45211000\",\"units_traded_24H\":\"2637.23740305\",\"acc_trade_value_24H\":\"119100187325.7012\",\"fluctate_24H\":\"619000\",\"fluctate_rate_24H\":\"1.39\",\"date\":\"1643359607057\"}}\n",
    "\n",
    "print(type(ab['data']))\n"
   ]
  },
  {
   "cell_type": "code",
   "execution_count": null,
   "id": "23fc9b54",
   "metadata": {},
   "outputs": [],
   "source": []
  }
 ],
 "metadata": {
  "kernelspec": {
   "display_name": "Python 3 (ipykernel)",
   "language": "python",
   "name": "python3"
  },
  "language_info": {
   "codemirror_mode": {
    "name": "ipython",
    "version": 3
   },
   "file_extension": ".py",
   "mimetype": "text/x-python",
   "name": "python",
   "nbconvert_exporter": "python",
   "pygments_lexer": "ipython3",
   "version": "3.9.7"
  }
 },
 "nbformat": 4,
 "nbformat_minor": 5
}
