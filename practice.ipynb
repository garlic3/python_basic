{
  "nbformat": 4,
  "nbformat_minor": 0,
  "metadata": {
    "colab": {
      "name": "practice.ipynb",
      "provenance": [],
      "collapsed_sections": [],
      "authorship_tag": "ABX9TyOI78KFU/yOoOXolISVVIez",
      "include_colab_link": true
    },
    "kernelspec": {
      "name": "python3",
      "display_name": "Python 3"
    },
    "language_info": {
      "name": "python"
    }
  },
  "cells": [
    {
      "cell_type": "markdown",
      "metadata": {
        "id": "view-in-github",
        "colab_type": "text"
      },
      "source": [
        "<a href=\"https://colab.research.google.com/github/garlic3/ai/blob/main/practice.ipynb\" target=\"_parent\"><img src=\"https://colab.research.google.com/assets/colab-badge.svg\" alt=\"Open In Colab\"/></a>"
      ]
    },
    {
      "cell_type": "code",
      "execution_count": 4,
      "metadata": {
        "id": "r4CsHLidcvHH",
        "colab": {
          "base_uri": "https://localhost:8080/"
        },
        "outputId": "52885582-274e-4294-9818-70856a973fae"
      },
      "outputs": [
        {
          "output_type": "stream",
          "name": "stdout",
          "text": [
            "88.0\n"
          ]
        }
      ],
      "source": [
        "#1 파일 크기 계산\n",
        "r = 800 \n",
        "#kb/s\n",
        "t = 110\n",
        "result = r*t/1000\n",
        "# kb를 mb 단위로 변환\n",
        "print(result)\n"
      ]
    },
    {
      "cell_type": "code",
      "source": [
        "#2 제곱\n",
        "num = int(input('정수입력'))\n",
        "result = num*num\n",
        "print(result)"
      ],
      "metadata": {
        "colab": {
          "base_uri": "https://localhost:8080/"
        },
        "id": "52JXdxtlTOCQ",
        "outputId": "7af3b3d8-dfe6-4c14-d9b1-8977e2f47d52"
      },
      "execution_count": 5,
      "outputs": [
        {
          "output_type": "stream",
          "name": "stdout",
          "text": [
            "정수입력9\n",
            "81\n"
          ]
        }
      ]
    },
    {
      "cell_type": "code",
      "source": [
        "#3 입력받은 숫자만큼 반복\n",
        "num = int(input('정수입력'))\n",
        "count = 0\n",
        "while num != count :\n",
        "  print(num)\n",
        "  count += 1"
      ],
      "metadata": {
        "colab": {
          "base_uri": "https://localhost:8080/"
        },
        "id": "YxS4HdeOT1nc",
        "outputId": "1222bb72-2b99-4045-ef86-1d52356faac9"
      },
      "execution_count": 10,
      "outputs": [
        {
          "output_type": "stream",
          "name": "stdout",
          "text": [
            "정수입력3\n",
            "3\n",
            "3\n",
            "3\n"
          ]
        }
      ]
    },
    {
      "cell_type": "code",
      "source": [
        "#4 제곱표\n",
        "num = int(input('정수입력'))\n",
        "count = 1\n",
        "while num >= count:\n",
        "  print(count, count*count)\n",
        "  count += 1\n",
        "\n",
        "# num >= count 인 이유: \n",
        "# count += 1를 실행하고 While 구문을 빠져나가기 때문에 ==를 사용하면 안됨"
      ],
      "metadata": {
        "colab": {
          "base_uri": "https://localhost:8080/"
        },
        "id": "vLKlG56rU-tY",
        "outputId": "818f10ff-6193-4294-f100-6014d97bfe83"
      },
      "execution_count": 29,
      "outputs": [
        {
          "output_type": "stream",
          "name": "stdout",
          "text": [
            "정수입력3\n",
            "1 1\n",
            "2 4\n",
            "3 9\n"
          ]
        }
      ]
    },
    {
      "cell_type": "code",
      "source": [
        "#5 얌체공\n",
        "# 1 60.0\n",
        "# 2 36.0\n",
        "# 3 21.599999999999998\n",
        "# 4 12.959999999999999\n",
        "# 5 7.775999999999999\n",
        "# 6 4.6655999999999995\n",
        "# 7 2.7993599999999996\n",
        "# 8 1.6796159999999998\n",
        "# 9 1.0077695999999998\n",
        "# 10 0.6046617599999998\n",
        "\n",
        "h = 100\n",
        "count = 1\n",
        "while count <= 10:\n",
        "  ball = 100*(0.6**count)\n",
        "  print(f'{count}:{round(ball,4)}')\n",
        "  count += 1\n",
        "\n",
        "# 다른 방법도 생각해보자\n",
        "\n"
      ],
      "metadata": {
        "colab": {
          "base_uri": "https://localhost:8080/"
        },
        "id": "NXH7PtqDWtnw",
        "outputId": "075ebdff-ae34-440c-80aa-bf01d8925215"
      },
      "execution_count": 33,
      "outputs": [
        {
          "output_type": "stream",
          "name": "stdout",
          "text": [
            "1:60.0\n",
            "2:36.0\n",
            "3:21.6\n",
            "4:12.96\n",
            "5:7.776\n",
            "6:4.6656\n",
            "7:2.7994\n",
            "8:1.6796\n",
            "9:1.0078\n",
            "10:0.6047\n"
          ]
        }
      ]
    },
    {
      "cell_type": "code",
      "source": [
        ""
      ],
      "metadata": {
        "id": "OkupClLzaUVz"
      },
      "execution_count": null,
      "outputs": []
    }
  ]
}