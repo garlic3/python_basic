{
  "nbformat": 4,
  "nbformat_minor": 0,
  "metadata": {
    "colab": {
      "name": "practice.ipynb",
      "provenance": [],
      "collapsed_sections": [],
      "authorship_tag": "ABX9TyP1X6xMgV0+eJWZHsUqXxzI",
      "include_colab_link": true
    },
    "kernelspec": {
      "name": "python3",
      "display_name": "Python 3"
    },
    "language_info": {
      "name": "python"
    }
  },
  "cells": [
    {
      "cell_type": "markdown",
      "metadata": {
        "id": "view-in-github",
        "colab_type": "text"
      },
      "source": [
        "<a href=\"https://colab.research.google.com/github/garlic3/ai/blob/main/practice.ipynb\" target=\"_parent\"><img src=\"https://colab.research.google.com/assets/colab-badge.svg\" alt=\"Open In Colab\"/></a>"
      ]
    },
    {
      "cell_type": "code",
      "source": [
        "# 왕초보를 위한 Python"
      ],
      "metadata": {
        "id": "8F6TcSV9KNqr"
      },
      "execution_count": null,
      "outputs": []
    },
    {
      "cell_type": "code",
      "execution_count": null,
      "metadata": {
        "id": "r4CsHLidcvHH",
        "colab": {
          "base_uri": "https://localhost:8080/"
        },
        "outputId": "52885582-274e-4294-9818-70856a973fae"
      },
      "outputs": [
        {
          "output_type": "stream",
          "name": "stdout",
          "text": [
            "88.0\n"
          ]
        }
      ],
      "source": [
        "#1 파일 크기 계산\n",
        "r = 800 \n",
        "#kb/s\n",
        "t = 110\n",
        "result = r*t/1000\n",
        "# kb를 mb 단위로 변환\n",
        "print(result)\n"
      ]
    },
    {
      "cell_type": "code",
      "source": [
        "#2 제곱\n",
        "num = int(input('정수입력'))\n",
        "result = num*num\n",
        "print(result)"
      ],
      "metadata": {
        "colab": {
          "base_uri": "https://localhost:8080/"
        },
        "id": "52JXdxtlTOCQ",
        "outputId": "7af3b3d8-dfe6-4c14-d9b1-8977e2f47d52"
      },
      "execution_count": null,
      "outputs": [
        {
          "output_type": "stream",
          "name": "stdout",
          "text": [
            "정수입력9\n",
            "81\n"
          ]
        }
      ]
    },
    {
      "cell_type": "code",
      "source": [
        "# 입력 숫자 반복\n",
        "n = int(input('정수입력')) \n",
        "# 사용자로부터 정수 입력 받기\n",
        "for i in range(1, n+1):\n",
        "# 범위설정 range(시작, 끝-1)이므로 n+1을 해서 n까지 범위 설정  \n",
        "  print(n)\n",
        "# 입력받은 값 출력하기  \n",
        "\n",
        "#  range(시작, 끝)에서 시작 생략해도 되는 점 참고"
      ],
      "metadata": {
        "colab": {
          "base_uri": "https://localhost:8080/"
        },
        "id": "YxS4HdeOT1nc",
        "outputId": "1222bb72-2b99-4045-ef86-1d52356faac9"
      },
      "execution_count": null,
      "outputs": [
        {
          "output_type": "stream",
          "name": "stdout",
          "text": [
            "정수입력3\n",
            "3\n",
            "3\n",
            "3\n"
          ]
        }
      ]
    },
    {
      "cell_type": "code",
      "source": [
        "#4 제곱표\n",
        "num = int(input('정수입력'))\n",
        "count = 1\n",
        "while num >= count:\n",
        "  print(count, count*count)\n",
        "  count += 1\n",
        "\n",
        "# num >= count 인 이유: \n",
        "# count += 1를 실행하고 While 구문을 빠져나가기 때문에 ==를 사용하면 안됨"
      ],
      "metadata": {
        "colab": {
          "base_uri": "https://localhost:8080/"
        },
        "id": "vLKlG56rU-tY",
        "outputId": "818f10ff-6193-4294-f100-6014d97bfe83"
      },
      "execution_count": null,
      "outputs": [
        {
          "output_type": "stream",
          "name": "stdout",
          "text": [
            "정수입력3\n",
            "1 1\n",
            "2 4\n",
            "3 9\n"
          ]
        }
      ]
    },
    {
      "cell_type": "code",
      "source": [
        "#5 얌체공\n",
        "# 1 60.0\n",
        "# 2 36.0\n",
        "# 3 21.599999999999998\n",
        "# 4 12.959999999999999\n",
        "# 5 7.775999999999999\n",
        "# 6 4.6655999999999995\n",
        "# 7 2.7993599999999996\n",
        "# 8 1.6796159999999998\n",
        "# 9 1.0077695999999998\n",
        "# 10 0.6046617599999998\n",
        "\n",
        "h = 100\n",
        "count = 1\n",
        "while count <= 10:\n",
        "  ball = 100*(0.6**count)\n",
        "  print(f'{count}:{round(ball,4)}')\n",
        "  count += 1"
      ],
      "metadata": {
        "colab": {
          "base_uri": "https://localhost:8080/"
        },
        "id": "NXH7PtqDWtnw",
        "outputId": "075ebdff-ae34-440c-80aa-bf01d8925215"
      },
      "execution_count": null,
      "outputs": [
        {
          "output_type": "stream",
          "name": "stdout",
          "text": [
            "1:60.0\n",
            "2:36.0\n",
            "3:21.6\n",
            "4:12.96\n",
            "5:7.776\n",
            "6:4.6656\n",
            "7:2.7994\n",
            "8:1.6796\n",
            "9:1.0078\n",
            "10:0.6047\n"
          ]
        }
      ]
    },
    {
      "cell_type": "code",
      "source": [
        "#6 숫자읽기\n",
        "# 1<= n <= 3\n",
        "\n",
        "def num_reader(num):\n",
        "  if num ==  1:\n",
        "    return '일'\n",
        "  elif num == 2:\n",
        "    return '이'\n",
        "  else:\n",
        "    return '삼'\n",
        "\n",
        "num_reader(1)\n"
      ],
      "metadata": {
        "id": "XkSrlaU_Hyo9",
        "colab": {
          "base_uri": "https://localhost:8080/",
          "height": 35
        },
        "outputId": "b172f0eb-f4cf-44a0-e557-aaad17d5132b"
      },
      "execution_count": null,
      "outputs": [
        {
          "output_type": "execute_result",
          "data": {
            "application/vnd.google.colaboratory.intrinsic+json": {
              "type": "string"
            },
            "text/plain": [
              "'일'"
            ]
          },
          "metadata": {},
          "execution_count": 3
        }
      ]
    },
    {
      "cell_type": "code",
      "source": [
        "# 7 양수 덧셈\n",
        "\n",
        "sum = 0\n",
        "while True:\n",
        "# input 으로 정수 입력받기\n",
        "  n = int(input('정수입력'))\n",
        "# 입력받은 정수 합계 구하기\n",
        "  sum += n\n",
        "# 입력 받은 정수가 음수이면 break\n",
        "  if n < 0:\n",
        "    print(sum-n)\n",
        "# sum에서 음수 n의 값을 다시 더해주기\n",
        "    break\n",
        "\n",
        "    "
      ],
      "metadata": {
        "colab": {
          "base_uri": "https://localhost:8080/"
        },
        "id": "KgoD0kcnMri5",
        "outputId": "f725ee68-fc1e-4a6d-e5bb-405121257449"
      },
      "execution_count": null,
      "outputs": [
        {
          "output_type": "stream",
          "name": "stdout",
          "text": [
            "정수입력3\n",
            "정수입력5\n",
            "정수입력-1\n",
            "8\n"
          ]
        }
      ]
    },
    {
      "cell_type": "code",
      "source": [
        "# 윤년 판별\n",
        "# 서력 기원 연수가 4, 100, 400으로 나누어 떨어지는 해 윤년\n",
        "# 서력 기원 연수가 4, 100으로 나누어 떨어지는 해 평년\n",
        "\n",
        "def year_checker(year):\n",
        "  four = year % 4\n",
        "  hun = year % 100\n",
        "  four_hun = year % 400\n",
        "  if four == 0 and hun ==0 and four_hun == 0:\n",
        "    print('윤년') \n",
        "  elif four == 0 and hun == 0:\n",
        "    print('평년')\n",
        "  elif four == 0:\n",
        "    print('윤년')\n",
        "\n",
        "year_checker(2200)\n",
        "# if 조건문의 순서가 중요한 문제\n",
        "# 아쉬운점: 어차피 평년과 윤년 2가지 결과밖에 없기때문에 굳이 and를 사용하지 않았어도됨"
      ],
      "metadata": {
        "colab": {
          "base_uri": "https://localhost:8080/"
        },
        "id": "oNWsous6VSYp",
        "outputId": "27cc4cd1-b920-4818-be8e-1eb618b1fa4f"
      },
      "execution_count": 23,
      "outputs": [
        {
          "output_type": "stream",
          "name": "stdout",
          "text": [
            "평년\n"
          ]
        }
      ]
    },
    {
      "cell_type": "code",
      "source": [
        "# 화학 실험\n",
        "s_tem = input('안전 온도입력')\n",
        "min, max = s_tem.split()\n",
        "# split() 으로 변수에 할당시키기\n",
        "while True:\n",
        "  tem = input('온도입력')\n",
        "  if tem > max:\n",
        "    print('alert!')\n",
        "    break\n",
        "  elif tem == '-999':\n",
        "    break\n",
        "  else:\n",
        "    print('Nothing to report')"
      ],
      "metadata": {
        "colab": {
          "base_uri": "https://localhost:8080/"
        },
        "id": "j6IgJpbdanGR",
        "outputId": "14b095bd-b871-438d-a75d-3d4cdeb27d81"
      },
      "execution_count": 33,
      "outputs": [
        {
          "name": "stdout",
          "output_type": "stream",
          "text": [
            "안전 온도입력10 20\n",
            "온도입력15\n",
            "Nothing to report\n",
            "온도입력10\n",
            "Nothing to report\n",
            "온도입력20\n",
            "Nothing to report\n",
            "온도입력0\n",
            "Nothing to report\n",
            "온도입력15\n",
            "Nothing to report\n",
            "온도입력-999\n"
          ]
        }
      ]
    },
    {
      "cell_type": "code",
      "source": [
        "# 구구단\n",
        "n = 2\n",
        "while n < 10:\n",
        "  for i in range(1, 10):\n",
        "    print(f'{n} * {i} = {n*i}')\n",
        "  n += 1"
      ],
      "metadata": {
        "id": "b4DARgA9blNk"
      },
      "execution_count": null,
      "outputs": []
    },
    {
      "cell_type": "code",
      "source": [
        "# 구구단 함수로 만들어보기\n",
        "def ggd(dan):\n",
        "  for i in range(1,10):\n",
        "    print(f'{dan} * {i} = {dan*i}')\n",
        "\n",
        "ggd(2)"
      ],
      "metadata": {
        "colab": {
          "base_uri": "https://localhost:8080/"
        },
        "id": "D-0_zjW7iyAS",
        "outputId": "c2f2a6e5-4abb-40e7-d88b-71694dab4185"
      },
      "execution_count": 50,
      "outputs": [
        {
          "output_type": "stream",
          "name": "stdout",
          "text": [
            "2 * 1 = 2\n",
            "2 * 2 = 4\n",
            "2 * 3 = 6\n",
            "2 * 4 = 8\n",
            "2 * 5 = 10\n",
            "2 * 6 = 12\n",
            "2 * 7 = 14\n",
            "2 * 8 = 16\n",
            "2 * 9 = 18\n"
          ]
        }
      ]
    },
    {
      "cell_type": "code",
      "source": [
        "# 숫자읽기\n",
        "\n",
        "def korean_number(num):\n",
        "  korean = '일이삼사오육칠팔구십'\n",
        "# 원하는 문자를 문장으로 합치기\n",
        "  result = korean[num-1]\n",
        "# 입력하는 정수 -1 은 문장의 인덱스 값 \n",
        "  return result\n",
        "\n",
        "korean_number(3)"
      ],
      "metadata": {
        "colab": {
          "base_uri": "https://localhost:8080/",
          "height": 35
        },
        "id": "Y9VNEXhmi9LV",
        "outputId": "19a878f5-a8a9-448c-9198-1c9554c1da8f"
      },
      "execution_count": 53,
      "outputs": [
        {
          "output_type": "execute_result",
          "data": {
            "application/vnd.google.colaboratory.intrinsic+json": {
              "type": "string"
            },
            "text/plain": [
              "'삼'"
            ]
          },
          "metadata": {},
          "execution_count": 53
        }
      ]
    },
    {
      "cell_type": "code",
      "source": [
        "# 함수\n",
        "def triple(x):\n",
        "  return x*3\n",
        "\n",
        "triple('x')\n"
      ],
      "metadata": {
        "colab": {
          "base_uri": "https://localhost:8080/",
          "height": 35
        },
        "id": "CBCqrgwcjkCn",
        "outputId": "20921fba-7f34-4efe-e238-3b99d96f38d3"
      },
      "execution_count": 56,
      "outputs": [
        {
          "output_type": "execute_result",
          "data": {
            "application/vnd.google.colaboratory.intrinsic+json": {
              "type": "string"
            },
            "text/plain": [
              "'xxx'"
            ]
          },
          "metadata": {},
          "execution_count": 56
        }
      ]
    },
    {
      "cell_type": "code",
      "source": [
        "# 함수2\n",
        "from datetime import datetime\n",
        "today = datetime.today()\n",
        "\n",
        "def korean_age(age):\n",
        "  y = today.year \n",
        "# 현재 연도 구하기  \n",
        "  result = y - age + 1\n",
        "# 나이 = 현재연도 - 출생년 + 1 \n",
        "  return result\n",
        "\n",
        "korean_age(1990)"
      ],
      "metadata": {
        "colab": {
          "base_uri": "https://localhost:8080/"
        },
        "id": "8qCPYYE3kSsJ",
        "outputId": "9c9f9ef5-6679-4546-ff55-19bb187d7757"
      },
      "execution_count": 59,
      "outputs": [
        {
          "output_type": "execute_result",
          "data": {
            "text/plain": [
              "33"
            ]
          },
          "metadata": {},
          "execution_count": 59
        }
      ]
    },
    {
      "cell_type": "code",
      "source": [
        ""
      ],
      "metadata": {
        "id": "fL4o1BU_k9FL"
      },
      "execution_count": null,
      "outputs": []
    }
  ]
}