{
  "nbformat": 4,
  "nbformat_minor": 0,
  "metadata": {
    "colab": {
      "name": "day15.ipynb",
      "provenance": [],
      "authorship_tag": "ABX9TyMUcpWNARAwnR9MfS/YVpPB",
      "include_colab_link": true
    },
    "kernelspec": {
      "name": "python3",
      "display_name": "Python 3"
    },
    "language_info": {
      "name": "python"
    }
  },
  "cells": [
    {
      "cell_type": "markdown",
      "metadata": {
        "id": "view-in-github",
        "colab_type": "text"
      },
      "source": [
        "<a href=\"https://colab.research.google.com/github/garlic3/ai/blob/main/day15.ipynb\" target=\"_parent\"><img src=\"https://colab.research.google.com/assets/colab-badge.svg\" alt=\"Open In Colab\"/></a>"
      ]
    },
    {
      "cell_type": "code",
      "source": [
        "# \n",
        "li = ['유퀴즈','6시내고향','1박2일','무한도전']\n",
        "for i in li:\n",
        "  print(i)\n",
        "q = input('Enter another Tv show')\n",
        "q2 = int(input('Enter a number between 0 and 3'))\n",
        "li.insert(q2,q)\n",
        "print(li)   "
      ],
      "metadata": {
        "colab": {
          "base_uri": "https://localhost:8080/"
        },
        "id": "AK80bYOYP5JL",
        "outputId": "b88ac0b8-e4f2-4f4c-dad7-6dc373670d34"
      },
      "execution_count": 10,
      "outputs": [
        {
          "output_type": "stream",
          "name": "stdout",
          "text": [
            "유퀴즈\n",
            "6시내고향\n",
            "1박2일\n",
            "무한도전\n",
            "Enter another Tv show펜트하우스\n",
            "Enter a number between 0 and 31\n",
            "['유퀴즈', '펜트하우스', '6시내고향', '1박2일', '무한도전']\n"
          ]
        }
      ]
    },
    {
      "cell_type": "code",
      "execution_count": 2,
      "metadata": {
        "colab": {
          "base_uri": "https://localhost:8080/"
        },
        "id": "roTQM61_EiT_",
        "outputId": "e38a93bf-3cc8-4ad0-9030-6975ddddfb2e"
      },
      "outputs": [
        {
          "output_type": "stream",
          "name": "stdout",
          "text": [
            "Enter the number3\n",
            "[3]\n",
            "Enter the number2\n",
            "[3, 2]\n",
            "Enter the number1\n",
            "[3, 2, 1]\n",
            "Do you want to save last number?no\n",
            "[3, 2]\n"
          ]
        }
      ],
      "source": [
        "# \n",
        "nums = []\n",
        "\n",
        "for i in range(3):\n",
        "  n = int(input('Enter the number'))\n",
        "  nums.append(n)\n",
        "  print(nums)\n",
        "q = input('Do you want to save last number?')\n",
        "if q.lower() == 'no':\n",
        "  del nums[-1]\n",
        "print(nums)\n"
      ]
    },
    {
      "cell_type": "code",
      "source": [
        "# \n",
        "q =''\n",
        "while q.isupper() == False:\n",
        "  q = input('Enter a word')"
      ],
      "metadata": {
        "colab": {
          "base_uri": "https://localhost:8080/"
        },
        "id": "VMNsdo6YR9fg",
        "outputId": "784de0c8-7eaf-47c8-9a7f-f15feda2d75d"
      },
      "execution_count": 8,
      "outputs": [
        {
          "output_type": "stream",
          "name": "stdout",
          "text": [
            "Enter a wordd\n",
            "Try again\n",
            "Enter a wordT\n",
            "Try again\n"
          ]
        }
      ]
    },
    {
      "cell_type": "code",
      "source": [
        "# \n",
        "p = input('Enter a new password')\n",
        "p2 = input('Enter a new password again')\n",
        "if p == p2:\n",
        "  print('Thank you')\n",
        "elif p.lower() == p2.lower():\n",
        "  print('They must be in the same case')  \n",
        "else:\n",
        "  print('Incorrect')    "
      ],
      "metadata": {
        "colab": {
          "base_uri": "https://localhost:8080/"
        },
        "id": "NFJvjCeSSpAo",
        "outputId": "679be8b4-41d3-4900-8278-918d3763f803"
      },
      "execution_count": 18,
      "outputs": [
        {
          "output_type": "stream",
          "name": "stdout",
          "text": [
            "Enter a new passwordaa193\n",
            "Enter a new password againaa193\n",
            "Thank you\n"
          ]
        }
      ]
    }
  ]
}