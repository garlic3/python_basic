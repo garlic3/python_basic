{
  "nbformat": 4,
  "nbformat_minor": 0,
  "metadata": {
    "colab": {
      "name": "day2.ipynb",
      "provenance": [],
      "authorship_tag": "ABX9TyM0i6BIE5MYK9UlURBGudMu",
      "include_colab_link": true
    },
    "kernelspec": {
      "name": "python3",
      "display_name": "Python 3"
    },
    "language_info": {
      "name": "python"
    }
  },
  "cells": [
    {
      "cell_type": "markdown",
      "metadata": {
        "id": "view-in-github",
        "colab_type": "text"
      },
      "source": [
        "<a href=\"https://colab.research.google.com/github/garlic3/ai/blob/main/day2.ipynb\" target=\"_parent\"><img src=\"https://colab.research.google.com/assets/colab-badge.svg\" alt=\"Open In Colab\"/></a>"
      ]
    },
    {
      "cell_type": "code",
      "execution_count": null,
      "metadata": {
        "id": "TSOXG4h0FYlY"
      },
      "outputs": [],
      "source": [
        "'''주석의 위치\n",
        "코드의 윗쪽 또는 오른쪽에 주석을 붙인다\n",
        "\n",
        "변수 이름 붙이는 방법\n",
        "스네이크 케이스\n",
        "카멜 케이스\n",
        "\n",
        "*콜랩 뭔가 이상하면\n",
        "restart and run all 실행\n",
        "\n",
        "1. 리스트(list)\n",
        "자료들 여러개를 모아서 사용할수 있음\n",
        "가능하면 자료형 혼합해서 사용하지 말것\n",
        "인덱싱과 슬라이싱이 가능하다\n",
        "mutable = 수정 가능\n",
        "리스트끼리 연산 가능\n",
        "[start:end:step] end는 미만\n",
        "indexing -> 비파괴적 pop ->파괴적\n",
        "\n",
        "2. 튜플\n",
        "3. 딕셔너리\n",
        "4. 셋'''\n",
        "\n",
        "list_a = [1,2,3,4,5]\n",
        "list_b = [6,7,8,9,10]"
      ]
    },
    {
      "cell_type": "code",
      "source": [
        "#리스트 연산\n",
        "print(list_a + list_b)\n",
        "print(list_a*3)"
      ],
      "metadata": {
        "id": "zBuy8sPeJUDY"
      },
      "execution_count": null,
      "outputs": []
    },
    {
      "cell_type": "code",
      "source": [
        "#리스트에 주로 사용되는 함수들\n",
        "# 1.len() 리스트 길이재기\n",
        "print(len(list_a))"
      ],
      "metadata": {
        "id": "ShdPdnHNJXtH"
      },
      "execution_count": null,
      "outputs": []
    },
    {
      "cell_type": "code",
      "source": [
        "#리스트에 요소 추가하기\n",
        "# 2. appen() 마지막 위치에 추가됨\n",
        "print(list_a)\n",
        "list_a.append(11)\n",
        "print(list_a)"
      ],
      "metadata": {
        "colab": {
          "base_uri": "https://localhost:8080/"
        },
        "id": "C7_9iSsZJbxy",
        "outputId": "2ca1e494-3f19-4f29-aacf-81157b339efd"
      },
      "execution_count": null,
      "outputs": [
        {
          "output_type": "stream",
          "name": "stdout",
          "text": [
            "[1, 2, 3, 4, 5]\n",
            "[1, 2, 3, 4, 5, 11]\n"
          ]
        }
      ]
    },
    {
      "cell_type": "code",
      "source": [
        "# 3.insert() 특정 위치를 지정하여 추가가능(몇번째로 지정)->인덱싱과 차이 있음!\n",
        "print(list_a)\n",
        "list_a.insert(3,10)\n",
        "print(list_a)"
      ],
      "metadata": {
        "colab": {
          "base_uri": "https://localhost:8080/"
        },
        "id": "Ffe1HpTsJorf",
        "outputId": "3f22732d-d500-4653-a369-d801dff60135"
      },
      "execution_count": null,
      "outputs": [
        {
          "output_type": "stream",
          "name": "stdout",
          "text": [
            "[1, 2, 3, 11, 4, 5, 11]\n",
            "[1, 2, 3, 10, 11, 4, 5, 11]\n"
          ]
        }
      ]
    },
    {
      "cell_type": "code",
      "source": [
        "# 4.extend() 한번에 여러개를 추가하기 -> 파괴적 처리 / 자료 사용시 비 파괴적으로 사용하는것이 바람직하다\n",
        "list_a = [1,2,3]\n",
        "list_b = [4,5,6]\n",
        "print(list_a+list_b) # 비파괴적 처리\n",
        "\n",
        "list_a.extend([4,5,6]) #파괴적 처리\n",
        "print(list_a)"
      ],
      "metadata": {
        "colab": {
          "base_uri": "https://localhost:8080/"
        },
        "id": "TcRiByoEKsbS",
        "outputId": "bf337e5a-5ce9-4ab1-8bf6-d6ce410b8be3"
      },
      "execution_count": null,
      "outputs": [
        {
          "output_type": "stream",
          "name": "stdout",
          "text": [
            "[1, 2, 3, 4, 5, 6]\n",
            "[1, 2, 3, 4, 5, 6]\n"
          ]
        }
      ]
    },
    {
      "cell_type": "code",
      "source": [
        "# 5.del() 리스트에서 데이터 삭제 -> 인덱스 위치로 데이터 삭제 / 슬라이싱이 가능함\n",
        "list_a = [0,1,2,3]\n",
        "del list_a[1]\n",
        "print(list_a)\n",
        "del list_a[0:1]\n",
        "print(list_a)\n",
        "del list_a[:] # 모두 삭제하기\n",
        "print(list_a)\n",
        "# list_a.clear() 리스트 요소를 전부 한번에 삭제"
      ],
      "metadata": {
        "colab": {
          "base_uri": "https://localhost:8080/"
        },
        "id": "M5q5m_ZNMyP1",
        "outputId": "923a62a0-57d4-4fbf-e969-cb64b431832a"
      },
      "execution_count": null,
      "outputs": [
        {
          "output_type": "stream",
          "name": "stdout",
          "text": [
            "[0, 2, 3]\n",
            "[2, 3]\n",
            "[]\n"
          ]
        }
      ]
    },
    {
      "cell_type": "code",
      "source": [
        "# 6.pop() 리스트에서 마지막 위치 데이터 삭제->위치 지정가능(인덱스 위치로 데이터 삭제)\n",
        "list_a = [0,1,2,3,4,5]\n",
        "\n",
        "list_a.pop()\n",
        "print(list_a)\n",
        "\n",
        "list_a.pop()\n",
        "print(list_a)"
      ],
      "metadata": {
        "colab": {
          "base_uri": "https://localhost:8080/"
        },
        "id": "Le1QLejFNTZK",
        "outputId": "fdc72fb4-f901-455a-efad-55f2202013eb"
      },
      "execution_count": null,
      "outputs": [
        {
          "output_type": "stream",
          "name": "stdout",
          "text": [
            "[0, 1, 2, 3, 4]\n",
            "[0, 1, 2, 3]\n"
          ]
        }
      ]
    },
    {
      "cell_type": "code",
      "source": [
        "# 8. in / not in 리스트에 존재하는 요소인지를 확인\n",
        "list_a = [111,222,333,444,555]\n",
        "111 in list_a"
      ],
      "metadata": {
        "colab": {
          "base_uri": "https://localhost:8080/"
        },
        "id": "wKDzgMYOQkiA",
        "outputId": "97c5e802-1cae-4d63-f7d9-16e38380f1d9"
      },
      "execution_count": null,
      "outputs": [
        {
          "output_type": "execute_result",
          "data": {
            "text/plain": [
              "True"
            ]
          },
          "metadata": {},
          "execution_count": 24
        }
      ]
    },
    {
      "cell_type": "code",
      "source": [
        "# 7.remove() 리스트에서 요소의 값을 찾아 삭제 / 동일한 값이 있을경우 순차적으로 삭제 \n",
        "# -> 한번에 여러개 삭제하려면 반복문 사용\n",
        "list_c = [1,2,1,2]\n",
        "\n",
        "list_c.remove(2)\n",
        "print(list_c)\n",
        "\n",
        "list_c.remove(2)\n",
        "print(list_c)"
      ],
      "metadata": {
        "colab": {
          "base_uri": "https://localhost:8080/"
        },
        "id": "_Sq1DffsOnt_",
        "outputId": "f8d8fdb2-3027-4edb-d62d-71bfa607fd39"
      },
      "execution_count": null,
      "outputs": [
        {
          "output_type": "stream",
          "name": "stdout",
          "text": [
            "[1, 1, 2]\n",
            "[1, 1]\n"
          ]
        }
      ]
    },
    {
      "cell_type": "code",
      "source": [
        "# dict 딕셔너리(java의 map, js의 json과 유사한 자료구조)\n",
        "# 리스트: 인덱스를 기반으로 값 저장 / 딕셔너리: 키값을 기반으로 값 저장\n",
        "# 수정가능. 순서가 없으므로 인덱싱과 슬라이싱이 불가능하다 dict[key]=value\n",
        "\n"
      ],
      "metadata": {
        "id": "WoSmlUsqjn-P"
      },
      "execution_count": null,
      "outputs": []
    },
    {
      "cell_type": "code",
      "source": [
        "dict = {\n",
        "    \"name\":\"건조 망고\",\n",
        "    \"type\":\"절임 과일\",\n",
        "    \"ingredient\":[\"망고\", \"설탕\", \"색소\"],\n",
        "    \"origin\":\"필리핀\"\n",
        "}\n",
        "print(\"name:\", dict[\"name\"])\n",
        "print(\"type:\", dict[\"type\"])\n",
        "print(\"ingredient:\", dict[\"ingredient\"])\n",
        "print(\"origin:\", dict[\"origin\"])\n",
        "print(dict[\"ingredient\"][1])\n",
        "\n",
        "del dict[\"origin\"]\n",
        "print(dict)\n",
        "\n"
      ],
      "metadata": {
        "colab": {
          "base_uri": "https://localhost:8080/"
        },
        "id": "kD1O6wWBmMm-",
        "outputId": "26a18134-f791-4580-df12-4044e0585a52"
      },
      "execution_count": 30,
      "outputs": [
        {
          "output_type": "stream",
          "name": "stdout",
          "text": [
            "name: 건조 망고\n",
            "type: 절임 과일\n",
            "ingredient: ['망고', '설탕', '색소']\n",
            "origin: 필리핀\n",
            "설탕\n",
            "{'name': '건조 망고', 'type': '절임 과일', 'ingredient': ['망고', '설탕', '색소']}\n",
            "name: 망고\n"
          ]
        }
      ]
    },
    {
      "cell_type": "code",
      "source": [
        "# dict 자주 등장하는 에러(예외처리)\n",
        "\n",
        "# keyError 존재하지 않는 키값을 사용하면 발생되는 에러 "
      ],
      "metadata": {
        "id": "qAXrnfpopScX"
      },
      "execution_count": null,
      "outputs": []
    },
    {
      "cell_type": "code",
      "source": [
        "# 튜플 tuple\n",
        "\n",
        "# ()를 사용하여 작성\n",
        "# 튜플은 삽입 수정이 불가(immutable) \n",
        "# 튜플은 1개의 원소로 작성할때는 , 를 삽입한다. (1,) [1] -> 괄호를 생략할수 있어 int로 구별될 수 있음\n",
        "# 튜플은 삭제가 불가능하다 -> 인덱싱, 슬라이싱(비 파괴적 처리 가능)\n",
        "t1 = (1,2,3)\n",
        "t2 = (4,5,6)\n",
        "\n",
        "print(t1+t2) #비 파괴적 연산 가능\n",
        "print(t1*3)"
      ],
      "metadata": {
        "colab": {
          "base_uri": "https://localhost:8080/"
        },
        "id": "i7N7Uo36tkd2",
        "outputId": "b8770583-396b-4bc6-ec8e-ebf21ffd9ece"
      },
      "execution_count": 32,
      "outputs": [
        {
          "output_type": "stream",
          "name": "stdout",
          "text": [
            "(1, 2, 3, 4, 5, 6)\n",
            "(1, 2, 3, 1, 2, 3, 1, 2, 3)\n"
          ]
        }
      ]
    },
    {
      "cell_type": "code",
      "source": [
        "# 셋 Set \n",
        "# {}를 사용하여 작성\n",
        "# 중복을 허용하지 않음-> 입력은 되는데 출력시키면 사라짐, 순서가 없음, 인덱싱이나 슬라이싱 사용 불가능\n",
        "# set자료형에 저장된 값을 꺼내려면 리스트나 튜플로 변환하여 사용\n",
        "# mutable 수정, 삭제가 가능\n",
        "s1 = set([1,1,2,2,3,3])\n",
        "print(type(s1))\n",
        "print(s1)\n",
        "\n",
        "li = list(s1)\n",
        "print(type(li))\n",
        "print(li)"
      ],
      "metadata": {
        "colab": {
          "base_uri": "https://localhost:8080/"
        },
        "id": "HgehaVTF08r_",
        "outputId": "ac7c7049-6f5a-4987-cfb1-a5a4c922c292"
      },
      "execution_count": 34,
      "outputs": [
        {
          "output_type": "stream",
          "name": "stdout",
          "text": [
            "<class 'set'>\n",
            "{1, 2, 3}\n",
            "<class 'list'>\n",
            "[1, 2, 3]\n"
          ]
        }
      ]
    },
    {
      "cell_type": "code",
      "source": [
        "# 집합계산\n",
        "\n",
        "set1 = {1,2,3}\n",
        "set2 = {2,3,4}\n",
        "\n",
        "print(type(set1))\n",
        "print(type(set2))\n",
        "\n",
        "# 교집합 찾기\n",
        "print(set1 & set2) \n",
        "print(set1.intersection(set2))\n",
        "\n",
        "# 합집합 찾기\n",
        "print(set1 | set2)\n",
        "print(set1.union(set2))\n",
        "\n",
        "# 차집합 찾기\n",
        "print(set1 - set2)\n",
        "print(set1.difference(set2))"
      ],
      "metadata": {
        "colab": {
          "base_uri": "https://localhost:8080/"
        },
        "id": "poP_g6aR4-t3",
        "outputId": "30c01986-6048-4ec0-8235-6b7da9097039"
      },
      "execution_count": 1,
      "outputs": [
        {
          "output_type": "stream",
          "name": "stdout",
          "text": [
            "<class 'set'>\n",
            "<class 'set'>\n",
            "{2, 3}\n",
            "{2, 3}\n",
            "{1, 2, 3, 4}\n",
            "{1, 2, 3, 4}\n",
            "{1}\n",
            "{1}\n"
          ]
        }
      ]
    },
    {
      "cell_type": "code",
      "source": [
        "# \n",
        "set1 = {1,2,3}\n",
        "print(set1)\n",
        "set1.add(4)\n",
        "print(set1)\n",
        "\n",
        "set1.update([5,6,7,8])\n",
        "print(set1)\n",
        "\n",
        "# 삭제 가능 -> 인덱스 개념이 존재하지 않으므로 value 삭제\n",
        "set1.remove(4)\n",
        "print(set1)"
      ],
      "metadata": {
        "colab": {
          "base_uri": "https://localhost:8080/"
        },
        "id": "NhkcJkry666A",
        "outputId": "0cd75c5a-0695-4c51-9a99-377d0c458601"
      },
      "execution_count": 47,
      "outputs": [
        {
          "output_type": "stream",
          "name": "stdout",
          "text": [
            "{1, 2, 3}\n",
            "{1, 2, 3, 4}\n",
            "{1, 2, 3, 4, 5, 6, 7, 8}\n"
          ]
        }
      ]
    },
    {
      "cell_type": "code",
      "source": [
        "# Q1.학번 31025\n",
        "number = list(input(\"학번을 입력하세요(5자리숫자)\"))\n",
        "print(f\"{number[0]}학년 {number[1]+number[2]}반 {number[3]+number[4]}번\")\n",
        "# sn = input(\"학번을 입력하세요\")\n",
        "# print(f\"{sn[0]}학년 {sn[1:3]}반 {sn[3:]}번)"
      ],
      "metadata": {
        "colab": {
          "base_uri": "https://localhost:8080/"
        },
        "id": "vW7ZuP2v74-y",
        "outputId": "6defc1fc-ea0f-4f67-b08f-4491ed215d19"
      },
      "execution_count": 9,
      "outputs": [
        {
          "output_type": "stream",
          "name": "stdout",
          "text": [
            "학번을 입력하세요(5자리숫자)12345\n",
            "1학년 23반 45번\n"
          ]
        }
      ]
    },
    {
      "cell_type": "code",
      "source": [
        "# Q2. 차량번호\n",
        "number = input(\"차량번호를 입력하세요\")\n",
        "print(f\"{number}의 차량번호 끝자리 4자리는 {number[-4:]}입니다\")"
      ],
      "metadata": {
        "colab": {
          "base_uri": "https://localhost:8080/"
        },
        "id": "21QVWkUmCOlf",
        "outputId": "7c66fcd3-04fc-40cd-a034-d92968ab4603"
      },
      "execution_count": 15,
      "outputs": [
        {
          "output_type": "stream",
          "name": "stdout",
          "text": [
            "차량번호를 입력하세요288가1345\n",
            "288가1345의 차량번호 끝자리 4자리는 1345입니다\n"
          ]
        }
      ]
    },
    {
      "cell_type": "code",
      "source": [
        "# Q3. \n",
        "#name = \"austin\" 가운데 글자를 추출하기\n",
        "s = input(\"홀수 갯수의 문자열을 입력하세요\")\n",
        "h = int((len(s)/2)) # len(s)//2 -> 몫만 추출 len(s)%2 -> 나머지만 추출\n",
        "print(f\"문자열의 가운데의 글자는 {s[h]}\")"
      ],
      "metadata": {
        "colab": {
          "base_uri": "https://localhost:8080/"
        },
        "id": "d4U5pYSnDtlX",
        "outputId": "f8b7e692-9d98-49a0-9316-9be9392f43f5"
      },
      "execution_count": 22,
      "outputs": [
        {
          "output_type": "stream",
          "name": "stdout",
          "text": [
            "홀수 갯수의 문자열을 입력하세요abc\n",
            "문자열의 가운데의 글자는 b\n"
          ]
        }
      ]
    },
    {
      "cell_type": "code",
      "source": [
        "# Q4.[1,2,3,4,5,6,7,8,9] 의 3번째 요소부터 7번째요소만 추출\n",
        "a = [1,2,3,4,5,6,7,8,9]\n",
        "print(a[2:7][1])"
      ],
      "metadata": {
        "colab": {
          "base_uri": "https://localhost:8080/"
        },
        "id": "eGGAToG_Hwlw",
        "outputId": "b642fa24-c90f-4132-f470-f7d010e06eba"
      },
      "execution_count": 29,
      "outputs": [
        {
          "output_type": "stream",
          "name": "stdout",
          "text": [
            "4\n"
          ]
        }
      ]
    },
    {
      "cell_type": "code",
      "source": [
        "# if \n",
        "# 특정 조건을 만족하는지 여부에 따라 실행되는 코드가 달려져야 할때 사용\n",
        "# if 조건식: 만족할때 실행코드\n",
        "# else: 만족하지 못할때 실행코드"
      ],
      "metadata": {
        "id": "wLfsci1XMwOT"
      },
      "execution_count": null,
      "outputs": []
    },
    {
      "cell_type": "code",
      "source": [
        "score = int(input(\"당신의 점수를 입력하세요\"))\n",
        "if 90 <= score <= 100 :\n",
        "  print(f\"당신의 점수는 {score}점 이고 학점은 A학점입니다 \")\n",
        "elif 80 <= score <90 :\n",
        "  print(f\"당신의 점수는 {score}점 이고 학점은 B학점입니다 \")\n",
        "elif 70 <= score <80 :\n",
        "  print(f\"당신의 점수는 {score}점 이고 학점은 C학점입니다 \")\n",
        "elif 60 <= score <70 :\n",
        "  print(f\"당신의 점수는 {score}점 이고 학점은 D학점입니다 \")\n",
        "elif 0< score < 60:\n",
        "  print(f\"당신의 점수는 {score}점 이고 학점은 F학점입니다 \")\n",
        "else:\n",
        "  print(f\"점수를 잘못 입력했습니다\")\n"
      ],
      "metadata": {
        "colab": {
          "base_uri": "https://localhost:8080/"
        },
        "id": "VY4GhSVUPStv",
        "outputId": "8a81ac8d-d531-44b2-db7e-fe8a0f644d0a"
      },
      "execution_count": 42,
      "outputs": [
        {
          "output_type": "stream",
          "name": "stdout",
          "text": [
            "당신의 점수를 입력하세요60\n",
            "당신의 점수는 60점 이고 학점은 D학점입니다 \n"
          ]
        }
      ]
    },
    {
      "cell_type": "code",
      "source": [
        "n = int(input(\"정수를 입력하세요\"))\n",
        "r = \"\"\n",
        "if n%3 !=0:\n",
        "  r = \"가 아닙니다\"\n",
        "else: \n",
        "  r =\"입니다\"\n",
        "\n",
        "print(f\"{n}은 3의 배수{r}\")  "
      ],
      "metadata": {
        "colab": {
          "base_uri": "https://localhost:8080/"
        },
        "id": "iQdkCAXTT77-",
        "outputId": "af169cf8-3f4b-412e-bd70-597382fd6c33"
      },
      "execution_count": 44,
      "outputs": [
        {
          "output_type": "stream",
          "name": "stdout",
          "text": [
            "정수를 입력하세요12\n",
            "12은 3의 배수입니다\n"
          ]
        }
      ]
    },
    {
      "cell_type": "code",
      "source": [
        "#모범답안\n",
        "a = int(input(\"정수 1 입력\"))\n",
        "b = int(input(\"정수 2 입력\"))\n",
        "c = int(input(\"정수 3 입력\"))\n",
        "big = \"\"\n",
        "\n",
        "if a>b & a > c:\n",
        "  big = a\n",
        "elif b > c:\n",
        "  big = b\n",
        "else: \n",
        "  big = c  \n",
        "\n",
        "print(f\"가장 큰수는 {big} 입니다\")"
      ],
      "metadata": {
        "colab": {
          "base_uri": "https://localhost:8080/",
          "height": 602
        },
        "id": "sI21cHIrVFCP",
        "outputId": "d29d9589-a7d7-4648-c976-ec96a1be989e"
      },
      "execution_count": 59,
      "outputs": [
        {
          "output_type": "error",
          "ename": "KeyboardInterrupt",
          "evalue": "ignored",
          "traceback": [
            "\u001b[0;31m---------------------------------------------------------------------------\u001b[0m",
            "\u001b[0;31mKeyboardInterrupt\u001b[0m                         Traceback (most recent call last)",
            "\u001b[0;32m/usr/local/lib/python3.7/dist-packages/ipykernel/kernelbase.py\u001b[0m in \u001b[0;36m_input_request\u001b[0;34m(self, prompt, ident, parent, password)\u001b[0m\n\u001b[1;32m    728\u001b[0m             \u001b[0;32mtry\u001b[0m\u001b[0;34m:\u001b[0m\u001b[0;34m\u001b[0m\u001b[0;34m\u001b[0m\u001b[0m\n\u001b[0;32m--> 729\u001b[0;31m                 \u001b[0mident\u001b[0m\u001b[0;34m,\u001b[0m \u001b[0mreply\u001b[0m \u001b[0;34m=\u001b[0m \u001b[0mself\u001b[0m\u001b[0;34m.\u001b[0m\u001b[0msession\u001b[0m\u001b[0;34m.\u001b[0m\u001b[0mrecv\u001b[0m\u001b[0;34m(\u001b[0m\u001b[0mself\u001b[0m\u001b[0;34m.\u001b[0m\u001b[0mstdin_socket\u001b[0m\u001b[0;34m,\u001b[0m \u001b[0;36m0\u001b[0m\u001b[0;34m)\u001b[0m\u001b[0;34m\u001b[0m\u001b[0;34m\u001b[0m\u001b[0m\n\u001b[0m\u001b[1;32m    730\u001b[0m             \u001b[0;32mexcept\u001b[0m \u001b[0mException\u001b[0m\u001b[0;34m:\u001b[0m\u001b[0;34m\u001b[0m\u001b[0;34m\u001b[0m\u001b[0m\n",
            "\u001b[0;32m/usr/local/lib/python3.7/dist-packages/jupyter_client/session.py\u001b[0m in \u001b[0;36mrecv\u001b[0;34m(self, socket, mode, content, copy)\u001b[0m\n\u001b[1;32m    802\u001b[0m         \u001b[0;32mtry\u001b[0m\u001b[0;34m:\u001b[0m\u001b[0;34m\u001b[0m\u001b[0;34m\u001b[0m\u001b[0m\n\u001b[0;32m--> 803\u001b[0;31m             \u001b[0mmsg_list\u001b[0m \u001b[0;34m=\u001b[0m \u001b[0msocket\u001b[0m\u001b[0;34m.\u001b[0m\u001b[0mrecv_multipart\u001b[0m\u001b[0;34m(\u001b[0m\u001b[0mmode\u001b[0m\u001b[0;34m,\u001b[0m \u001b[0mcopy\u001b[0m\u001b[0;34m=\u001b[0m\u001b[0mcopy\u001b[0m\u001b[0;34m)\u001b[0m\u001b[0;34m\u001b[0m\u001b[0;34m\u001b[0m\u001b[0m\n\u001b[0m\u001b[1;32m    804\u001b[0m         \u001b[0;32mexcept\u001b[0m \u001b[0mzmq\u001b[0m\u001b[0;34m.\u001b[0m\u001b[0mZMQError\u001b[0m \u001b[0;32mas\u001b[0m \u001b[0me\u001b[0m\u001b[0;34m:\u001b[0m\u001b[0;34m\u001b[0m\u001b[0;34m\u001b[0m\u001b[0m\n",
            "\u001b[0;32m/usr/local/lib/python3.7/dist-packages/zmq/sugar/socket.py\u001b[0m in \u001b[0;36mrecv_multipart\u001b[0;34m(self, flags, copy, track)\u001b[0m\n\u001b[1;32m    624\u001b[0m         \"\"\"\n\u001b[0;32m--> 625\u001b[0;31m         \u001b[0mparts\u001b[0m \u001b[0;34m=\u001b[0m \u001b[0;34m[\u001b[0m\u001b[0mself\u001b[0m\u001b[0;34m.\u001b[0m\u001b[0mrecv\u001b[0m\u001b[0;34m(\u001b[0m\u001b[0mflags\u001b[0m\u001b[0;34m,\u001b[0m \u001b[0mcopy\u001b[0m\u001b[0;34m=\u001b[0m\u001b[0mcopy\u001b[0m\u001b[0;34m,\u001b[0m \u001b[0mtrack\u001b[0m\u001b[0;34m=\u001b[0m\u001b[0mtrack\u001b[0m\u001b[0;34m)\u001b[0m\u001b[0;34m]\u001b[0m\u001b[0;34m\u001b[0m\u001b[0;34m\u001b[0m\u001b[0m\n\u001b[0m\u001b[1;32m    626\u001b[0m         \u001b[0;31m# have first part already, only loop while more to receive\u001b[0m\u001b[0;34m\u001b[0m\u001b[0;34m\u001b[0m\u001b[0;34m\u001b[0m\u001b[0m\n",
            "\u001b[0;32mzmq/backend/cython/socket.pyx\u001b[0m in \u001b[0;36mzmq.backend.cython.socket.Socket.recv\u001b[0;34m()\u001b[0m\n",
            "\u001b[0;32mzmq/backend/cython/socket.pyx\u001b[0m in \u001b[0;36mzmq.backend.cython.socket.Socket.recv\u001b[0;34m()\u001b[0m\n",
            "\u001b[0;32mzmq/backend/cython/socket.pyx\u001b[0m in \u001b[0;36mzmq.backend.cython.socket._recv_copy\u001b[0;34m()\u001b[0m\n",
            "\u001b[0;32m/usr/local/lib/python3.7/dist-packages/zmq/backend/cython/checkrc.pxd\u001b[0m in \u001b[0;36mzmq.backend.cython.checkrc._check_rc\u001b[0;34m()\u001b[0m\n",
            "\u001b[0;31mKeyboardInterrupt\u001b[0m: ",
            "\nDuring handling of the above exception, another exception occurred:\n",
            "\u001b[0;31mKeyboardInterrupt\u001b[0m                         Traceback (most recent call last)",
            "\u001b[0;32m<ipython-input-59-630f63457360>\u001b[0m in \u001b[0;36m<module>\u001b[0;34m()\u001b[0m\n\u001b[1;32m      1\u001b[0m \u001b[0;31m#모범답안\u001b[0m\u001b[0;34m\u001b[0m\u001b[0;34m\u001b[0m\u001b[0;34m\u001b[0m\u001b[0m\n\u001b[0;32m----> 2\u001b[0;31m \u001b[0ma\u001b[0m \u001b[0;34m=\u001b[0m \u001b[0mint\u001b[0m\u001b[0;34m(\u001b[0m\u001b[0minput\u001b[0m\u001b[0;34m(\u001b[0m\u001b[0;34m\"정수 1 입력\"\u001b[0m\u001b[0;34m)\u001b[0m\u001b[0;34m)\u001b[0m\u001b[0;34m\u001b[0m\u001b[0;34m\u001b[0m\u001b[0m\n\u001b[0m\u001b[1;32m      3\u001b[0m \u001b[0mb\u001b[0m \u001b[0;34m=\u001b[0m \u001b[0mint\u001b[0m\u001b[0;34m(\u001b[0m\u001b[0minput\u001b[0m\u001b[0;34m(\u001b[0m\u001b[0;34m\"정수 2 입력\"\u001b[0m\u001b[0;34m)\u001b[0m\u001b[0;34m)\u001b[0m\u001b[0;34m\u001b[0m\u001b[0;34m\u001b[0m\u001b[0m\n\u001b[1;32m      4\u001b[0m \u001b[0mc\u001b[0m \u001b[0;34m=\u001b[0m \u001b[0mint\u001b[0m\u001b[0;34m(\u001b[0m\u001b[0minput\u001b[0m\u001b[0;34m(\u001b[0m\u001b[0;34m\"정수 3 입력\"\u001b[0m\u001b[0;34m)\u001b[0m\u001b[0;34m)\u001b[0m\u001b[0;34m\u001b[0m\u001b[0;34m\u001b[0m\u001b[0m\n\u001b[1;32m      5\u001b[0m \u001b[0mbig\u001b[0m \u001b[0;34m=\u001b[0m \u001b[0;34m\"\"\u001b[0m\u001b[0;34m\u001b[0m\u001b[0;34m\u001b[0m\u001b[0m\n",
            "\u001b[0;32m/usr/local/lib/python3.7/dist-packages/ipykernel/kernelbase.py\u001b[0m in \u001b[0;36mraw_input\u001b[0;34m(self, prompt)\u001b[0m\n\u001b[1;32m    702\u001b[0m             \u001b[0mself\u001b[0m\u001b[0;34m.\u001b[0m\u001b[0m_parent_ident\u001b[0m\u001b[0;34m,\u001b[0m\u001b[0;34m\u001b[0m\u001b[0;34m\u001b[0m\u001b[0m\n\u001b[1;32m    703\u001b[0m             \u001b[0mself\u001b[0m\u001b[0;34m.\u001b[0m\u001b[0m_parent_header\u001b[0m\u001b[0;34m,\u001b[0m\u001b[0;34m\u001b[0m\u001b[0;34m\u001b[0m\u001b[0m\n\u001b[0;32m--> 704\u001b[0;31m             \u001b[0mpassword\u001b[0m\u001b[0;34m=\u001b[0m\u001b[0;32mFalse\u001b[0m\u001b[0;34m,\u001b[0m\u001b[0;34m\u001b[0m\u001b[0;34m\u001b[0m\u001b[0m\n\u001b[0m\u001b[1;32m    705\u001b[0m         )\n\u001b[1;32m    706\u001b[0m \u001b[0;34m\u001b[0m\u001b[0m\n",
            "\u001b[0;32m/usr/local/lib/python3.7/dist-packages/ipykernel/kernelbase.py\u001b[0m in \u001b[0;36m_input_request\u001b[0;34m(self, prompt, ident, parent, password)\u001b[0m\n\u001b[1;32m    732\u001b[0m             \u001b[0;32mexcept\u001b[0m \u001b[0mKeyboardInterrupt\u001b[0m\u001b[0;34m:\u001b[0m\u001b[0;34m\u001b[0m\u001b[0;34m\u001b[0m\u001b[0m\n\u001b[1;32m    733\u001b[0m                 \u001b[0;31m# re-raise KeyboardInterrupt, to truncate traceback\u001b[0m\u001b[0;34m\u001b[0m\u001b[0;34m\u001b[0m\u001b[0;34m\u001b[0m\u001b[0m\n\u001b[0;32m--> 734\u001b[0;31m                 \u001b[0;32mraise\u001b[0m \u001b[0mKeyboardInterrupt\u001b[0m\u001b[0;34m\u001b[0m\u001b[0;34m\u001b[0m\u001b[0m\n\u001b[0m\u001b[1;32m    735\u001b[0m             \u001b[0;32melse\u001b[0m\u001b[0;34m:\u001b[0m\u001b[0;34m\u001b[0m\u001b[0;34m\u001b[0m\u001b[0m\n\u001b[1;32m    736\u001b[0m                 \u001b[0;32mbreak\u001b[0m\u001b[0;34m\u001b[0m\u001b[0;34m\u001b[0m\u001b[0m\n",
            "\u001b[0;31mKeyboardInterrupt\u001b[0m: "
          ]
        }
      ]
    }
  ]
}