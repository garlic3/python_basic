{
  "nbformat": 4,
  "nbformat_minor": 0,
  "metadata": {
    "colab": {
      "name": "day2.ipynb",
      "provenance": [],
      "authorship_tag": "ABX9TyPzV4HlHjXB24ePlGPay0aa",
      "include_colab_link": true
    },
    "kernelspec": {
      "name": "python3",
      "display_name": "Python 3"
    },
    "language_info": {
      "name": "python"
    }
  },
  "cells": [
    {
      "cell_type": "markdown",
      "metadata": {
        "id": "view-in-github",
        "colab_type": "text"
      },
      "source": [
        "<a href=\"https://colab.research.google.com/github/garlic3/ai/blob/main/day2.ipynb\" target=\"_parent\"><img src=\"https://colab.research.google.com/assets/colab-badge.svg\" alt=\"Open In Colab\"/></a>"
      ]
    },
    {
      "cell_type": "code",
      "execution_count": 10,
      "metadata": {
        "id": "TSOXG4h0FYlY"
      },
      "outputs": [],
      "source": [
        "'''주석의 위치\n",
        "코드의 윗쪽 또는 오른쪽에 주석을 붙인다\n",
        "\n",
        "변수 이름 붙이는 방법\n",
        "스네이크 케이스\n",
        "카멜 케이스\n",
        "\n",
        "*콜랩 뭔가 이상하면\n",
        "restart and run all 실행\n",
        "\n",
        "1. 리스트(list)\n",
        "자료들 여러개를 모아서 사용할수 있음\n",
        "가능하면 자료형 혼합해서 사용하지 말것\n",
        "인덱싱과 슬라이싱이 가능하다\n",
        "mutable = 수정 가능\n",
        "리스트끼리 연산 가능\n",
        "[start:end:step] end는 미만\n",
        "indexing -> 비파괴적 pop ->파괴적\n",
        "\n",
        "2. 튜플\n",
        "3. 딕셔너리\n",
        "4. 셋'''\n",
        "\n",
        "list_a = [1,2,3,4,5]\n",
        "list_b = [6,7,8,9,10]"
      ]
    },
    {
      "cell_type": "code",
      "source": [
        "#리스트 연산\n",
        "print(list_a + list_b)\n",
        "print(list_a*3)"
      ],
      "metadata": {
        "id": "zBuy8sPeJUDY"
      },
      "execution_count": null,
      "outputs": []
    },
    {
      "cell_type": "code",
      "source": [
        "#리스트에 주로 사용되는 함수들\n",
        "# 1.len() 리스트 길이재기\n",
        "print(len(list_a))"
      ],
      "metadata": {
        "id": "ShdPdnHNJXtH"
      },
      "execution_count": null,
      "outputs": []
    },
    {
      "cell_type": "code",
      "source": [
        "#리스트에 요소 추가하기\n",
        "# 2. appen() 마지막 위치에 추가됨\n",
        "print(list_a)\n",
        "list_a.append(11)\n",
        "print(list_a)"
      ],
      "metadata": {
        "colab": {
          "base_uri": "https://localhost:8080/"
        },
        "id": "C7_9iSsZJbxy",
        "outputId": "2ca1e494-3f19-4f29-aacf-81157b339efd"
      },
      "execution_count": 7,
      "outputs": [
        {
          "output_type": "stream",
          "name": "stdout",
          "text": [
            "[1, 2, 3, 4, 5]\n",
            "[1, 2, 3, 4, 5, 11]\n"
          ]
        }
      ]
    },
    {
      "cell_type": "code",
      "source": [
        "# 3.insert() 특정 위치를 지정하여 추가가능(몇번째로 지정)->인덱싱과 차이 있음!\n",
        "print(list_a)\n",
        "list_a.insert(3,10)\n",
        "print(list_a)"
      ],
      "metadata": {
        "colab": {
          "base_uri": "https://localhost:8080/"
        },
        "id": "Ffe1HpTsJorf",
        "outputId": "3f22732d-d500-4653-a369-d801dff60135"
      },
      "execution_count": 9,
      "outputs": [
        {
          "output_type": "stream",
          "name": "stdout",
          "text": [
            "[1, 2, 3, 11, 4, 5, 11]\n",
            "[1, 2, 3, 10, 11, 4, 5, 11]\n"
          ]
        }
      ]
    },
    {
      "cell_type": "code",
      "source": [
        "# 4.extend() 한번에 여러개를 추가하기 -> 파괴적 처리 / 자료 사용시 비 파괴적으로 사용하는것이 바람직하다\n",
        "list_a = [1,2,3]\n",
        "list_b = [4,5,6]\n",
        "print(list_a+list_b) # 비파괴적 처리\n",
        "\n",
        "list_a.extend([4,5,6]) #파괴적 처리\n",
        "print(list_a)"
      ],
      "metadata": {
        "colab": {
          "base_uri": "https://localhost:8080/"
        },
        "id": "TcRiByoEKsbS",
        "outputId": "bf337e5a-5ce9-4ab1-8bf6-d6ce410b8be3"
      },
      "execution_count": 14,
      "outputs": [
        {
          "output_type": "stream",
          "name": "stdout",
          "text": [
            "[1, 2, 3, 4, 5, 6]\n",
            "[1, 2, 3, 4, 5, 6]\n"
          ]
        }
      ]
    },
    {
      "cell_type": "code",
      "source": [
        "# 5.del() 리스트에서 데이터 삭제 -> 인덱스 위치로 데이터 삭제 / 슬라이싱이 가능함\n",
        "list_a = [0,1,2,3]\n",
        "del list_a[1]\n",
        "print(list_a)\n",
        "del list_a[0:1]\n",
        "print(list_a)\n",
        "del list_a[:] # 모두 삭제하기\n",
        "print(list_a)\n",
        "# list_a.clear() 리스트 요소를 전부 한번에 삭제"
      ],
      "metadata": {
        "colab": {
          "base_uri": "https://localhost:8080/"
        },
        "id": "M5q5m_ZNMyP1",
        "outputId": "923a62a0-57d4-4fbf-e969-cb64b431832a"
      },
      "execution_count": 20,
      "outputs": [
        {
          "output_type": "stream",
          "name": "stdout",
          "text": [
            "[0, 2, 3]\n",
            "[2, 3]\n",
            "[]\n"
          ]
        }
      ]
    },
    {
      "cell_type": "code",
      "source": [
        "# 6.pop() 리스트에서 마지막 위치 데이터 삭제->위치 지정가능(인덱스 위치로 데이터 삭제)\n",
        "list_a = [0,1,2,3,4,5]\n",
        "\n",
        "list_a.pop()\n",
        "print(list_a)\n",
        "\n",
        "list_a.pop()\n",
        "print(list_a)"
      ],
      "metadata": {
        "colab": {
          "base_uri": "https://localhost:8080/"
        },
        "id": "Le1QLejFNTZK",
        "outputId": "fdc72fb4-f901-455a-efad-55f2202013eb"
      },
      "execution_count": 18,
      "outputs": [
        {
          "output_type": "stream",
          "name": "stdout",
          "text": [
            "[0, 1, 2, 3, 4]\n",
            "[0, 1, 2, 3]\n"
          ]
        }
      ]
    },
    {
      "cell_type": "code",
      "source": [
        "# 7.remove() 리스트에서 요소의 값을 찾아 삭제 / 동일한 값이 있을경우 순차적으로 삭제 \n",
        "# -> 한번에 여러개 삭제하려면 반복문 사용\n",
        "list_c = [1,2,1,2]\n",
        "\n",
        "list_c.remove(2)\n",
        "print(list_c)\n",
        "\n",
        "list_c.remove(2)\n",
        "print(list_c)"
      ],
      "metadata": {
        "colab": {
          "base_uri": "https://localhost:8080/"
        },
        "id": "_Sq1DffsOnt_",
        "outputId": "f8d8fdb2-3027-4edb-d62d-71bfa607fd39"
      },
      "execution_count": 22,
      "outputs": [
        {
          "output_type": "stream",
          "name": "stdout",
          "text": [
            "[1, 1, 2]\n",
            "[1, 1]\n"
          ]
        }
      ]
    },
    {
      "cell_type": "code",
      "source": [
        "# 8. in / not in 리스트에 존재하는 요소인지를 확인\n",
        "list_a = [111,222,333,444,555]\n",
        "111 in list_a"
      ],
      "metadata": {
        "colab": {
          "base_uri": "https://localhost:8080/"
        },
        "id": "wKDzgMYOQkiA",
        "outputId": "97c5e802-1cae-4d63-f7d9-16e38380f1d9"
      },
      "execution_count": 24,
      "outputs": [
        {
          "output_type": "execute_result",
          "data": {
            "text/plain": [
              "True"
            ]
          },
          "metadata": {},
          "execution_count": 24
        }
      ]
    }
  ]
}