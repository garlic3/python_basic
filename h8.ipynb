{
  "nbformat": 4,
  "nbformat_minor": 0,
  "metadata": {
    "colab": {
      "name": "h8.ipynb",
      "provenance": [],
      "collapsed_sections": [],
      "authorship_tag": "ABX9TyNhRBhojP++Gw9Gamv5RFJO",
      "include_colab_link": true
    },
    "kernelspec": {
      "name": "python3",
      "display_name": "Python 3"
    },
    "language_info": {
      "name": "python"
    }
  },
  "cells": [
    {
      "cell_type": "markdown",
      "metadata": {
        "id": "view-in-github",
        "colab_type": "text"
      },
      "source": [
        "<a href=\"https://colab.research.google.com/github/garlic3/ai/blob/main/h8.ipynb\" target=\"_parent\"><img src=\"https://colab.research.google.com/assets/colab-badge.svg\" alt=\"Open In Colab\"/></a>"
      ]
    },
    {
      "cell_type": "code",
      "execution_count": null,
      "metadata": {
        "id": "R5AuCIXyQ8Aw"
      },
      "outputs": [],
      "source": [
        "''' \n",
        "476)\n",
        "b\n",
        "\n",
        "477) \n",
        "c\n",
        "\n",
        "478)\n",
        "a\n",
        "\n",
        "479)\n",
        "b\n",
        "\n",
        "480)\n",
        "c\n",
        "\n",
        "481)\n",
        "c\n",
        "\n",
        "482)\n",
        "a\n",
        "\n",
        "483)\n",
        "b\n",
        "\n",
        "484)\n",
        "d  \n",
        "\n",
        "485) \n",
        "c\n",
        "\n",
        "486)\n",
        "a\n",
        "\n",
        "487)\n",
        "d\n",
        "\n",
        "488)\n",
        "d\n",
        "\n",
        "489)\n",
        "c\n",
        "\n",
        "490)\n",
        "b\n",
        "\n",
        "491)\n",
        "a\n",
        "\n",
        "492)\n",
        "a\n",
        "\n",
        "493)\n",
        "c\n",
        "\n",
        "494)\n",
        "a\n",
        "\n",
        "495)\n",
        "d\n",
        "\n",
        "\n",
        "\n",
        "'''\n"
      ]
    },
    {
      "cell_type": "code",
      "source": [
        "def func(num):\n",
        "  even = 0\n",
        "  odd = 0\n",
        "  for i in num:\n",
        "    if i % 2 == 0:\n",
        "      even += 1\n",
        "    else:\n",
        "      odd += 1\n",
        "  print(f'{num} = 홀수 {odd}개, 짝수{even}개')    \n",
        "func([3,4,5,6,7])\n",
        "func([12,16,22,24,29])\n",
        "func([41,43,45,47,49])    "
      ],
      "metadata": {
        "colab": {
          "base_uri": "https://localhost:8080/"
        },
        "id": "6m55Dgm8Tur2",
        "outputId": "81838116-d473-4b74-cf3d-2204be934bb3"
      },
      "execution_count": null,
      "outputs": [
        {
          "output_type": "stream",
          "name": "stdout",
          "text": [
            "[3, 4, 5, 6, 7] = 홀수 3개, 짝수2개\n",
            "[12, 16, 22, 24, 29] = 홀수 1개, 짝수4개\n",
            "[41, 43, 45, 47, 49] = 홀수 5개, 짝수0개\n"
          ]
        }
      ]
    }
  ]
}