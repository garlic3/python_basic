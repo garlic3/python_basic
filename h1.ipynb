{
  "nbformat": 4,
  "nbformat_minor": 0,
  "metadata": {
    "colab": {
      "name": "h1.ipynb",
      "provenance": [],
      "authorship_tag": "ABX9TyO8KRit45C7MKwnTohmsr3r",
      "include_colab_link": true
    },
    "kernelspec": {
      "name": "python3",
      "display_name": "Python 3"
    },
    "language_info": {
      "name": "python"
    }
  },
  "cells": [
    {
      "cell_type": "markdown",
      "metadata": {
        "id": "view-in-github",
        "colab_type": "text"
      },
      "source": [
        "<a href=\"https://colab.research.google.com/github/garlic3/ai/blob/main/h1.ipynb\" target=\"_parent\"><img src=\"https://colab.research.google.com/assets/colab-badge.svg\" alt=\"Open In Colab\"/></a>"
      ]
    },
    {
      "cell_type": "code",
      "source": [
        "#001\n",
        "print(\"Hello World\")"
      ],
      "metadata": {
        "colab": {
          "base_uri": "https://localhost:8080/"
        },
        "id": "O7CjPT1sQSQx",
        "outputId": "4bd92891-c76b-42d6-bb23-8406179161f6"
      },
      "execution_count": null,
      "outputs": [
        {
          "output_type": "stream",
          "name": "stdout",
          "text": [
            "Hello World\n"
          ]
        }
      ]
    },
    {
      "cell_type": "code",
      "source": [
        "#002\n",
        "print(\"Mary\\'s cosmetics\")\n",
        "print(\"Mary's cosmetics\")"
      ],
      "metadata": {
        "colab": {
          "base_uri": "https://localhost:8080/"
        },
        "id": "1F5fnrTURD0Q",
        "outputId": "6c10952f-039e-4fba-a7da-83f84da87fce"
      },
      "execution_count": null,
      "outputs": [
        {
          "output_type": "stream",
          "name": "stdout",
          "text": [
            "Mary's cosmetics\n",
            "Mary's cosmetics\n"
          ]
        }
      ]
    },
    {
      "cell_type": "code",
      "source": [
        "#003\n",
        "print(\"신씨가 소리쳤다. \\\"도둑이야\\\".\")\n",
        "print('신씨가 소리쳤다. \"도둑이야\".')"
      ],
      "metadata": {
        "colab": {
          "base_uri": "https://localhost:8080/"
        },
        "id": "AyitfAwVROsA",
        "outputId": "5e71a164-c3d0-4f61-af9c-2a904be89b3d"
      },
      "execution_count": null,
      "outputs": [
        {
          "output_type": "stream",
          "name": "stdout",
          "text": [
            "신씨가 소리쳤다. \"도둑이야\".\n",
            "신씨가 소리쳤다. \"도둑이야\".\n"
          ]
        }
      ]
    },
    {
      "cell_type": "code",
      "source": [
        "#004\n",
        "print(\"\\\"C:\\Windows\\\"\")\n",
        "print('\"C:\\Windows\"')"
      ],
      "metadata": {
        "colab": {
          "base_uri": "https://localhost:8080/"
        },
        "id": "rlOLldcFRotf",
        "outputId": "7b07bdd5-6845-48b1-cd52-8b3be38d2cda"
      },
      "execution_count": null,
      "outputs": [
        {
          "output_type": "stream",
          "name": "stdout",
          "text": [
            "\"C:\\Windows\"\n",
            "\"C:\\Windows\"\n"
          ]
        }
      ]
    },
    {
      "cell_type": "code",
      "source": [
        "#005\n",
        "print(\"안녕하세요.\\n 만나서\\t\\t 반갑습니다.\")\n",
        "\n",
        "# a) \\n -> 줄 바꾸기 \\t -> 문자열 사이에 탭 간격을 주기"
      ],
      "metadata": {
        "colab": {
          "base_uri": "https://localhost:8080/"
        },
        "id": "wWgNgNHkRoxG",
        "outputId": "77cdd0f6-5b47-4e1e-f06a-5463fa5a04c7"
      },
      "execution_count": null,
      "outputs": [
        {
          "output_type": "stream",
          "name": "stdout",
          "text": [
            "안녕하세요.\n",
            " 만나서\t\t 반갑습니다.\n"
          ]
        }
      ]
    },
    {
      "cell_type": "code",
      "source": [
        "#006\n",
        "# a) 오늘은 월요일\n",
        "print(\"오늘은\", \"월요일\")"
      ],
      "metadata": {
        "colab": {
          "base_uri": "https://localhost:8080/"
        },
        "id": "uIbVFICBSMRU",
        "outputId": "99a38365-38f9-4758-9b7e-8c2f8933d39d"
      },
      "execution_count": null,
      "outputs": [
        {
          "output_type": "stream",
          "name": "stdout",
          "text": [
            "오늘은 월요일\n"
          ]
        }
      ]
    },
    {
      "cell_type": "code",
      "source": [
        "#007\n",
        "print(\"naver\",\"kakao\",\"sk\",\"samsung\", sep=\";\")"
      ],
      "metadata": {
        "colab": {
          "base_uri": "https://localhost:8080/"
        },
        "id": "o1H2dER1SrRI",
        "outputId": "a75aae19-55d5-4c2e-d27e-eb6553517432"
      },
      "execution_count": null,
      "outputs": [
        {
          "output_type": "stream",
          "name": "stdout",
          "text": [
            "naver;kakao;sk;samsung\n"
          ]
        }
      ]
    },
    {
      "cell_type": "code",
      "source": [
        "#008\n",
        "print(\"naver\",\"kakao\",\"sk\",\"samsung\", sep=\"/\")"
      ],
      "metadata": {
        "colab": {
          "base_uri": "https://localhost:8080/"
        },
        "id": "VqGnlNpqS6cj",
        "outputId": "04d2cc9c-5418-4ae1-813f-ea719fcbb353"
      },
      "execution_count": null,
      "outputs": [
        {
          "output_type": "stream",
          "name": "stdout",
          "text": [
            "naver/kakao/sk/samsung\n"
          ]
        }
      ]
    },
    {
      "cell_type": "code",
      "source": [
        "#009\n",
        "print(\"first\", end=\"\");print(\"second\")"
      ],
      "metadata": {
        "colab": {
          "base_uri": "https://localhost:8080/"
        },
        "id": "uecUZu46TeNm",
        "outputId": "25c6c644-50a2-4976-e08f-227060da854a"
      },
      "execution_count": null,
      "outputs": [
        {
          "output_type": "stream",
          "name": "stdout",
          "text": [
            "firstsecond\n"
          ]
        }
      ]
    },
    {
      "cell_type": "code",
      "source": [
        "#010\n",
        "print(f\"{5/3}\")"
      ],
      "metadata": {
        "colab": {
          "base_uri": "https://localhost:8080/"
        },
        "id": "J_bFr0K7TxlN",
        "outputId": "05bb4625-f7d2-41c9-cf5a-98627e43d9f6"
      },
      "execution_count": null,
      "outputs": [
        {
          "output_type": "stream",
          "name": "stdout",
          "text": [
            "1.6666666666666667\n"
          ]
        }
      ]
    },
    {
      "cell_type": "code",
      "source": [
        "#011\n",
        "삼성전자 = 50000\n",
        "보유수 = 10\n",
        "총평가금액 = 삼성전자*보유수\n",
        "print(f\"총 평가금액:{총평가금액}원\")"
      ],
      "metadata": {
        "colab": {
          "base_uri": "https://localhost:8080/"
        },
        "id": "HVxCF8s9UJUi",
        "outputId": "97eae17b-8752-4957-cf74-c68b86b98ac4"
      },
      "execution_count": null,
      "outputs": [
        {
          "output_type": "stream",
          "name": "stdout",
          "text": [
            "500000원\n"
          ]
        }
      ]
    },
    {
      "cell_type": "code",
      "source": [
        "#012\n",
        "시가총액 = 298\n",
        "현재가 = 50000\n",
        "per = 15.79"
      ],
      "metadata": {
        "id": "qJgobE1_UlxQ"
      },
      "execution_count": null,
      "outputs": []
    },
    {
      "cell_type": "code",
      "source": [
        "#013\n",
        "s = \"hello\"\n",
        "t = \"python\"\n",
        "\n",
        "print(f\"{s}! {t}\")\n"
      ],
      "metadata": {
        "colab": {
          "base_uri": "https://localhost:8080/"
        },
        "id": "h9_3EkM0U0LX",
        "outputId": "0e1370df-8207-460f-c923-e9981d2cabeb"
      },
      "execution_count": null,
      "outputs": [
        {
          "output_type": "stream",
          "name": "stdout",
          "text": [
            "hello! python\n"
          ]
        }
      ]
    },
    {
      "cell_type": "code",
      "source": [
        "#014\n",
        "2 + 2 *3\n",
        "# 결과: 8"
      ],
      "metadata": {
        "colab": {
          "base_uri": "https://localhost:8080/"
        },
        "id": "kY59_Qb7VCky",
        "outputId": "b180e134-5b31-4816-c292-dc5544f88d9f"
      },
      "execution_count": null,
      "outputs": [
        {
          "output_type": "execute_result",
          "data": {
            "text/plain": [
              "8"
            ]
          },
          "metadata": {},
          "execution_count": 73
        }
      ]
    },
    {
      "cell_type": "code",
      "source": [
        "#015\n",
        "a = \"132\"\n",
        "print((type(a)))\n",
        "# <class 'str'>'"
      ],
      "metadata": {
        "colab": {
          "base_uri": "https://localhost:8080/"
        },
        "id": "5mO-oxOBVMdh",
        "outputId": "f71b6925-85e6-46cc-c463-3ce0d19c7547"
      },
      "execution_count": null,
      "outputs": [
        {
          "output_type": "stream",
          "name": "stdout",
          "text": [
            "<class 'str'>\n"
          ]
        }
      ]
    },
    {
      "cell_type": "code",
      "source": [
        "#016\n",
        "num_str = \"720\"\n",
        "print(int(num_str))"
      ],
      "metadata": {
        "colab": {
          "base_uri": "https://localhost:8080/"
        },
        "id": "iQvyNvK8VcG0",
        "outputId": "e6123fed-1cba-4288-f2bb-8e435569f127"
      },
      "execution_count": null,
      "outputs": [
        {
          "output_type": "execute_result",
          "data": {
            "text/plain": [
              "720"
            ]
          },
          "metadata": {},
          "execution_count": 75
        }
      ]
    },
    {
      "cell_type": "code",
      "source": [
        "#017\n",
        "num = 100\n",
        "print(str(num))"
      ],
      "metadata": {
        "colab": {
          "base_uri": "https://localhost:8080/",
          "height": 35
        },
        "id": "NlGAKq40Vktm",
        "outputId": "0c461bd6-4500-4736-efc8-3096745005ab"
      },
      "execution_count": null,
      "outputs": [
        {
          "output_type": "execute_result",
          "data": {
            "application/vnd.google.colaboratory.intrinsic+json": {
              "type": "string"
            },
            "text/plain": [
              "'100'"
            ]
          },
          "metadata": {},
          "execution_count": 76
        }
      ]
    },
    {
      "cell_type": "code",
      "source": [
        "#018\n",
        "num = \"15.79\"\n",
        "print(float(num))"
      ],
      "metadata": {
        "colab": {
          "base_uri": "https://localhost:8080/"
        },
        "id": "JYpKL_pTVsSO",
        "outputId": "298c140b-50a9-462d-d404-5c909239edfc"
      },
      "execution_count": null,
      "outputs": [
        {
          "output_type": "execute_result",
          "data": {
            "text/plain": [
              "15.79"
            ]
          },
          "metadata": {},
          "execution_count": 77
        }
      ]
    },
    {
      "cell_type": "code",
      "source": [
        "#019\n",
        "year = \"2020\"\n",
        "i_year = int(year)\n",
        "print(i_year, i_year+1, i_year+2)"
      ],
      "metadata": {
        "colab": {
          "base_uri": "https://localhost:8080/"
        },
        "id": "cn4-LIiOVznp",
        "outputId": "3e4b7f5c-3f36-4d5b-91da-bb2169c5d4a6"
      },
      "execution_count": null,
      "outputs": [
        {
          "output_type": "stream",
          "name": "stdout",
          "text": [
            "2020 2021 2022\n"
          ]
        }
      ]
    },
    {
      "cell_type": "code",
      "source": [
        "#20\n",
        "pay = 48584\n",
        "month = 36\n",
        "total = int(pay*month)\n",
        "print(f\"총 금액:{total}원\")"
      ],
      "metadata": {
        "colab": {
          "base_uri": "https://localhost:8080/"
        },
        "id": "NgLuZxGJWQ6B",
        "outputId": "e54ed78a-f927-4f30-ccfd-8eca6530e0ce"
      },
      "execution_count": null,
      "outputs": [
        {
          "output_type": "stream",
          "name": "stdout",
          "text": [
            "총 금액:1749024원\n"
          ]
        }
      ]
    }
  ]
}