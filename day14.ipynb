{
  "nbformat": 4,
  "nbformat_minor": 0,
  "metadata": {
    "colab": {
      "name": "day14.ipynb",
      "provenance": [],
      "authorship_tag": "ABX9TyO3mdcGV0LE/6wpAkwTsVf3",
      "include_colab_link": true
    },
    "kernelspec": {
      "name": "python3",
      "display_name": "Python 3"
    },
    "language_info": {
      "name": "python"
    }
  },
  "cells": [
    {
      "cell_type": "markdown",
      "metadata": {
        "id": "view-in-github",
        "colab_type": "text"
      },
      "source": [
        "<a href=\"https://colab.research.google.com/github/garlic3/ai/blob/main/day14.ipynb\" target=\"_parent\"><img src=\"https://colab.research.google.com/assets/colab-badge.svg\" alt=\"Open In Colab\"/></a>"
      ]
    },
    {
      "cell_type": "code",
      "execution_count": null,
      "metadata": {
        "colab": {
          "base_uri": "https://localhost:8080/"
        },
        "id": "srmQrrmtFvnf",
        "outputId": "f62b2562-b1e4-47c3-fdd1-00acd038b312"
      },
      "outputs": [
        {
          "output_type": "stream",
          "name": "stdout",
          "text": [
            "('Korea', 'Uk', 'Us', 'canada', 'Vietnam')\n",
            "Entehr the number3\n",
            "canada\n"
          ]
        }
      ],
      "source": [
        "# 1\n",
        "country = ('Korea','Uk','Us','canada','Vietnam')\n",
        "print(country)\n",
        "n = int(input('Entehr the number'))\n",
        "l = list(country)\n",
        "print(l[n])"
      ]
    },
    {
      "cell_type": "code",
      "source": [
        "# 2\n",
        "s = ['tenis','golf']\n",
        "q = input('What is your favorite sport?')\n",
        "s.append(q)\n",
        "s.sort()\n",
        "print(s)"
      ],
      "metadata": {
        "colab": {
          "base_uri": "https://localhost:8080/"
        },
        "id": "Igs3y8zFGOgJ",
        "outputId": "18a072d9-b8b8-4bc6-bb8f-e1620b97b43f"
      },
      "execution_count": null,
      "outputs": [
        {
          "output_type": "stream",
          "name": "stdout",
          "text": [
            "What is your favorite sport?golf\n",
            "['golf', 'golf', 'tennis']\n"
          ]
        }
      ]
    },
    {
      "cell_type": "code",
      "source": [
        "# 3\n",
        "dict = {}\n",
        "for i in range(1,5):\n",
        "  q = input('What is your favorite food?')\n",
        "  dict[i] = q\n",
        "print(dict)\n",
        "q2 = int(input('which food remove? / index number'))\n",
        "del dict[q2]\n",
        "print(sorted(dict.values()))"
      ],
      "metadata": {
        "colab": {
          "base_uri": "https://localhost:8080/"
        },
        "id": "kuFibLwiLFie",
        "outputId": "5c30456b-ae4b-43d8-d356-338a1ffc9543"
      },
      "execution_count": null,
      "outputs": [
        {
          "output_type": "stream",
          "name": "stdout",
          "text": [
            "What is your favorite food?a\n",
            "What is your favorite food?b\n",
            "What is your favorite food?c\n",
            "What is your favorite food?d\n",
            "{1: 'a', 2: 'b', 3: 'c', 4: 'd'}\n",
            "which food remove? / index number3\n",
            "['a', 'b', 'd']\n"
          ]
        }
      ]
    },
    {
      "cell_type": "code",
      "source": [
        ""
      ],
      "metadata": {
        "id": "rhbVIuiAhSqS"
      },
      "execution_count": null,
      "outputs": []
    }
  ]
}