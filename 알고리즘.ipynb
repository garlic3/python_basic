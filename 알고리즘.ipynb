{
  "nbformat": 4,
  "nbformat_minor": 0,
  "metadata": {
    "colab": {
      "name": "알고리즘.ipynb",
      "provenance": [],
      "collapsed_sections": [],
      "authorship_tag": "ABX9TyNH2QHaZeCXbgfueVSQTjZU",
      "include_colab_link": true
    },
    "kernelspec": {
      "name": "python3",
      "display_name": "Python 3"
    },
    "language_info": {
      "name": "python"
    }
  },
  "cells": [
    {
      "cell_type": "markdown",
      "metadata": {
        "id": "view-in-github",
        "colab_type": "text"
      },
      "source": [
        "<a href=\"https://colab.research.google.com/github/garlic3/ai/blob/main/%EC%95%8C%EA%B3%A0%EB%A6%AC%EC%A6%98.ipynb\" target=\"_parent\"><img src=\"https://colab.research.google.com/assets/colab-badge.svg\" alt=\"Open In Colab\"/></a>"
      ]
    },
    {
      "cell_type": "code",
      "source": [
        "# 선형 탐색법\n",
        "def linear_search(num, arr):\n",
        "  for i in arr:               # arr 리스트에 있는 값 하나하나씩 꺼내보기\n",
        "    if i == num:              # 만약 원하는 데이터를 찾았다면\n",
        "      print(f'We found {num} in arr[{arr.index(num)}]') # 찾았다고 출력하고 위치를 같이 출력하고 종료\n",
        "      break\n",
        "    else:\n",
        "      print(i)                # 찾지 못했다면 꺼낸 데이터들을 출력하기\n",
        "      \n",
        "arr = [2,4,6,1,3,7,5]\n",
        "linear_search(7, arr)"
      ],
      "metadata": {
        "id": "CRpZP1XH0rPS",
        "colab": {
          "base_uri": "https://localhost:8080/"
        },
        "outputId": "b8985400-2345-47ca-a7ab-4f8d3416063c"
      },
      "execution_count": 22,
      "outputs": [
        {
          "output_type": "stream",
          "name": "stdout",
          "text": [
            "2\n",
            "4\n",
            "6\n",
            "1\n",
            "3\n",
            "We found 7 in arr[5]\n"
          ]
        }
      ]
    },
    {
      "cell_type": "code",
      "execution_count": 16,
      "metadata": {
        "colab": {
          "base_uri": "https://localhost:8080/"
        },
        "id": "YMv8z6fg0gku",
        "outputId": "01e9ee58-9426-4dfc-8df5-8183635e2314"
      },
      "outputs": [
        {
          "output_type": "stream",
          "name": "stdout",
          "text": [
            "we find it! 31 in arr[6]\n"
          ]
        },
        {
          "output_type": "execute_result",
          "data": {
            "text/plain": [
              "31"
            ]
          },
          "metadata": {},
          "execution_count": 16
        }
      ],
      "source": [
        "# 이진 탐색법\n",
        "def binary_search(num, arr):\n",
        "  arr.sort()                    # 이진 탐색법은 정렬되어 있는 상태에서 사용 가능하므로 정렬\n",
        "  head = 0                      # 탐색 시작은 리스트의 0번째 인덱스에서 시작   \n",
        "  tail = len(arr) -1            # 탐색 종료는 리스트의 (리스트의 길이 -1) 인덱스에서 종료    \n",
        "  while head <= tail:           # 탐색 시작 인덱스가 종료 인덱스값보다 큰것은 불가능하므로 종료조건   \n",
        "    center = (head + tail)//2   # 제일 먼저 인덱스 중간값부터 탐색  \n",
        "    if arr[center] == num:      # 만약 인덱스 중간값의 데이터가 찾는 데이터 라면  \n",
        "      print(f'we find it! {num} in arr[{center}]') # 찾았다고 출력하고 위치를 같이 출력하고 종료        \n",
        "      return num\n",
        "    elif arr[center] > num:     # 만약 인덱스 중간값의 데이터가 찾는 데이터보다 크다면\n",
        "      tail = center -1          # 탐색 범위를 인덱스 처음부터 인덱스 중간값-1 까지로 수정해서 재탐색\n",
        "    elif arr[center] < num:     # 만약 인덱스 중간값의 데이터가 찾는 데이터보다 작다면\n",
        "      head = center + 1         # 탐색 범위를 인덱스 중간값+1 부터 인덱스 끝까지로 수정해서 재탐색\n",
        "\n",
        "arr = [11,13,17,19,23,29,31]\n",
        "binary_search(31, arr)                    "
      ]
    },
    {
      "cell_type": "code",
      "source": [
        "# 해시 탐색법"
      ],
      "metadata": {
        "id": "5qMcy-KE1zv2"
      },
      "execution_count": null,
      "outputs": []
    },
    {
      "cell_type": "code",
      "source": [
        "# 단순 선택법"
      ],
      "metadata": {
        "id": "ykJASDW212HV"
      },
      "execution_count": null,
      "outputs": []
    },
    {
      "cell_type": "code",
      "source": [
        "# 단순 교환법"
      ],
      "metadata": {
        "id": "kEt6C91N18jt"
      },
      "execution_count": null,
      "outputs": []
    },
    {
      "cell_type": "code",
      "source": [
        "# 단순 삽입법"
      ],
      "metadata": {
        "id": "R1EEbhLY2MNE"
      },
      "execution_count": null,
      "outputs": []
    },
    {
      "cell_type": "code",
      "source": [
        "# 퀵 정렬"
      ],
      "metadata": {
        "id": "fOlDajKF2OYr"
      },
      "execution_count": null,
      "outputs": []
    },
    {
      "cell_type": "code",
      "source": [
        "# 에라토스테네스의 체"
      ],
      "metadata": {
        "id": "z7GAXnII2Rkz"
      },
      "execution_count": null,
      "outputs": []
    },
    {
      "cell_type": "code",
      "source": [
        "# 유클리드 알고리즘"
      ],
      "metadata": {
        "id": "cdccyuBB2R0Q"
      },
      "execution_count": null,
      "outputs": []
    }
  ]
}