{
  "nbformat": 4,
  "nbformat_minor": 0,
  "metadata": {
    "colab": {
      "name": "h10.ipynb",
      "provenance": [],
      "collapsed_sections": [],
      "authorship_tag": "ABX9TyPg20PRNVdC5b5fs4Rcamm+",
      "include_colab_link": true
    },
    "kernelspec": {
      "name": "python3",
      "display_name": "Python 3"
    },
    "language_info": {
      "name": "python"
    }
  },
  "cells": [
    {
      "cell_type": "markdown",
      "metadata": {
        "id": "view-in-github",
        "colab_type": "text"
      },
      "source": [
        "<a href=\"https://colab.research.google.com/github/garlic3/ai/blob/main/h10.ipynb\" target=\"_parent\"><img src=\"https://colab.research.google.com/assets/colab-badge.svg\" alt=\"Open In Colab\"/></a>"
      ]
    },
    {
      "cell_type": "code",
      "execution_count": null,
      "metadata": {
        "id": "kAehr49wSI0G"
      },
      "outputs": [],
      "source": [
        "'''\n",
        "516) c\n",
        "517) d\n",
        "518) d\n",
        "519) c\n",
        "520) b\n",
        "521) a\n",
        "522) b\n",
        "523) a\n",
        "524) c\n",
        "525) a\n",
        "526) c\n",
        "527) c\n",
        "528) b\n",
        "529) d\n",
        "530) a\n",
        "531) b\n",
        "532) a\n",
        "533) b\n",
        "534) a\n",
        "535) b\n",
        "\n",
        "\n",
        "'''"
      ]
    },
    {
      "cell_type": "code",
      "source": [
        "def checker():\n",
        "  try:\n",
        "    n = input('Enter the number or string') # 문자나 숫자 입력받기\n",
        "    a = float(n)\n",
        "    if '.' in str(n):\n",
        "      print('소수입니다')\n",
        "    else:\n",
        "      print('정수입니다')  \n",
        "  except:\n",
        "    print('Math error!')  \n",
        "checker()          "
      ],
      "metadata": {
        "colab": {
          "base_uri": "https://localhost:8080/"
        },
        "id": "ljIP6sE4WPMv",
        "outputId": "f429599f-5687-49cf-8295-d9021ac126d5"
      },
      "execution_count": null,
      "outputs": [
        {
          "output_type": "stream",
          "name": "stdout",
          "text": [
            "Enter the number or string3\n",
            "정수입니다\n"
          ]
        }
      ]
    },
    {
      "cell_type": "code",
      "source": [
        "x = 'Python'\n",
        "y = tuple(x)\n",
        "print(y)"
      ],
      "metadata": {
        "colab": {
          "base_uri": "https://localhost:8080/"
        },
        "id": "qlFV0ilj7Vkx",
        "outputId": "81335d15-acff-453b-f0c4-90dd14ef7d02"
      },
      "execution_count": null,
      "outputs": [
        {
          "output_type": "stream",
          "name": "stdout",
          "text": [
            "('P', 'y', 't', 'h', 'o', 'n')\n"
          ]
        }
      ]
    },
    {
      "cell_type": "code",
      "source": [
        "x = {'day':'Sunday','week':10}\n",
        "for i in x:\n",
        "  print(i, end=' ')"
      ],
      "metadata": {
        "colab": {
          "base_uri": "https://localhost:8080/"
        },
        "id": "3Pi8Z7KX_ntC",
        "outputId": "f36ad9ac-b005-42a1-e7d4-9596cb2cd665"
      },
      "execution_count": null,
      "outputs": [
        {
          "output_type": "stream",
          "name": "stdout",
          "text": [
            "day week "
          ]
        }
      ]
    },
    {
      "cell_type": "code",
      "source": [
        "num = eval(input('입력하시오'))\n",
        "if num - int(num):\n",
        "  print('소수입니다')\n",
        "  print(type(num))\n",
        "else:\n",
        "  print(type(num))\n",
        "  print('정수입니다')  "
      ],
      "metadata": {
        "colab": {
          "base_uri": "https://localhost:8080/"
        },
        "id": "BEqOr5ekCyBt",
        "outputId": "3ec7cf16-c580-4898-930f-9f774c094416"
      },
      "execution_count": null,
      "outputs": [
        {
          "output_type": "stream",
          "name": "stdout",
          "text": [
            "입력하시오3\n",
            "<class 'int'>\n",
            "정수입니다\n"
          ]
        }
      ]
    },
    {
      "cell_type": "code",
      "source": [
        ""
      ],
      "metadata": {
        "id": "4MfT8raHEcWH"
      },
      "execution_count": null,
      "outputs": []
    }
  ]
}