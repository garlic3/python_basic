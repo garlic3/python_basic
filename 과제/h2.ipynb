{
  "nbformat": 4,
  "nbformat_minor": 0,
  "metadata": {
    "colab": {
      "name": "h2.ipynb",
      "provenance": [],
      "collapsed_sections": [],
      "authorship_tag": "ABX9TyNM7UbT1YN1SGeW5BmG3vUb",
      "include_colab_link": true
    },
    "kernelspec": {
      "name": "python3",
      "display_name": "Python 3"
    },
    "language_info": {
      "name": "python"
    }
  },
  "cells": [
    {
      "cell_type": "markdown",
      "metadata": {
        "id": "view-in-github",
        "colab_type": "text"
      },
      "source": [
        "<a href=\"https://colab.research.google.com/github/garlic3/ai/blob/main/h2.ipynb\" target=\"_parent\"><img src=\"https://colab.research.google.com/assets/colab-badge.svg\" alt=\"Open In Colab\"/></a>"
      ]
    },
    {
      "cell_type": "code",
      "execution_count": null,
      "metadata": {
        "colab": {
          "base_uri": "https://localhost:8080/"
        },
        "id": "OKUodVU7a0rl",
        "outputId": "0a62b7e7-f617-486d-c86c-62c90fb4e037"
      },
      "outputs": [
        {
          "output_type": "stream",
          "name": "stdout",
          "text": [
            "['닥터스트레인지', '스플릿', '럭키']\n"
          ]
        }
      ],
      "source": [
        "#001\n",
        "movie_rank = [\"닥터스트레인지\", \"스플릿\", \"럭키\"]\n",
        "print(movie_rank)"
      ]
    },
    {
      "cell_type": "code",
      "source": [
        "#002\n",
        "movie_rank.append(\"배트맨\")\n",
        "print(movie_rank)"
      ],
      "metadata": {
        "colab": {
          "base_uri": "https://localhost:8080/"
        },
        "id": "-OQTEWpPbgKF",
        "outputId": "91d7966a-78e5-4e8c-fd0c-c1c490f69434"
      },
      "execution_count": null,
      "outputs": [
        {
          "output_type": "stream",
          "name": "stdout",
          "text": [
            "['닥터스트레인지', '스플릿', '럭키', '배트맨']\n"
          ]
        }
      ]
    },
    {
      "cell_type": "code",
      "source": [
        "#003\n",
        "movie_rank = ['닥터스트레인지', '스플릿', '럭키', '배트맨']\n",
        "movie_rank.insert(1, \"슈퍼맨\")\n",
        "print(movie_rank)"
      ],
      "metadata": {
        "colab": {
          "base_uri": "https://localhost:8080/"
        },
        "id": "WnxiDfaCbnw1",
        "outputId": "548b2ceb-c4e7-457a-99cd-7eda73aa060d"
      },
      "execution_count": null,
      "outputs": [
        {
          "output_type": "stream",
          "name": "stdout",
          "text": [
            "['닥터스트레인지', '슈퍼맨', '스플릿', '럭키', '배트맨']\n"
          ]
        }
      ]
    },
    {
      "cell_type": "code",
      "source": [
        "#004\n",
        "del movie_rank[-2]\n",
        "print(movie_rank)"
      ],
      "metadata": {
        "colab": {
          "base_uri": "https://localhost:8080/"
        },
        "id": "NdkD8GCadFTc",
        "outputId": "1ed4d7ee-8c93-407d-f19f-ab376cdd5bbb"
      },
      "execution_count": null,
      "outputs": [
        {
          "output_type": "stream",
          "name": "stdout",
          "text": [
            "['닥터스트레인지', '스플릿', '슈퍼맨', '배트맨']\n"
          ]
        }
      ]
    },
    {
      "cell_type": "code",
      "source": [
        "#005\n",
        "moive_rank = ['닥터스트레인지', '스플릿', '슈퍼맨', '배트맨']\n",
        "del moive_rank[-2:]\n",
        "print(moive_rank)"
      ],
      "metadata": {
        "colab": {
          "base_uri": "https://localhost:8080/"
        },
        "id": "i5oUA4todfLq",
        "outputId": "7b38ed47-9522-4df8-f278-9084c0807ea5"
      },
      "execution_count": null,
      "outputs": [
        {
          "output_type": "stream",
          "name": "stdout",
          "text": [
            "['닥터스트레인지', '스플릿']\n"
          ]
        }
      ]
    },
    {
      "cell_type": "code",
      "source": [
        "#006\n",
        "lang1 = [\"C\",\"C++\",\"JAVA\"]\n",
        "lang2 = [\"Python\",\"Go\",\"C#\"]\n",
        "\n",
        "langs = lang1 + lang2\n",
        "print(langs)\n"
      ],
      "metadata": {
        "colab": {
          "base_uri": "https://localhost:8080/"
        },
        "id": "VFUNUevQdwwj",
        "outputId": "0dbc37ac-337e-4a36-a038-98d5c15621bb"
      },
      "execution_count": null,
      "outputs": [
        {
          "output_type": "stream",
          "name": "stdout",
          "text": [
            "['C', 'C++', 'JAVA', 'Python', 'Go', 'C#']\n"
          ]
        }
      ]
    },
    {
      "cell_type": "code",
      "source": [
        "#007\n",
        "nums = [1,2,3,4,5,6,7]\n",
        "max = max(nums)\n",
        "min = min(nums)\n",
        "\n",
        "print(max)\n",
        "print(min)"
      ],
      "metadata": {
        "colab": {
          "base_uri": "https://localhost:8080/"
        },
        "id": "iMlq748IeMnH",
        "outputId": "5b54dcbc-e5dc-4c5e-9444-a3794c4ab980"
      },
      "execution_count": null,
      "outputs": [
        {
          "output_type": "stream",
          "name": "stdout",
          "text": [
            "7\n",
            "1\n"
          ]
        }
      ]
    },
    {
      "cell_type": "code",
      "source": [
        "#008\n",
        "nums = [1,2,3,4,5]\n",
        "sum = nums[0]+nums[1]+nums[2]+nums[3]+nums[4]\n",
        "print(sum)\n",
        "#for문 사용?\n",
        "\n",
        "''' print(sum(nums))"
      ],
      "metadata": {
        "colab": {
          "base_uri": "https://localhost:8080/"
        },
        "id": "-O-rQCxpeZUm",
        "outputId": "6121e0f0-9955-46d5-ae35-3f69e8d106a6"
      },
      "execution_count": null,
      "outputs": [
        {
          "output_type": "stream",
          "name": "stdout",
          "text": [
            "15\n"
          ]
        }
      ]
    },
    {
      "cell_type": "code",
      "source": [
        "#009\n",
        "cook = [\"피자\", \"김밥\", \"만두\", \"양념치킨\", \"족발\", \"피자\", \"김치만두\", \"쫄면\", \"쏘세지\", \"라면\", \"팥빙수\", \"김치전\"]\n",
        "print(len(cook))"
      ],
      "metadata": {
        "colab": {
          "base_uri": "https://localhost:8080/"
        },
        "id": "2ZSbzV2NfBtu",
        "outputId": "2286dadc-7fc6-4ac8-8ca8-3afdc6fda546"
      },
      "execution_count": null,
      "outputs": [
        {
          "output_type": "stream",
          "name": "stdout",
          "text": [
            "12\n"
          ]
        }
      ]
    },
    {
      "cell_type": "code",
      "source": [
        "#010\n",
        "nums = [1,2,3,4,5]\n",
        "r = sum/int(len(nums))\n",
        "print(r)"
      ],
      "metadata": {
        "colab": {
          "base_uri": "https://localhost:8080/"
        },
        "id": "spvVKQ5SfLT_",
        "outputId": "7c8df941-96ca-47de-d82e-3e4a2da944a8"
      },
      "execution_count": null,
      "outputs": [
        {
          "output_type": "stream",
          "name": "stdout",
          "text": [
            "3.0\n"
          ]
        }
      ]
    },
    {
      "cell_type": "code",
      "source": [
        "#011\n",
        "s = input(\"문자를 한개 입력해주세요\")\n",
        "if s.islower() == True:\n",
        "  print(s.upper())\n",
        "else:\n",
        "  print(s.lower())"
      ],
      "metadata": {
        "colab": {
          "base_uri": "https://localhost:8080/"
        },
        "id": "QAGXDbcGgca3",
        "outputId": "17c0030a-940e-4a03-ea91-6715988806b8"
      },
      "execution_count": null,
      "outputs": [
        {
          "output_type": "stream",
          "name": "stdout",
          "text": [
            "문자를 한개 입력해주세요A\n",
            "a\n"
          ]
        }
      ]
    },
    {
      "cell_type": "code",
      "source": [
        "#012\n",
        "s = int(input(\"점수를 입력해주세요\"))\n",
        "g = \"\"\n",
        "if 80< s<=100:\n",
        "  g =\"A\"\n",
        "elif 60<s<=80:\n",
        "  g=\"B\"\n",
        "elif 40<s<=60:\n",
        "  g=\"C\"\n",
        "elif 20<s<=40:\n",
        "  g=\"D\"\n",
        "else:\n",
        "  g=\"E\"  \n",
        "print(f\"score:{s}\\ngrade is {g}\")"
      ],
      "metadata": {
        "colab": {
          "base_uri": "https://localhost:8080/"
        },
        "id": "lNQ6LwLzhKYW",
        "outputId": "40e6810d-2b71-4e38-b27d-969e7850455e"
      },
      "execution_count": null,
      "outputs": [
        {
          "output_type": "stream",
          "name": "stdout",
          "text": [
            "점수를 입력해주세요100\n",
            "score:100\n",
            "grade is A\n"
          ]
        }
      ]
    },
    {
      "cell_type": "code",
      "source": [
        "#013\n",
        "m = input(\"금액을 입력하세요\")\n",
        "if \"달러\" in m:\n",
        "  nm = int(m[:-2])\n",
        "  r = nm*1167\n",
        "elif \"엔\" in m:\n",
        "  nm = int(m[:-1])\n",
        "  r = nm*1.096\n",
        "elif \"유로\" in m:\n",
        "  nm = int(m[:-2])\n",
        "  r = nm*1268\n",
        "else:\n",
        "  nm = int(m[:-2])\n",
        "  r = nm*171\n",
        "print(f\"입력:{m}\\n{r}원\")\n",
        "\n",
        "''' 환율 = {'달러':1167,'엔':1.096,'유로':1268,'위안':171}\n",
        "user = input('입력:')\n",
        "num,currency = user.split()\n",
        "print(float(num)*환율[currency], '원')'''"
      ],
      "metadata": {
        "colab": {
          "base_uri": "https://localhost:8080/"
        },
        "id": "nxU5v6FHiG8I",
        "outputId": "8e7549d8-1870-4d85-f46b-89940e793330"
      },
      "execution_count": null,
      "outputs": [
        {
          "output_type": "stream",
          "name": "stdout",
          "text": [
            "금액을 입력하세요100 달러\n",
            "입력:100 달러\n",
            "116700원\n"
          ]
        }
      ]
    },
    {
      "cell_type": "code",
      "source": [
        "#014\n",
        "a =int(input(\"input number1:\"))\n",
        "b =int(input(\"input number2:\"))\n",
        "c =int(input(\"input number3:\"))\n",
        "big = \"\"\n",
        "\n",
        "if a>b & a > c:\n",
        "  big = a\n",
        "elif b > c:\n",
        "  big = b\n",
        "else: \n",
        "  big = c \n",
        "print(big)  "
      ],
      "metadata": {
        "id": "feWwS06QjRT3",
        "colab": {
          "base_uri": "https://localhost:8080/"
        },
        "outputId": "ad32b778-ed6e-49da-b97a-11549834cc76"
      },
      "execution_count": null,
      "outputs": [
        {
          "output_type": "stream",
          "name": "stdout",
          "text": [
            "input number1:3\n",
            "input number2:2\n",
            "input number3:5\n",
            "5\n"
          ]
        }
      ]
    },
    {
      "cell_type": "code",
      "source": [
        "#015\n",
        "p = input(\"휴대전화 번호 입력:\")\n",
        "t = \"\"\n",
        "if \"010\" in p:\n",
        "  t = \"SKT\"\n",
        "elif \"016\" in p:\n",
        "  t = \"KT\"\n",
        "elif \"019\" in p:\n",
        "  t = \"LGU\"\n",
        "else:\n",
        "  t = \"알수없는\"\n",
        "print(f\"당신은 {t}사용자 입니다\")    "
      ],
      "metadata": {
        "colab": {
          "base_uri": "https://localhost:8080/"
        },
        "id": "6zgbQUakjczD",
        "outputId": "a74fedc0-2df2-498e-cda9-59e72ff45485"
      },
      "execution_count": null,
      "outputs": [
        {
          "output_type": "stream",
          "name": "stdout",
          "text": [
            "휴대전화 번호 입력:010-1234-1234\n",
            "당신은 SKT사용자 입니다\n"
          ]
        }
      ]
    },
    {
      "cell_type": "code",
      "source": [
        "#016\n",
        "p = [input(\"우편번호:\")]\n",
        "c = \"\"\n",
        "if 0 or 1 or 2 in p[2]:\n",
        "  c = \"강북구\"\n",
        "elif 3 or 4 or 5 in p[2]:\n",
        "  c = \"도봉구\"\n",
        "elif 6 or 7 or 8 or 9 in p[2]:\n",
        "  c = \"노원구\"\n",
        "print(f\"{c}\")  \n"
      ],
      "metadata": {
        "colab": {
          "base_uri": "https://localhost:8080/"
        },
        "id": "MNDcie0Vkn9P",
        "outputId": "1c8239fb-aeda-49ad-cfae-af033ade155e"
      },
      "execution_count": null,
      "outputs": [
        {
          "output_type": "stream",
          "name": "stdout",
          "text": [
            "우편번호:01098\n",
            "강북구\n"
          ]
        }
      ]
    },
    {
      "cell_type": "code",
      "source": [
        "#017\n",
        "n = input(\"주민등록번호:\")\n",
        "if \"1\" in n[7] or \"3\" in n[7]:\n",
        "  r=\"남자\"\n",
        "elif \"2\" in n[7] or \"4\"in n[7]:\n",
        "  r=\"여자\"\n",
        "print(f\"{r}\")    "
      ],
      "metadata": {
        "id": "wRxBXR0-mJs-",
        "colab": {
          "base_uri": "https://localhost:8080/"
        },
        "outputId": "647993de-33ee-4692-d751-3090eb6d8f6e"
      },
      "execution_count": null,
      "outputs": [
        {
          "output_type": "stream",
          "name": "stdout",
          "text": [
            "주민등록번호:123412-432121\n",
            "여자\n"
          ]
        }
      ]
    },
    {
      "cell_type": "code",
      "source": [
        "#018\n",
        "n = input(\"주민등록번호:\")\n",
        "c = int(n[8:10])\n",
        "r =\"\"\n",
        "if 0 <= c <= 8:\n",
        "  r=\" 입니다\"\n",
        "else:\n",
        "  r=\"이 아닙니다\"\n",
        "print(f\"서울{r}\")  "
      ],
      "metadata": {
        "colab": {
          "base_uri": "https://localhost:8080/"
        },
        "id": "zW4n8PFay_ET",
        "outputId": "72e08276-b924-4d2d-8816-b4ae096b67fe"
      },
      "execution_count": null,
      "outputs": [
        {
          "output_type": "stream",
          "name": "stdout",
          "text": [
            "주민등록번호:123412-1082123\n",
            "서울 입니다\n"
          ]
        }
      ]
    },
    {
      "cell_type": "code",
      "source": [
        "#019\n",
        "#for문 사용?"
      ],
      "metadata": {
        "id": "C-GYxmfo0Wv6"
      },
      "execution_count": null,
      "outputs": []
    },
    {
      "cell_type": "code",
      "source": [
        "#020\n",
        "import requests\n",
        "btc = requests.get(\"https://api.bithumb.com/public/ticker/\").json()['data']\n",
        "price_change = int(min_price() - int(max_price)\n",
        "result = int(closing_price) + int(price_change)\n",
        "if reuslt > max_price:\n",
        "  print(\"상승장\")\n",
        "else:\n",
        "  print(\"하락장\")"
      ],
      "metadata": {
        "colab": {
          "base_uri": "https://localhost:8080/",
          "height": 248
        },
        "id": "2Ms2JAIUxOLX",
        "outputId": "48c0ee17-c6c6-4a05-cdf3-fb5db834cdcd"
      },
      "execution_count": null,
      "outputs": [
        {
          "output_type": "error",
          "ename": "NameError",
          "evalue": "ignored",
          "traceback": [
            "\u001b[0;31m---------------------------------------------------------------------------\u001b[0m",
            "\u001b[0;31mNameError\u001b[0m                                 Traceback (most recent call last)",
            "\u001b[0;32m<ipython-input-52-368c66fa19f6>\u001b[0m in \u001b[0;36m<module>\u001b[0;34m()\u001b[0m\n\u001b[1;32m      2\u001b[0m \u001b[0;32mimport\u001b[0m \u001b[0mrequests\u001b[0m\u001b[0;34m\u001b[0m\u001b[0;34m\u001b[0m\u001b[0m\n\u001b[1;32m      3\u001b[0m \u001b[0mbtc\u001b[0m \u001b[0;34m=\u001b[0m \u001b[0mrequests\u001b[0m\u001b[0;34m.\u001b[0m\u001b[0mget\u001b[0m\u001b[0;34m(\u001b[0m\u001b[0;34m\"https://api.bithumb.com/public/ticker/\"\u001b[0m\u001b[0;34m)\u001b[0m\u001b[0;34m.\u001b[0m\u001b[0mjson\u001b[0m\u001b[0;34m(\u001b[0m\u001b[0;34m)\u001b[0m\u001b[0;34m[\u001b[0m\u001b[0;34m'data'\u001b[0m\u001b[0;34m]\u001b[0m\u001b[0;34m\u001b[0m\u001b[0;34m\u001b[0m\u001b[0m\n\u001b[0;32m----> 4\u001b[0;31m \u001b[0mprice_change\u001b[0m \u001b[0;34m=\u001b[0m \u001b[0mmin_price\u001b[0m \u001b[0;34m-\u001b[0m \u001b[0mmax_price\u001b[0m\u001b[0;34m\u001b[0m\u001b[0;34m\u001b[0m\u001b[0m\n\u001b[0m\u001b[1;32m      5\u001b[0m \u001b[0mresult\u001b[0m \u001b[0;34m=\u001b[0m \u001b[0mclosing_price\u001b[0m \u001b[0;34m+\u001b[0m \u001b[0mprice_change\u001b[0m\u001b[0;34m\u001b[0m\u001b[0;34m\u001b[0m\u001b[0m\n\u001b[1;32m      6\u001b[0m \u001b[0;32mif\u001b[0m \u001b[0mreuslt\u001b[0m \u001b[0;34m>\u001b[0m \u001b[0mmax_price\u001b[0m\u001b[0;34m:\u001b[0m\u001b[0;34m\u001b[0m\u001b[0;34m\u001b[0m\u001b[0m\n",
            "\u001b[0;31mNameError\u001b[0m: name 'min_price' is not defined"
          ]
        }
      ]
    }
  ]
}