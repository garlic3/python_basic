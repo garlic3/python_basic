{
  "nbformat": 4,
  "nbformat_minor": 0,
  "metadata": {
    "colab": {
      "name": "h11.ipynb",
      "provenance": [],
      "authorship_tag": "ABX9TyM5g+yppqAd6uuNU7xKploY",
      "include_colab_link": true
    },
    "kernelspec": {
      "name": "python3",
      "display_name": "Python 3"
    },
    "language_info": {
      "name": "python"
    }
  },
  "cells": [
    {
      "cell_type": "markdown",
      "metadata": {
        "id": "view-in-github",
        "colab_type": "text"
      },
      "source": [
        "<a href=\"https://colab.research.google.com/github/garlic3/ai/blob/main/h11.ipynb\" target=\"_parent\"><img src=\"https://colab.research.google.com/assets/colab-badge.svg\" alt=\"Open In Colab\"/></a>"
      ]
    },
    {
      "cell_type": "code",
      "execution_count": null,
      "metadata": {
        "id": "GGkxPSCOiW9T"
      },
      "outputs": [],
      "source": [
        "'''\n",
        "536)\n",
        "b\n",
        "537)\n",
        "a\n",
        "538)\n",
        "c\n",
        "# 539)\n",
        "b\n",
        "540)\n",
        "b\n",
        "541)\n",
        "d\n",
        "542)\n",
        "c\n",
        "543)\n",
        "b\n",
        "# 544)\n",
        "a\n",
        "545)\n",
        "a\n",
        "546)\n",
        "b\n",
        "547)\n",
        "a\n",
        "548)\n",
        "b\n",
        "549)\n",
        "d\n",
        "550)\n",
        "d\n",
        "# 551)\n",
        "d\n",
        "552)\n",
        "d\n",
        "# 553)\n",
        "b\n",
        "# 554)\n",
        "a\n",
        "555)\n",
        "d\n",
        "'''"
      ]
    },
    {
      "cell_type": "code",
      "source": [
        "# \n",
        "\n",
        "q = input('Enter something')\n",
        "str = ''\n",
        "num = ''\n",
        "for i in q:\n",
        "  if 65 <= ord(i.upper()) <= 90 or ord(i) == 32:\n",
        "    str += i\n",
        "  else:\n",
        "    num += i  \n",
        "print(f'str: {str}')\n",
        "print(f'num: {num}')\n",
        "\n"
      ],
      "metadata": {
        "colab": {
          "base_uri": "https://localhost:8080/"
        },
        "id": "wNj4yXrCnY_I",
        "outputId": "d87411c9-2e37-4bd1-de4c-30c26ed25cb2"
      },
      "execution_count": 11,
      "outputs": [
        {
          "output_type": "stream",
          "name": "stdout",
          "text": [
            "65\n",
            "90\n",
            "Enter somethingc910m6ia 1ho\n",
            "str: cmia ho\n",
            "num: 91061\n"
          ]
        }
      ]
    },
    {
      "cell_type": "code",
      "source": [
        ""
      ],
      "metadata": {
        "id": "QweaEPpVntmO"
      },
      "execution_count": null,
      "outputs": []
    }
  ]
}