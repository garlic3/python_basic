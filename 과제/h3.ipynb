{
  "nbformat": 4,
  "nbformat_minor": 0,
  "metadata": {
    "colab": {
      "name": "h3.ipynb",
      "provenance": [],
      "collapsed_sections": [],
      "authorship_tag": "ABX9TyM9qtzj3nfccwtpHPSBhfm3",
      "include_colab_link": true
    },
    "kernelspec": {
      "name": "python3",
      "display_name": "Python 3"
    },
    "language_info": {
      "name": "python"
    }
  },
  "cells": [
    {
      "cell_type": "markdown",
      "metadata": {
        "id": "view-in-github",
        "colab_type": "text"
      },
      "source": [
        "<a href=\"https://colab.research.google.com/github/garlic3/ai/blob/main/h3.ipynb\" target=\"_parent\"><img src=\"https://colab.research.google.com/assets/colab-badge.svg\" alt=\"Open In Colab\"/></a>"
      ]
    },
    {
      "cell_type": "code",
      "execution_count": null,
      "metadata": {
        "colab": {
          "base_uri": "https://localhost:8080/"
        },
        "id": "VZhCUPdpmTmR",
        "outputId": "998e9853-ff90-4964-af9b-01d916dfc24a"
      },
      "outputs": [
        {
          "output_type": "execute_result",
          "data": {
            "text/plain": [
              "['300원', '20개']"
            ]
          },
          "metadata": {},
          "execution_count": 10
        }
      ],
      "source": [
        "#001\n",
        "m = ['300원', '20개']\n",
        "b = ['300원', '3개']\n",
        "j = ['250원', '100개']\n",
        "inventory = {'메로나':m, '비비빅':b, '죠스바':j}"
      ]
    },
    {
      "cell_type": "code",
      "source": [
        "#002\n",
        "print(inventory['메로나'][0])"
      ],
      "metadata": {
        "colab": {
          "base_uri": "https://localhost:8080/",
          "height": 35
        },
        "id": "E9MNLLY3nY7L",
        "outputId": "b7c9f5f6-130d-45a9-f000-791706355d07"
      },
      "execution_count": null,
      "outputs": [
        {
          "output_type": "execute_result",
          "data": {
            "application/vnd.google.colaboratory.intrinsic+json": {
              "type": "string"
            },
            "text/plain": [
              "'300원'"
            ]
          },
          "metadata": {},
          "execution_count": 13
        }
      ]
    },
    {
      "cell_type": "code",
      "source": [
        "#093\n",
        "\n",
        "print(inventory['메로나'][1])"
      ],
      "metadata": {
        "colab": {
          "base_uri": "https://localhost:8080/"
        },
        "id": "eqniLmOmqIli",
        "outputId": "e4cfcffc-555d-4c4e-88e1-d20757a30334"
      },
      "execution_count": null,
      "outputs": [
        {
          "output_type": "stream",
          "name": "stdout",
          "text": [
            "20개\n"
          ]
        }
      ]
    },
    {
      "cell_type": "code",
      "source": [
        "#094\n",
        "inventory['월드콘'] = ['500원', '7개']\n",
        "print(inventory)"
      ],
      "metadata": {
        "colab": {
          "base_uri": "https://localhost:8080/"
        },
        "id": "unLTRZdjqfhD",
        "outputId": "a2489669-8271-4fea-8fa0-ed20bec0d722"
      },
      "execution_count": null,
      "outputs": [
        {
          "output_type": "stream",
          "name": "stdout",
          "text": [
            "{'메로나': ['300원', '20개'], '비비빅': ['300원', '3개'], '죠스바': ['250원', '100개'], '월드콘': ['500원', '7개']}\n"
          ]
        }
      ]
    },
    {
      "cell_type": "code",
      "source": [
        "#095\n",
        "ilist = ['탱크보이', '폴라포', '빵빠레', '월드콘', '메로나']\n",
        "print(ilist)"
      ],
      "metadata": {
        "colab": {
          "base_uri": "https://localhost:8080/"
        },
        "id": "SZAu7bSKq0LE",
        "outputId": "0679468a-be5e-4870-f2e7-97a874a44029"
      },
      "execution_count": null,
      "outputs": [
        {
          "output_type": "stream",
          "name": "stdout",
          "text": [
            "['탱크보이', '폴라포', '빵빠레', '월드콘', '메로나']\n"
          ]
        }
      ]
    },
    {
      "cell_type": "code",
      "source": [
        "#096\n",
        "clist = ['1200', '1200', '1800', '1500', '1000']\n",
        "print(clist)"
      ],
      "metadata": {
        "id": "5IkJLYQOrMFn"
      },
      "execution_count": null,
      "outputs": []
    },
    {
      "cell_type": "code",
      "source": [
        "#097\n",
        "icecream = {'탱크보이': 1200, '폴라포': 1200, '빵빠레': 1800, '월드콘 ': 1500, '메로나': 1000}\n",
        "sum = 0\n",
        "for i in icecream:\n",
        "  sum = sum + int(icecream[i])\n",
        "print(sum)  "
      ],
      "metadata": {
        "colab": {
          "base_uri": "https://localhost:8080/"
        },
        "id": "u3B9FIAHrb0T",
        "outputId": "f878efa2-b990-4843-b75a-45074059b00f"
      },
      "execution_count": null,
      "outputs": [
        {
          "output_type": "stream",
          "name": "stdout",
          "text": [
            "6700\n"
          ]
        }
      ]
    },
    {
      "cell_type": "code",
      "source": [
        "#098\n",
        "icecream = {'탱크보이': 1200, '폴라포': 1200, '빵빠레': 1800, '월드콘 ': 1500, '메로나': 1000}\n",
        "new_product = {'팥빙수':2700, '아맛나':1000}\n",
        "icecream['팥빙수'] = 2700\n",
        "icecream['아맛나'] = 1000\n",
        "\n",
        "print(icecream)\n"
      ],
      "metadata": {
        "colab": {
          "base_uri": "https://localhost:8080/"
        },
        "id": "lKR2Jc8ysA34",
        "outputId": "fa020093-135e-495c-a9f9-1d92b9793205"
      },
      "execution_count": null,
      "outputs": [
        {
          "output_type": "stream",
          "name": "stdout",
          "text": [
            "{'탱크보이': 1200, '폴라포': 1200, '빵빠레': 1800, '월드콘 ': 1500, '메로나': 1000, '팥빙수': 2700, '아맛나': 1000}\n"
          ]
        }
      ]
    },
    {
      "cell_type": "code",
      "source": [
        "#099\n",
        "keys = (\"apple\", \"pear\", \"peach\") \n",
        "vals = (300, 250, 400)\n",
        "\n",
        "result = {'apple':300, 'pear': 250, 'peach':400}\n",
        "print(result)"
      ],
      "metadata": {
        "colab": {
          "base_uri": "https://localhost:8080/"
        },
        "id": "NIbtz2mqsq-p",
        "outputId": "6d7e01dd-fe73-4b58-a3bc-1146f3aebe3b"
      },
      "execution_count": null,
      "outputs": [
        {
          "output_type": "stream",
          "name": "stdout",
          "text": [
            "{'apple': 300, 'pear': 250, 'peach': 400}\n"
          ]
        }
      ]
    },
    {
      "cell_type": "code",
      "source": [
        "#100\n",
        "date = ['09/05', '09/06', '09/07', '09/08', '09/09']\n",
        "close_price = [10500, 10300, 10100, 10800, 11000]\n",
        "for i in range (0,5):\n",
        "  close_table[date[i]] = {close_price[i]}\n",
        "print(close_table)"
      ],
      "metadata": {
        "colab": {
          "base_uri": "https://localhost:8080/"
        },
        "id": "XSUoZn60tmgE",
        "outputId": "749aa2f8-74b4-4181-ea7e-5290bf495554"
      },
      "execution_count": null,
      "outputs": [
        {
          "output_type": "stream",
          "name": "stdout",
          "text": [
            "{'09/09': {11000}, '09/06': {10300}, '09/07': {10100}, '09/08': {10800}, '09/05': {10500}}\n"
          ]
        }
      ]
    },
    {
      "cell_type": "code",
      "source": [
        "#151\n",
        "list = [3,-20,-3,44]\n",
        "for i in list:\n",
        "  if i < 0:\n",
        "    print(i)"
      ],
      "metadata": {
        "colab": {
          "base_uri": "https://localhost:8080/"
        },
        "id": "DWJJROMZumCe",
        "outputId": "756b748c-a3a3-4324-95d9-eb10e4760915"
      },
      "execution_count": null,
      "outputs": [
        {
          "output_type": "stream",
          "name": "stdout",
          "text": [
            "-20\n",
            "-3\n"
          ]
        }
      ]
    },
    {
      "cell_type": "code",
      "source": [
        "#152\n",
        "list = [3,100,23,44]\n",
        "for i in list:\n",
        "  if i % 3 == 0:\n",
        "    print(i)"
      ],
      "metadata": {
        "colab": {
          "base_uri": "https://localhost:8080/"
        },
        "id": "Ik3nu3AZxtd2",
        "outputId": "28ff526d-8de3-4074-f4ca-6bb71d5ae5c2"
      },
      "execution_count": null,
      "outputs": [
        {
          "output_type": "stream",
          "name": "stdout",
          "text": [
            "3\n"
          ]
        }
      ]
    },
    {
      "cell_type": "code",
      "source": [
        "#153\n",
        "list = [13,21,12,14,30,18]\n",
        "for i in list:\n",
        "  if i % 3 ==0 and i<20:\n",
        "    print(i)"
      ],
      "metadata": {
        "colab": {
          "base_uri": "https://localhost:8080/"
        },
        "id": "HJO-0gQWx13h",
        "outputId": "793c41fb-288f-4181-f614-073ceb3b9486"
      },
      "execution_count": null,
      "outputs": [
        {
          "output_type": "stream",
          "name": "stdout",
          "text": [
            "12\n",
            "18\n"
          ]
        }
      ]
    },
    {
      "cell_type": "code",
      "source": [
        "#154\n",
        "list = [\"I\", \"study\", \"python\", \"language\", \"!\"]\n",
        "for i in list:\n",
        "  if len(i) >= 3:\n",
        "    print(i)"
      ],
      "metadata": {
        "colab": {
          "base_uri": "https://localhost:8080/"
        },
        "id": "W-CDZwz5yAhK",
        "outputId": "85678a7e-d21d-4f03-bca4-250bf463218f"
      },
      "execution_count": null,
      "outputs": [
        {
          "output_type": "stream",
          "name": "stdout",
          "text": [
            "study\n",
            "python\n",
            "language\n"
          ]
        }
      ]
    },
    {
      "cell_type": "code",
      "source": [
        "#155\n",
        "list = [\"A\", \"b\", \"c\", \"D\"]\n",
        "for i in list:\n",
        "  if i.isupper() == True:\n",
        "    print(i)"
      ],
      "metadata": {
        "colab": {
          "base_uri": "https://localhost:8080/"
        },
        "id": "5dxb6jn4ydbI",
        "outputId": "d86748de-5cb1-40ff-c3fe-6ceb64eac2c2"
      },
      "execution_count": null,
      "outputs": [
        {
          "output_type": "stream",
          "name": "stdout",
          "text": [
            "A\n",
            "D\n"
          ]
        }
      ]
    },
    {
      "cell_type": "code",
      "source": [
        "#156\n",
        "list = [\"A\", \"b\", \"c\", \"D\"]\n",
        "for i in list:\n",
        "  if i.islower() == True:\n",
        "    print(i)"
      ],
      "metadata": {
        "colab": {
          "base_uri": "https://localhost:8080/"
        },
        "id": "RqqeSyN-y_zn",
        "outputId": "ae01fa64-98cf-48a7-a5d8-e1481351ea9f"
      },
      "execution_count": null,
      "outputs": [
        {
          "output_type": "stream",
          "name": "stdout",
          "text": [
            "b\n",
            "c\n"
          ]
        }
      ]
    },
    {
      "cell_type": "code",
      "source": [
        "#157\n",
        "list = ['dog', 'cat', 'parrot']\n",
        "for i in list:\n",
        "  new = i[0].upper() + i[1:]\n",
        "  print(new)"
      ],
      "metadata": {
        "colab": {
          "base_uri": "https://localhost:8080/"
        },
        "id": "Og9eRpxuzHUx",
        "outputId": "91dd12bb-75ae-4d44-b790-3063087f6acd"
      },
      "execution_count": null,
      "outputs": [
        {
          "output_type": "stream",
          "name": "stdout",
          "text": [
            "Dog\n",
            "Cat\n",
            "Parrot\n"
          ]
        }
      ]
    },
    {
      "cell_type": "code",
      "source": [
        "#158\n",
        "list = ['hello.py', 'ex01.py', 'intro.hwp']\n",
        "for i in list:\n",
        "  if '.py' in i:\n",
        "    new = i.split('.py')\n",
        "    print(new[0])\n",
        "  else:\n",
        "    new = i.split('.hwp')\n",
        "    print(new[0])\n"
      ],
      "metadata": {
        "colab": {
          "base_uri": "https://localhost:8080/"
        },
        "id": "bqqpPYNv06r_",
        "outputId": "d3402c5d-10fa-4ef8-bef2-fe5be3eacb2c"
      },
      "execution_count": null,
      "outputs": [
        {
          "output_type": "stream",
          "name": "stdout",
          "text": [
            "hello\n",
            "ex01\n",
            "intro\n"
          ]
        }
      ]
    },
    {
      "cell_type": "code",
      "source": [
        "#159\n",
        "list = ['intra.h', 'intra.c', 'define.h', 'run.py']\n",
        "for i in list:\n",
        "  if '.h' in i:\n",
        "    print(i)"
      ],
      "metadata": {
        "colab": {
          "base_uri": "https://localhost:8080/"
        },
        "id": "WbH6kf231hP6",
        "outputId": "e927a6f3-834c-4c60-9f62-decc03c1302d"
      },
      "execution_count": null,
      "outputs": [
        {
          "output_type": "stream",
          "name": "stdout",
          "text": [
            "intra.h\n",
            "define.h\n"
          ]
        }
      ]
    },
    {
      "cell_type": "code",
      "source": [
        "#160\n",
        "list = ['intra.h', 'intra.c', 'define.h', 'run.py']\n",
        "for i in list:\n",
        "  if '.h' in i or '.c' in i:\n",
        "    print(i)"
      ],
      "metadata": {
        "colab": {
          "base_uri": "https://localhost:8080/"
        },
        "id": "SGdEUrEn1rhd",
        "outputId": "51eab373-445e-4de4-b93f-769974116ec6"
      },
      "execution_count": null,
      "outputs": [
        {
          "output_type": "stream",
          "name": "stdout",
          "text": [
            "intra.h\n",
            "intra.c\n",
            "define.h\n"
          ]
        }
      ]
    }
  ]
}