{
  "nbformat": 4,
  "nbformat_minor": 0,
  "metadata": {
    "colab": {
      "name": "h4.ipynb",
      "provenance": [],
      "collapsed_sections": [],
      "authorship_tag": "ABX9TyOKGxPH9CNl6Hh/13gtNa/p",
      "include_colab_link": true
    },
    "kernelspec": {
      "name": "python3",
      "display_name": "Python 3"
    },
    "language_info": {
      "name": "python"
    }
  },
  "cells": [
    {
      "cell_type": "markdown",
      "metadata": {
        "id": "view-in-github",
        "colab_type": "text"
      },
      "source": [
        "<a href=\"https://colab.research.google.com/github/garlic3/ai/blob/main/h4.ipynb\" target=\"_parent\"><img src=\"https://colab.research.google.com/assets/colab-badge.svg\" alt=\"Open In Colab\"/></a>"
      ]
    },
    {
      "cell_type": "code",
      "execution_count": null,
      "metadata": {
        "id": "ttmaKspmNdyq"
      },
      "outputs": [],
      "source": [
        "#211\n",
        "\n",
        "'안녕'\n",
        "'Hi'"
      ]
    },
    {
      "cell_type": "code",
      "source": [
        "#212\n",
        "7\n",
        "15"
      ],
      "metadata": {
        "id": "nvfxtDauNmGf"
      },
      "execution_count": null,
      "outputs": []
    },
    {
      "cell_type": "code",
      "source": [
        "#213\n",
        "함수를 호출할때 인수를 넣지 않았기 때문에 에러가 발생됨"
      ],
      "metadata": {
        "id": "bGRUVpNNNp4r"
      },
      "execution_count": null,
      "outputs": []
    },
    {
      "cell_type": "code",
      "source": [
        "#214\n",
        "함수() 는 인수 a 와 인수 b를 더한 결과를 출력하나 문자열인 안녕과 숫자 3은 더할수 없기때문에 에러가 발생됨"
      ],
      "metadata": {
        "id": "ndZs0HlyN049"
      },
      "execution_count": null,
      "outputs": []
    },
    {
      "cell_type": "code",
      "source": [
        "#215\n",
        "def print_with_smile(val):\n",
        "  print(f'{val}:D')\n"
      ],
      "metadata": {
        "id": "eiJXI7AgOHND"
      },
      "execution_count": null,
      "outputs": []
    },
    {
      "cell_type": "code",
      "source": [
        "#216\n",
        "print_with_smile('안녕하세요')"
      ],
      "metadata": {
        "colab": {
          "base_uri": "https://localhost:8080/"
        },
        "id": "TuOVZEBhOX-9",
        "outputId": "d09d32f8-b61a-46b3-9a90-54eaf533e8ed"
      },
      "execution_count": null,
      "outputs": [
        {
          "output_type": "stream",
          "name": "stdout",
          "text": [
            "안녕하세요:D\n"
          ]
        }
      ]
    },
    {
      "cell_type": "code",
      "source": [
        "#217\n",
        "def print_upper_price(val):\n",
        "  price = int(input('현재 가격 입력:'))*0.3\n",
        "  print(f'상한가:{price}')"
      ],
      "metadata": {
        "id": "6xaVKRqrOeZ3"
      },
      "execution_count": null,
      "outputs": []
    },
    {
      "cell_type": "code",
      "source": [
        "#218\n",
        "def print_sum(a,b):\n",
        "  print(a+b)\n"
      ],
      "metadata": {
        "colab": {
          "base_uri": "https://localhost:8080/"
        },
        "id": "Wiw1YfTIO9EZ",
        "outputId": "a912e0cd-e721-4c4c-c6d4-5f688d49c6d8"
      },
      "execution_count": null,
      "outputs": [
        {
          "output_type": "stream",
          "name": "stdout",
          "text": [
            "7\n"
          ]
        }
      ]
    },
    {
      "cell_type": "code",
      "source": [
        "#219\n",
        "def print_arithmetic_operation(a,b):\n",
        "  print(f'{a}+{b} = {a+b}')\n",
        "  print(f'{a}-{b} = {a-b}')\n",
        "  print(f'{a}*{b} = {a*b}')\n",
        "  print(f'{a}/{b} = {a/b}')\n",
        "print_arithmetic_operation(3,4)"
      ],
      "metadata": {
        "colab": {
          "base_uri": "https://localhost:8080/"
        },
        "id": "o4-XnWdXPIgy",
        "outputId": "4fd2c9b2-89e6-42b2-b558-c601e0760ef2"
      },
      "execution_count": null,
      "outputs": [
        {
          "output_type": "stream",
          "name": "stdout",
          "text": [
            "3+4 = 7\n",
            "3-4 = -1\n",
            "3*4 = 12\n",
            "3/4 = 0.75\n"
          ]
        }
      ]
    },
    {
      "cell_type": "code",
      "source": [
        "#220\n",
        "def print_max(a,b,c):\n",
        "  if a > b:\n",
        "    if a > c:\n",
        "      max = a\n",
        "    else:\n",
        "      max = c\n",
        "  elif a < b:\n",
        "    if b > c:\n",
        "      max = b\n",
        "    else:\n",
        "      max = c      \n",
        "  print(f'가장 큰 수는 {max} 입니다')\n"
      ],
      "metadata": {
        "colab": {
          "base_uri": "https://localhost:8080/"
        },
        "id": "zxCKvMh3Pzqs",
        "outputId": "ce2626be-b9f7-405b-c3e2-a5eccb2189e0"
      },
      "execution_count": null,
      "outputs": [
        {
          "output_type": "stream",
          "name": "stdout",
          "text": [
            "가장 큰 수는 9 입니다\n"
          ]
        }
      ]
    },
    {
      "cell_type": "code",
      "source": [
        "#221\n",
        "def print_reverse(val):\n",
        "    print(val[::-1])"
      ],
      "metadata": {
        "colab": {
          "base_uri": "https://localhost:8080/"
        },
        "id": "RJoDuy3KRBnV",
        "outputId": "d1c4570f-472a-4a77-fa07-cc651fb30b3a"
      },
      "execution_count": null,
      "outputs": [
        {
          "output_type": "stream",
          "name": "stdout",
          "text": [
            "olleh\n"
          ]
        }
      ]
    },
    {
      "cell_type": "code",
      "source": [
        "#222\n",
        "def print_score(val):\n",
        "  sum = 0\n",
        "  for i in val:\n",
        "    sum = sum + i\n",
        "  print(sum/len(val))\n",
        "\n",
        "print_score([1,2,3])"
      ],
      "metadata": {
        "colab": {
          "base_uri": "https://localhost:8080/"
        },
        "id": "btODwCYlR_Ws",
        "outputId": "643cd4ca-cd6e-42dc-b60d-3987d9455044"
      },
      "execution_count": null,
      "outputs": [
        {
          "output_type": "stream",
          "name": "stdout",
          "text": [
            "2.0\n"
          ]
        }
      ]
    },
    {
      "cell_type": "code",
      "source": [
        "#223\n",
        "def print_even(val):\n",
        "  for i in val:\n",
        "    if i % 2 == 0:\n",
        "      print(i)\n",
        "\n",
        "print_even ([1, 3, 2, 10, 12, 11, 15]) "
      ],
      "metadata": {
        "colab": {
          "base_uri": "https://localhost:8080/"
        },
        "id": "888SrxRuRfPr",
        "outputId": "31c1757f-99d0-4ee8-fa22-b815c4589c94"
      },
      "execution_count": null,
      "outputs": [
        {
          "output_type": "stream",
          "name": "stdout",
          "text": [
            "2\n",
            "10\n",
            "12\n"
          ]
        }
      ]
    },
    {
      "cell_type": "code",
      "source": [
        "#224\n",
        "def print_keys(val):\n",
        "  k = val.keys()\n",
        "  for i in k:\n",
        "    print(i)\n",
        "\n",
        "print_keys ({\"이름\":\"김말똥\", \"나이\":30, \"성별\":0})  "
      ],
      "metadata": {
        "colab": {
          "base_uri": "https://localhost:8080/"
        },
        "id": "GE8c0K4DUysp",
        "outputId": "60cf66e0-48eb-4dfc-a4ee-79706e34bbbe"
      },
      "execution_count": null,
      "outputs": [
        {
          "output_type": "stream",
          "name": "stdout",
          "text": [
            "이름\n",
            "나이\n",
            "성별\n"
          ]
        }
      ]
    },
    {
      "cell_type": "code",
      "source": [
        "#225\n",
        "my_dict = {\"10/26\" : [100, 130, 100, 100],\"10/27\" : [10, 12, 10, 11]}\n",
        "\n",
        "def print_value_by_key(dict_name, date):\n",
        "  print(my_dict[date])\n",
        "\n",
        "print_value_by_key (my_dict, \"10/26\")  \n"
      ],
      "metadata": {
        "colab": {
          "base_uri": "https://localhost:8080/"
        },
        "id": "XipN9lPRVbL8",
        "outputId": "540ab6c2-e3ff-4da7-fe2e-02f5e2f0343b"
      },
      "execution_count": null,
      "outputs": [
        {
          "output_type": "stream",
          "name": "stdout",
          "text": [
            "[100, 130, 100, 100]\n"
          ]
        }
      ]
    },
    {
      "cell_type": "code",
      "source": [
        "#226\n",
        "def print_5xn(string):\n",
        "  n = int(len(string))//5\n",
        "  for i in range(n+1):\n",
        "    print(string[i*5:i*5+5])\n",
        "print_5xn(\"아이엠어보이유알어걸kjhkjhkjhkjhkj\")  "
      ],
      "metadata": {
        "colab": {
          "base_uri": "https://localhost:8080/"
        },
        "id": "e21FPERuWNz1",
        "outputId": "35cf743f-29c3-40f3-895b-a3138a4dfce4"
      },
      "execution_count": null,
      "outputs": [
        {
          "output_type": "stream",
          "name": "stdout",
          "text": [
            "아이엠어보\n",
            "이유알어걸\n",
            "kjhkj\n",
            "hkjhk\n",
            "jhkj\n"
          ]
        }
      ]
    },
    {
      "cell_type": "code",
      "source": [
        "#227\n",
        "def print_mxn(string, n):\n",
        "  for i in range(n+1):\n",
        "    print(string[n*i:n*i+n])\n",
        "print_mxn(\"아이엠어보이유알어걸\", 3)"
      ],
      "metadata": {
        "colab": {
          "base_uri": "https://localhost:8080/"
        },
        "id": "2utkPjVPWjv0",
        "outputId": "9d275c97-9424-46d4-8961-7c310e6b2a07"
      },
      "execution_count": null,
      "outputs": [
        {
          "output_type": "stream",
          "name": "stdout",
          "text": [
            "아이엠\n",
            "어보이\n",
            "유알어\n",
            "걸\n"
          ]
        }
      ]
    },
    {
      "cell_type": "code",
      "source": [
        "#228\n",
        "def calc_monthly_salary(annual_salary):\n",
        "  salary = int(annual_salary/12)\n",
        "  print(salary)\n",
        "calc_monthly_salary(12000000)  "
      ],
      "metadata": {
        "colab": {
          "base_uri": "https://localhost:8080/"
        },
        "id": "FiFSxaOxW0-E",
        "outputId": "0bad53cf-787b-4872-8972-1474880cd40a"
      },
      "execution_count": null,
      "outputs": [
        {
          "output_type": "stream",
          "name": "stdout",
          "text": [
            "1000000\n"
          ]
        }
      ]
    },
    {
      "cell_type": "code",
      "source": [
        "#229\n",
        "왼쪽: 100\n",
        "오른쪽: 200"
      ],
      "metadata": {
        "id": "f6UR8Tb_XNmH"
      },
      "execution_count": null,
      "outputs": []
    },
    {
      "cell_type": "code",
      "source": [
        "#230\n",
        "왼쪽: 200\n",
        "오른쪽: 100"
      ],
      "metadata": {
        "id": "7w-ACN_GXY1O"
      },
      "execution_count": null,
      "outputs": []
    }
  ]
}