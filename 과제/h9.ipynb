{
  "nbformat": 4,
  "nbformat_minor": 0,
  "metadata": {
    "colab": {
      "name": "h9.ipynb",
      "provenance": [],
      "collapsed_sections": [],
      "authorship_tag": "ABX9TyP3M9tusA5sMISWJsMO7bhg",
      "include_colab_link": true
    },
    "kernelspec": {
      "name": "python3",
      "display_name": "Python 3"
    },
    "language_info": {
      "name": "python"
    }
  },
  "cells": [
    {
      "cell_type": "markdown",
      "metadata": {
        "id": "view-in-github",
        "colab_type": "text"
      },
      "source": [
        "<a href=\"https://colab.research.google.com/github/garlic3/ai/blob/main/h9.ipynb\" target=\"_parent\"><img src=\"https://colab.research.google.com/assets/colab-badge.svg\" alt=\"Open In Colab\"/></a>"
      ]
    },
    {
      "cell_type": "code",
      "execution_count": null,
      "metadata": {
        "id": "7PPwA7ztemu5"
      },
      "outputs": [],
      "source": [
        "'''\n",
        "496) b\n",
        "497) c\n",
        "498) d\n",
        "499) d\n",
        "500) d\n",
        "501) b\n",
        "502) c\n",
        "503) b\n",
        "504) c\n",
        "505) b\n",
        "506) a\n",
        "507) a\n",
        "508) a\n",
        "509) a\n",
        "510) d\n",
        "511) b\n",
        "512) b\n",
        "513) a\n",
        "514) a\n",
        "515) c\n",
        "516)\n",
        "'''\n"
      ]
    },
    {
      "cell_type": "code",
      "source": [
        "def search(x,y,z):\n",
        "  if x + y + z > 180:\n",
        "    return '삼각형이 아닙니다'\n",
        "  nums = [x,y,z]\n",
        "  acute = 0\n",
        "  right = 0\n",
        "  obtuse = 0\n",
        "  for i in nums:\n",
        "    if i < 90:\n",
        "      acute += 1\n",
        "    elif i == 90:\n",
        "      right += 1\n",
        "    else:\n",
        "      obtuse += 1      \n",
        "  if acute == 3:\n",
        "    return '예각삼각형'\n",
        "  elif right == 1:\n",
        "    return '직각삼각형'\n",
        "  elif obtuse == 1:\n",
        "    return '둔각삼각형'\n",
        "       \n",
        "\n",
        "x=int(input('제1각을 입력하세요')) \n",
        "y=int(input('제2각을 입력하세요')) \n",
        "z=int(input('제3각을 입력하세요'))\n",
        "\n",
        "print(search(x,y,z))"
      ],
      "metadata": {
        "colab": {
          "base_uri": "https://localhost:8080/"
        },
        "id": "uqSlv8QPxcMl",
        "outputId": "0f008f00-3db3-4c8b-a8c8-d11eb72939d9"
      },
      "execution_count": 23,
      "outputs": [
        {
          "output_type": "stream",
          "name": "stdout",
          "text": [
            "제1각을 입력하세요120\n",
            "제2각을 입력하세요30\n",
            "제3각을 입력하세요30\n",
            "둔각삼각형\n"
          ]
        }
      ]
    },
    {
      "cell_type": "code",
      "source": [
        ""
      ],
      "metadata": {
        "id": "3qMr4VuXzmEF"
      },
      "execution_count": null,
      "outputs": []
    }
  ]
}