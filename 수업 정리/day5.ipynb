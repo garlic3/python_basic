{
  "nbformat": 4,
  "nbformat_minor": 0,
  "metadata": {
    "colab": {
      "name": "day5.ipynb",
      "provenance": [],
      "collapsed_sections": [],
      "authorship_tag": "ABX9TyOopz5Yv4wj8WORFwAtrxmu",
      "include_colab_link": true
    },
    "kernelspec": {
      "name": "python3",
      "display_name": "Python 3"
    },
    "language_info": {
      "name": "python"
    }
  },
  "cells": [
    {
      "cell_type": "markdown",
      "metadata": {
        "id": "view-in-github",
        "colab_type": "text"
      },
      "source": [
        "<a href=\"https://colab.research.google.com/github/garlic3/ai/blob/main/day5.ipynb\" target=\"_parent\"><img src=\"https://colab.research.google.com/assets/colab-badge.svg\" alt=\"Open In Colab\"/></a>"
      ]
    },
    {
      "cell_type": "code",
      "source": [
        "'''의사코드 pseudo code\n",
        "1. 순차구조\n",
        "  - 슈퍼마켓에 간다\n",
        "  - 라면을 산다\n",
        "  - 집으로 돌아온다\n",
        "2. 선택구조\n",
        "  - 슈퍼마켓에 간다\n",
        "  - 라면이 있나?\n",
        "  라면을 산다\n",
        "   ---------------------\n",
        "   떡을 산다\n",
        "  - 집으로 돌아온다\n",
        "3. 반복구조\n",
        "  - 슈퍼마켓에 간다\n",
        "  - 라면이 있나? \n",
        "  라면을 산다 \n",
        "  ----------------------\n",
        "  떡을 산다\n",
        "  - 거스름돈이 500원 보다 많다\n",
        "  - 붕어빵을 산다\n",
        "  - 집으로 돌아온다'''\n"
      ],
      "metadata": {
        "id": "KZPGzpxfZC26"
      },
      "execution_count": null,
      "outputs": []
    },
    {
      "cell_type": "code",
      "source": [
        "# 삼각형의 면적을 계산하는 알고리즘\n",
        "삼각형의 면적 = 밑변 * 높이 / 2\n",
        "\n",
        "의사코드로 작성\n",
        "- 밑변과 높이를 입력\n",
        "- area <- base * height / 2\n",
        "- area 출력"
      ],
      "metadata": {
        "id": "tpHQ3l9D-ccp"
      },
      "execution_count": null,
      "outputs": []
    },
    {
      "cell_type": "code",
      "source": [
        "\n",
        "base = 3\n",
        "height = 2\n",
        "area = base * height /2\n",
        "print(area)"
      ],
      "metadata": {
        "colab": {
          "base_uri": "https://localhost:8080/"
        },
        "id": "P5h0Y0EJAxHl",
        "outputId": "eaa03e28-6abc-41aa-a198-2cd7314a500a"
      },
      "execution_count": null,
      "outputs": [
        {
          "output_type": "stream",
          "name": "stdout",
          "text": [
            "3.0\n"
          ]
        }
      ]
    },
    {
      "cell_type": "code",
      "source": [
        "#1. 두 데이터의 대소를 판단하는 알고리즘\n",
        "''' 의사코드\n",
        "- a와 b를 입력한다\n",
        "- a > b\n",
        "  a 출력\n",
        "  a = b\n",
        "    a와 b는 같다 출력\n",
        "    --------------\n",
        "    b 출력\n",
        "'''"
      ],
      "metadata": {
        "id": "cFYhTvUBCLAK"
      },
      "execution_count": null,
      "outputs": []
    },
    {
      "cell_type": "code",
      "source": [
        "# function 함수\n",
        "''' \n",
        "함수의 가장 기본형\n",
        "def 함수명():\n",
        "  수행\n",
        "\n",
        "def 함수명(변수):\n",
        "  수행  \n",
        "'''  "
      ],
      "metadata": {
        "id": "EjLGe4k8ZR59"
      },
      "execution_count": null,
      "outputs": []
    },
    {
      "cell_type": "code",
      "source": [
        "def print_1():\n",
        "  print('hi')\n",
        "print_1()"
      ],
      "metadata": {
        "colab": {
          "base_uri": "https://localhost:8080/"
        },
        "id": "SHen1b7RZm4M",
        "outputId": "9438c603-7f55-4546-cdad-5256476ddd46"
      },
      "execution_count": null,
      "outputs": [
        {
          "output_type": "stream",
          "name": "stdout",
          "text": [
            "hi\n"
          ]
        }
      ]
    },
    {
      "cell_type": "code",
      "source": [
        "def print_2(val):\n",
        "  print(val)\n",
        "  print(val)\n",
        "print_2('hi')  "
      ],
      "metadata": {
        "colab": {
          "base_uri": "https://localhost:8080/"
        },
        "id": "MO5FnbWlaRMs",
        "outputId": "b4f221d1-39f6-4cb4-a18c-601df24698d6"
      },
      "execution_count": null,
      "outputs": [
        {
          "output_type": "stream",
          "name": "stdout",
          "text": [
            "hi\n",
            "hi\n"
          ]
        }
      ]
    },
    {
      "cell_type": "code",
      "source": [
        "def print_3(val, n):\n",
        "  for i in range(n):\n",
        "    print(val)\n",
        "\n",
        "print_3('hello', 5)  "
      ],
      "metadata": {
        "colab": {
          "base_uri": "https://localhost:8080/"
        },
        "id": "JEUgSHRvaBST",
        "outputId": "07f32dfe-ed23-459a-df45-9c68f2af4714"
      },
      "execution_count": null,
      "outputs": [
        {
          "output_type": "stream",
          "name": "stdout",
          "text": [
            "hello\n",
            "hello\n",
            "hello\n",
            "hello\n",
            "hello\n"
          ]
        }
      ]
    },
    {
      "cell_type": "code",
      "source": [
        "# 순서를 기본 매개변수를 뒤에 위치시킨다. \n",
        "\n",
        "def print_3(n=2, val):\n",
        "  for i in range(n):\n",
        "    print(val)\n",
        "\n",
        "\n",
        "print_3(4,'hi')"
      ],
      "metadata": {
        "id": "2hajmJbidlQW"
      },
      "execution_count": null,
      "outputs": []
    },
    {
      "cell_type": "code",
      "source": [
        "# 가변 매개 변수\n",
        "def print_n_times(n, *args):\n",
        "  for i in range(n):\n",
        "    for v in args:\n",
        "      print(v)\n",
        "    print()\n",
        "\n",
        "print_n_times(3,'hi','hello','good moring')      \n"
      ],
      "metadata": {
        "colab": {
          "base_uri": "https://localhost:8080/"
        },
        "id": "2WhZwrX-asp8",
        "outputId": "8df60db8-5dc5-4ea3-df3d-6f080f313fc4"
      },
      "execution_count": null,
      "outputs": [
        {
          "output_type": "stream",
          "name": "stdout",
          "text": [
            "hi\n",
            "hello\n",
            "good moring\n",
            "\n",
            "hi\n",
            "hello\n",
            "good moring\n",
            "\n",
            "hi\n",
            "hello\n",
            "good moring\n",
            "\n"
          ]
        }
      ]
    },
    {
      "cell_type": "code",
      "source": [
        "def sum_all(*val):\n",
        "  sum = 0 \n",
        "  for i in val:\n",
        "    sum = sum + i\n",
        "  print(sum)\n",
        "\n",
        "sum_all(1,2,3,4,5)\n",
        "sum_all(1,2,3)\n",
        "'''\n",
        "def sum_all(*val):\n",
        "  print(sum(val))\n",
        "'''"
      ],
      "metadata": {
        "colab": {
          "base_uri": "https://localhost:8080/"
        },
        "id": "uhlaLBHac69s",
        "outputId": "75254f81-9c6d-4a9b-b414-7841396375af"
      },
      "execution_count": null,
      "outputs": [
        {
          "output_type": "stream",
          "name": "stdout",
          "text": [
            "15\n",
            "6\n"
          ]
        }
      ]
    },
    {
      "cell_type": "code",
      "source": [
        "def test(a, b=10, c=100):\n",
        "  print(a+b+c)\n",
        "\n",
        "# 기본형태\n",
        "test(10,20,30)\n",
        "\n",
        "# 모든 매개변수 지정\n",
        "test(a=10,b=20,c=30)\n",
        "\n",
        "# 순서를 섞어서 지정\n",
        "test(c=30,a=10,b=20)\n",
        "\n",
        "# 일부만 지정\n",
        "test(10, c=30)"
      ],
      "metadata": {
        "colab": {
          "base_uri": "https://localhost:8080/"
        },
        "id": "-sC0ma6IlLqT",
        "outputId": "5be139ed-14f1-42f8-d421-322bdae24fee"
      },
      "execution_count": null,
      "outputs": [
        {
          "output_type": "stream",
          "name": "stdout",
          "text": [
            "60\n",
            "60\n",
            "60\n",
            "50\n"
          ]
        }
      ]
    },
    {
      "cell_type": "code",
      "source": [
        "# return 값이 없는 경우\n",
        "def return_test():\n",
        "  print('a위치입니다')\n",
        "  return\n",
        "  print('b위치입니다')\n",
        "def return_test_1():\n",
        "  return 100\n",
        "  \n",
        "return_test()\n",
        "return_test_1()"
      ],
      "metadata": {
        "colab": {
          "base_uri": "https://localhost:8080/"
        },
        "id": "BT0V9zk6lhR6",
        "outputId": "9a192378-0367-4d31-a7a0-bc814171aa71"
      },
      "execution_count": null,
      "outputs": [
        {
          "output_type": "stream",
          "name": "stdout",
          "text": [
            "a위치입니다\n"
          ]
        },
        {
          "output_type": "execute_result",
          "data": {
            "text/plain": [
              "100"
            ]
          },
          "metadata": {},
          "execution_count": 8
        }
      ]
    },
    {
      "cell_type": "code",
      "source": [
        "def sum_all(start,end):\n",
        "  output = 0\n",
        "  for i in range(start, end+1):\n",
        "    output = output + i\n",
        "  return output\n",
        "print('0에서 100까지의 합:',sum_all(0,100))  \n",
        "print('0에서 100까지의 합:',sum_all(0,1000))\n",
        "print('0에서 100까지의 합:', sum_all(50,100))\n",
        "print('0에서 100까지의 합:', sum_all(500,1000))\n"
      ],
      "metadata": {
        "colab": {
          "base_uri": "https://localhost:8080/"
        },
        "id": "Gf5r8x2Gl8VG",
        "outputId": "bce1b3e3-7410-467e-92ad-6709a76ec31b"
      },
      "execution_count": null,
      "outputs": [
        {
          "output_type": "stream",
          "name": "stdout",
          "text": [
            "0에서 100까지의 합: 5050\n",
            "0에서 100까지의 합: 500500\n",
            "0에서 100까지의 합: 3825\n",
            "0에서 100까지의 합: 375750\n"
          ]
        }
      ]
    },
    {
      "cell_type": "code",
      "source": [
        "# 재귀함수\n",
        "def fac(n):\n",
        "  if n == 0:\n",
        "    return 1\n",
        "  else:\n",
        "    return n*fac(n-1)\n",
        "\n",
        "print('3!:',fac(3))\n",
        "print('5!:',fac(5))\n",
        "print('7!:', fac(7))"
      ],
      "metadata": {
        "colab": {
          "base_uri": "https://localhost:8080/"
        },
        "id": "FWx3SeqymHwI",
        "outputId": "7b739c89-b71d-4cc2-dc66-47ac618077c4"
      },
      "execution_count": null,
      "outputs": [
        {
          "output_type": "stream",
          "name": "stdout",
          "text": [
            "3!: 6\n",
            "5!: 120\n",
            "7: 5040\n"
          ]
        }
      ]
    },
    {
      "cell_type": "code",
      "source": [
        "def facto(n):\n",
        "  output = 1\n",
        "  for i in range(1, n+1):\n",
        "    output *= i\n",
        "  return output\n",
        "\n",
        "print('3!:',facto(3))\n",
        "print('5!:',facto(5))\n",
        "print('7!:', facto(7))"
      ],
      "metadata": {
        "colab": {
          "base_uri": "https://localhost:8080/"
        },
        "id": "ZqUGD4eNpiFy",
        "outputId": "f38febcc-1ad6-48b4-c0a7-ad0971aab587"
      },
      "execution_count": null,
      "outputs": [
        {
          "output_type": "stream",
          "name": "stdout",
          "text": [
            "3!: 6\n",
            "5!: 120\n",
            "7: 5040\n"
          ]
        }
      ]
    },
    {
      "cell_type": "code",
      "source": [
        "# 피보나치 수열(토끼의 번식속도, 바이러스 감염 속도)\n",
        "\n",
        "def fibo(n): \n",
        "  if n < 3:\n",
        "    return 1\n",
        "  else:\n",
        "    output = 1\n",
        "    output = fibo(n-1)+ fibo(n-2)\n",
        "    return output\n",
        "\n",
        "print('fibonacci(1):',fibo(1))\n",
        "print('fibonacci(2):',fibo(2))\n",
        "print('fibonacci(3):',fibo(3))\n",
        "print('fibonacci(4):',fibo(4))\n",
        "print('fibonacci(5):',fibo(5))\n",
        "\n"
      ],
      "metadata": {
        "colab": {
          "base_uri": "https://localhost:8080/"
        },
        "id": "0Mo9IIpeqzPr",
        "outputId": "282c4daa-66e7-4171-f16f-f8509ccc0a25"
      },
      "execution_count": null,
      "outputs": [
        {
          "output_type": "stream",
          "name": "stdout",
          "text": [
            "fibonacci(1): 1\n",
            "fibonacci(2): 1\n",
            "fibonacci(3): 2\n",
            "fibonacci(4): 3\n",
            "fibonacci(5): 5\n",
            "8\n"
          ]
        }
      ]
    },
    {
      "cell_type": "code",
      "source": [
        "# 튜플과 함수\n",
        "# 튜플은 함수의 리턴에 많이 사용된다. 함수의 리턴에 튜플을 사용하게 되면 여러개의 값을\n",
        "# 리턴하고 할당 할수 있기 때문이다. \n",
        "\n",
        "def test():\n",
        "  return 10, 20  # 튜플의 (소)괄호는 생략도 가능하다. \n",
        "\n",
        "a, b = test()\n",
        "\n",
        "print(a)\n",
        "print(b)"
      ],
      "metadata": {
        "colab": {
          "base_uri": "https://localhost:8080/"
        },
        "id": "peRGUcphzmTs",
        "outputId": "41517922-da4c-494d-868e-218a35f54615"
      },
      "execution_count": null,
      "outputs": [
        {
          "output_type": "stream",
          "name": "stdout",
          "text": [
            "10\n",
            "20\n"
          ]
        }
      ]
    },
    {
      "cell_type": "code",
      "source": [
        "def add(a,b):  # 그 인수를 담아서 함수에서 사용되는 매개변수 parameter\n",
        "  return a+b\n",
        "\n",
        "\n",
        "\n",
        "a = 3  # 함수로 들어가는 실제 값을 인수 arguments\n",
        "b = 4\n",
        "c = add(a,b)\n",
        "print(c)\n",
        "\n",
        "# 인수와 매개변수\n",
        "# 함수와 매서드 - 클래스 안에서 선언한 함수를 매서드라고 부른다. \n",
        "# 객체와 인스턴스"
      ],
      "metadata": {
        "colab": {
          "base_uri": "https://localhost:8080/"
        },
        "id": "gPvVpVv91clw",
        "outputId": "01f7829f-e252-42f4-855c-b64340ae5f3b"
      },
      "execution_count": null,
      "outputs": [
        {
          "output_type": "stream",
          "name": "stdout",
          "text": [
            "7\n"
          ]
        }
      ]
    },
    {
      "cell_type": "code",
      "source": [
        "# 함수의 종류 4가지\n",
        "'''\n",
        "input o output o 함수(제일 많이 사용)\n",
        "input x output o 함수\n",
        "input o output x 함수\n",
        "input x output x 함수\n",
        "'''"
      ],
      "metadata": {
        "id": "0O6AHsAZ3Px8"
      },
      "execution_count": null,
      "outputs": []
    },
    {
      "cell_type": "code",
      "source": [
        "# 지역변수 local variable 와 전역변수 global variable"
      ],
      "metadata": {
        "id": "FGsSVA2YCesR"
      },
      "execution_count": null,
      "outputs": []
    },
    {
      "cell_type": "code",
      "source": [
        "# lambda \n",
        "add = lambda a,b:a+b\n",
        "add(1,2)"
      ],
      "metadata": {
        "colab": {
          "base_uri": "https://localhost:8080/"
        },
        "id": "YNeFU5h4ES8E",
        "outputId": "d286c378-4e16-4f93-e1ea-ae389de24cc6"
      },
      "execution_count": null,
      "outputs": [
        {
          "output_type": "execute_result",
          "data": {
            "text/plain": [
              "3"
            ]
          },
          "metadata": {},
          "execution_count": 45
        }
      ]
    },
    {
      "cell_type": "code",
      "source": [
        "# 초기값 설정 매개변수는 항상 끝에 위치한다. "
      ],
      "metadata": {
        "id": "OWV2-XzQEx1C"
      },
      "execution_count": null,
      "outputs": []
    },
    {
      "cell_type": "code",
      "source": [
        "# 함수의 결과는 언제나 하나이다. (여러개일경우 튜플 한개 )\n",
        "\n",
        "def add_and_mul(a,b):\n",
        "  return a+b, a*b\n",
        "\n",
        "result1, result2 = add_and_mul(3,4)\n",
        "print(result1)\n",
        "print(result2)\n"
      ],
      "metadata": {
        "id": "RPsTvDnjIj4s"
      },
      "execution_count": null,
      "outputs": []
    }
  ]
}