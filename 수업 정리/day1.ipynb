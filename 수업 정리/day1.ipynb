{
  "nbformat": 4,
  "nbformat_minor": 0,
  "metadata": {
    "colab": {
      "name": "Untitled0.ipynb",
      "provenance": [],
      "authorship_tag": "ABX9TyN/b7I6s6659wL1KZz0QrGq",
      "include_colab_link": true
    },
    "kernelspec": {
      "name": "python3",
      "display_name": "Python 3"
    },
    "language_info": {
      "name": "python"
    }
  },
  "cells": [
    {
      "cell_type": "markdown",
      "metadata": {
        "id": "view-in-github",
        "colab_type": "text"
      },
      "source": [
        "<a href=\"https://colab.research.google.com/github/garlic3/ai/blob/main/Untitled0.ipynb\" target=\"_parent\"><img src=\"https://colab.research.google.com/assets/colab-badge.svg\" alt=\"Open In Colab\"/></a>"
      ]
    },
    {
      "cell_type": "code",
      "execution_count": 55,
      "metadata": {
        "colab": {
          "base_uri": "https://localhost:8080/"
        },
        "id": "mTTKaLIXwzYy",
        "outputId": "351c40af-fa8b-4b75-9755-375c43be7b9f"
      },
      "outputs": [
        {
          "output_type": "stream",
          "name": "stdout",
          "text": [
            "실수 1:1\n",
            "실수 2:2\n",
            "1.0 와 2.0의 합계는 3.0 입니다\n"
          ]
        }
      ],
      "source": [
        "\n",
        "a = float(input(\"실수 1:\"))\n",
        "b = float(input(\"실수 2:\"))\n",
        "sum = float(a + b)\n",
        "\n",
        "print(f\"{a} 와 {b}의 합계는 {sum} 입니다\")"
      ]
    },
    {
      "cell_type": "code",
      "source": [
        "month = int(input(\"할부 개월 수 입력\"))\n",
        "pay = int(50000/month)\n",
        "\n",
        "print(f\"{month} 개월 동안 납부할 금액은 {pay}원 입니다\")\n",
        "print(\"%s 개월 동안 납부할 금액은 %s 원 입니다\" %(month,pay))\n",
        "print(month,\"개월 동안 납부할 금액은\", pay, \"원 입니다\")\n",
        "print(\"{} 개월 동안 납부할 금액은 {}원 입니다\".format(month, pay))"
      ],
      "metadata": {
        "colab": {
          "base_uri": "https://localhost:8080/"
        },
        "id": "MMCrb-KeI-Ta",
        "outputId": "8ea31698-d91f-403e-efc5-d2449120cf14"
      },
      "execution_count": 54,
      "outputs": [
        {
          "output_type": "stream",
          "name": "stdout",
          "text": [
            "할부 개월 수 입력3\n",
            "3 개월 동안 납부할 금액은 16666원 입니다\n",
            "3 개월 동안 납부할 금액은 16666 원 입니다\n",
            "3 개월 동안 납부할 금액은 16666 원 입니다\n",
            "3 개월 동안 납부할 금액은 16666원 입니다\n"
          ]
        }
      ]
    }
  ]
}
