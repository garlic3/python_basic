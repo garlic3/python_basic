{
  "nbformat": 4,
  "nbformat_minor": 0,
  "metadata": {
    "colab": {
      "name": "day3.ipynb",
      "provenance": [],
      "collapsed_sections": [],
      "authorship_tag": "ABX9TyNQF5OTMrVmnj1gNG+jBEqF",
      "include_colab_link": true
    },
    "kernelspec": {
      "name": "python3",
      "display_name": "Python 3"
    },
    "language_info": {
      "name": "python"
    }
  },
  "cells": [
    {
      "cell_type": "markdown",
      "metadata": {
        "id": "view-in-github",
        "colab_type": "text"
      },
      "source": [
        "<a href=\"https://colab.research.google.com/github/garlic3/ai/blob/main/day3.ipynb\" target=\"_parent\"><img src=\"https://colab.research.google.com/assets/colab-badge.svg\" alt=\"Open In Colab\"/></a>"
      ]
    },
    {
      "cell_type": "code",
      "execution_count": null,
      "metadata": {
        "id": "CvCHX3razngl",
        "colab": {
          "base_uri": "https://localhost:8080/",
          "height": 54
        },
        "outputId": "75808aec-64e7-46cb-a924-1a87168209d6"
      },
      "outputs": [
        {
          "output_type": "execute_result",
          "data": {
            "application/vnd.google.colaboratory.intrinsic+json": {
              "type": "string"
            },
            "text/plain": [
              "'\\n변수는 데이터가 들어가는 메모리의 위치를 가리킴\\n메모리 위치 확인 id\\n파이썬 collection (리스트, 튜플, 딕셔너리, 셋) 비교 기억하기!\\n'"
            ]
          },
          "metadata": {},
          "execution_count": 6
        }
      ],
      "source": [
        "'''\n",
        "변수는 데이터가 들어가는 메모리의 위치를 가리킴\n",
        "메모리 위치 확인 id\n",
        "파이썬 collection (리스트, 튜플, 딕셔너리, 셋) 비교 기억하기!\n",
        "'''"
      ]
    },
    {
      "cell_type": "code",
      "source": [
        "list1= [1,2,3]\n",
        "list2 = list1\n",
        "print(list2, id(list2))\n",
        "\n",
        "list3 = list1.copy()\n",
        "print(list3, id(list3))"
      ],
      "metadata": {
        "colab": {
          "base_uri": "https://localhost:8080/"
        },
        "id": "WnirxI2JEJAK",
        "outputId": "b1b7c625-1091-4f49-d8fa-85e9bb439e6c"
      },
      "execution_count": null,
      "outputs": [
        {
          "output_type": "stream",
          "name": "stdout",
          "text": [
            "[1, 2, 3] 139874773325776\n",
            "[1, 2, 3] 139874773325216\n"
          ]
        }
      ]
    },
    {
      "cell_type": "code",
      "source": [
        "# if문\n",
        "# 중복으로 True를 받을 경우 제일 먼저 True 조건에서 빠져나감\n",
        "# else 생략가능"
      ],
      "metadata": {
        "id": "kkdRSYHbGNzN"
      },
      "execution_count": null,
      "outputs": []
    },
    {
      "cell_type": "code",
      "source": [
        "#\n",
        "score = int(input(\"당신의 점수를 입력하세요\"))\n",
        "a = \"\"\n",
        "r= \"\"\n",
        "if 90 <= score <= 100 :\n",
        "  r = \"A\" \n",
        "elif 80 <= score <90 :\n",
        "  r = \"B\"\n",
        "elif 70 <= score <80 :\n",
        "  r=\"C\"\n",
        "elif 60 <= score <70 :\n",
        "  r=\"D\"\n",
        "elif 0 < score < 60:\n",
        "  r=\"F\"\n",
        "\n",
        "if 0 or 1 or 2 or 3 in str(score)[2]:\n",
        "  a = \"-\"\n",
        "elif 4 or 5 or 6 in str(score)[2]:\n",
        "  a=\"0\"\n",
        "else:\n",
        "  a=\"+\"    \n",
        "print(f\"당신의 점수는 {score}점 이고 학점은 {r}{a}학점입니다 \")\n",
        "\n",
        "''' if score%10 >=7:\n",
        "  a=\"+\"\n",
        "elif score%10 >=4:\n",
        "  a=\"0\"\n",
        "else:\n",
        "  a=\"-\"'''\n"
      ],
      "metadata": {
        "id": "cENhYzE2PRyE"
      },
      "execution_count": null,
      "outputs": []
    },
    {
      "cell_type": "code",
      "source": [
        "# while문\n",
        "# 반복 작업을 몇번 수행할지 확실치 않을때 주로 사용"
      ],
      "metadata": {
        "id": "Gvucn3LqNLRG"
      },
      "execution_count": null,
      "outputs": []
    },
    {
      "cell_type": "code",
      "source": [
        "n =1\n",
        "while n <=10:\n",
        "  print(n)\n",
        "  n = n+1 #n += 1 과 동일한 표현\n",
        "print(n) # n = n+1 에서 n은 11이 되고 n<=10을 충족시키지 못했기 떄문에 종료됨!"
      ],
      "metadata": {
        "colab": {
          "base_uri": "https://localhost:8080/"
        },
        "id": "1bc2k_FBTlxN",
        "outputId": "74627600-655f-45a8-dc41-8480cfb5636b"
      },
      "execution_count": null,
      "outputs": [
        {
          "output_type": "stream",
          "name": "stdout",
          "text": [
            "1\n",
            "2\n",
            "3\n",
            "4\n",
            "5\n",
            "6\n",
            "7\n",
            "8\n",
            "9\n",
            "10\n",
            "11\n"
          ]
        }
      ]
    },
    {
      "cell_type": "code",
      "source": [
        "# 10부터 1까지 거꾸로 출력\n",
        "n= 10\n",
        "while n >=1 :\n",
        "  print(n) \n",
        "  n -= 2\n",
        "\n",
        "'''\n",
        "n= 10\n",
        "while n>=1:\n",
        "  if n%2 ==0:\n",
        "    print(n)\n",
        "    n -=1'''\n",
        "    "
      ],
      "metadata": {
        "colab": {
          "base_uri": "https://localhost:8080/"
        },
        "id": "QHfjfNbPUnGc",
        "outputId": "c25094ea-9b03-479f-e35f-c9e497034703"
      },
      "execution_count": null,
      "outputs": [
        {
          "output_type": "stream",
          "name": "stdout",
          "text": [
            "10\n",
            "8\n",
            "6\n",
            "4\n",
            "2\n"
          ]
        }
      ]
    },
    {
      "cell_type": "code",
      "source": [
        "# 사용자로 부터 임의의 정수를 입력받아서 리스트에 넣기\n",
        "# 단, 0이 입력되면 종료되고 최종 리스트를 출력하기\n",
        "\n",
        "list1 = []\n",
        "\n",
        "while 0 not in list1:\n",
        "  b = int(input(\"입력\"))\n",
        "  list1.append(b)\n",
        "print(list1)\n",
        "\n",
        "''' \n",
        "arr=[]\n",
        "no = 1\n",
        "while no !=0:\n",
        "  no = int(input(\"정수입력\"))\n",
        "  if no != 0:\n",
        "    arr = append(no)\n",
        "print(arr)'''\n"
      ],
      "metadata": {
        "colab": {
          "base_uri": "https://localhost:8080/",
          "height": 72
        },
        "id": "0LsDXbohVhUm",
        "outputId": "be37a99c-277e-46df-f720-379e85cbdc8e"
      },
      "execution_count": null,
      "outputs": [
        {
          "output_type": "stream",
          "name": "stdout",
          "text": [
            "입력0\n",
            "[0]\n"
          ]
        },
        {
          "output_type": "execute_result",
          "data": {
            "application/vnd.google.colaboratory.intrinsic+json": {
              "type": "string"
            },
            "text/plain": [
              "' arr=[]\\nno = 1\\nwhile no !=0:\\n  no = int(input(\"정수입력\"))\\n  arr = append(no)\\nprint(arr)'"
            ]
          },
          "metadata": {},
          "execution_count": 42
        }
      ]
    },
    {
      "cell_type": "code",
      "source": [
        "# while 중첩\n",
        "# while 내부에 또 다른 while 사용하는것"
      ],
      "metadata": {
        "id": "tdWfsPxPMRvm"
      },
      "execution_count": null,
      "outputs": []
    },
    {
      "cell_type": "code",
      "source": [
        "\n",
        "# 3일 동안 1~3교시 수업을 한다.\n",
        "\n",
        "# 1일차 1교시입니다.\n",
        "# 1일차 2교시입니다\n",
        "# 1일차 3교시입니다.\n",
        "# 2일차 1교시입니다.\n",
        "# 2일차 2교시입니다.\n",
        "# 2일차 3교시입니다.\n",
        "# 3일차 1교시입니다.\n",
        "# 3일차 2교시입니다.\n",
        "# 3일차 3교시입니다."
      ],
      "metadata": {
        "id": "fOmwdkI6MNtH"
      },
      "execution_count": null,
      "outputs": []
    },
    {
      "cell_type": "code",
      "source": [
        "\n",
        "n = 0\n",
        "while n < 3:\n",
        "  n +=1\n",
        "  c = 1 # 왜 여기에 있어야 하는지 이해하기!\n",
        "  while c < 4:\n",
        "    print(f\"{n}일차{c}교시입니다\")\n",
        "    c += 1"
      ],
      "metadata": {
        "colab": {
          "base_uri": "https://localhost:8080/"
        },
        "id": "84hSq6A3Y1jX",
        "outputId": "e4e598c5-0a47-454c-ac41-307b4b83a739"
      },
      "execution_count": null,
      "outputs": [
        {
          "output_type": "stream",
          "name": "stdout",
          "text": [
            "1일차1교시입니다\n",
            "1일차2교시입니다\n",
            "1일차3교시입니다\n",
            "2일차1교시입니다\n",
            "2일차2교시입니다\n",
            "2일차3교시입니다\n",
            "3일차1교시입니다\n",
            "3일차2교시입니다\n",
            "3일차3교시입니다\n"
          ]
        }
      ]
    },
    {
      "cell_type": "code",
      "source": [
        "# 구구간을 2단부터 9단까지 출력하세요 while\n",
        "\n",
        "# 2 X 1 = 2\n",
        "# 2 X 2 = 4\n",
        "# ,\n",
        "# ,\n",
        "# ,\n",
        "# 9 X 9 = 81"
      ],
      "metadata": {
        "id": "E1RpBH8nMKBh"
      },
      "execution_count": null,
      "outputs": []
    },
    {
      "cell_type": "code",
      "source": [
        "# 구구단을 2단부터 9단까지\n",
        "n = 1\n",
        "while n < 9:\n",
        "  n += 1   \n",
        "  c = 1\n",
        "  while c < 10:\n",
        "    print(f\"{n} X {c} = {n*c}\")\n",
        "    c += 1 "
      ],
      "metadata": {
        "colab": {
          "base_uri": "https://localhost:8080/"
        },
        "id": "n8snHyNqtRR7",
        "outputId": "cfac404b-2e77-4a43-8718-503a8a3ea13c"
      },
      "execution_count": null,
      "outputs": [
        {
          "output_type": "stream",
          "name": "stdout",
          "text": [
            "2 X 1 = 2\n",
            "2 X 2 = 4\n",
            "2 X 3 = 6\n",
            "2 X 4 = 8\n",
            "2 X 5 = 10\n",
            "2 X 6 = 12\n",
            "2 X 7 = 14\n",
            "2 X 8 = 16\n",
            "2 X 9 = 18\n",
            "3 X 1 = 3\n",
            "3 X 2 = 6\n",
            "3 X 3 = 9\n",
            "3 X 4 = 12\n",
            "3 X 5 = 15\n",
            "3 X 6 = 18\n",
            "3 X 7 = 21\n",
            "3 X 8 = 24\n",
            "3 X 9 = 27\n",
            "4 X 1 = 4\n",
            "4 X 2 = 8\n",
            "4 X 3 = 12\n",
            "4 X 4 = 16\n",
            "4 X 5 = 20\n",
            "4 X 6 = 24\n",
            "4 X 7 = 28\n",
            "4 X 8 = 32\n",
            "4 X 9 = 36\n",
            "5 X 1 = 5\n",
            "5 X 2 = 10\n",
            "5 X 3 = 15\n",
            "5 X 4 = 20\n",
            "5 X 5 = 25\n",
            "5 X 6 = 30\n",
            "5 X 7 = 35\n",
            "5 X 8 = 40\n",
            "5 X 9 = 45\n",
            "6 X 1 = 6\n",
            "6 X 2 = 12\n",
            "6 X 3 = 18\n",
            "6 X 4 = 24\n",
            "6 X 5 = 30\n",
            "6 X 6 = 36\n",
            "6 X 7 = 42\n",
            "6 X 8 = 48\n",
            "6 X 9 = 54\n",
            "7 X 1 = 7\n",
            "7 X 2 = 14\n",
            "7 X 3 = 21\n",
            "7 X 4 = 28\n",
            "7 X 5 = 35\n",
            "7 X 6 = 42\n",
            "7 X 7 = 49\n",
            "7 X 8 = 56\n",
            "7 X 9 = 63\n",
            "8 X 1 = 8\n",
            "8 X 2 = 16\n",
            "8 X 3 = 24\n",
            "8 X 4 = 32\n",
            "8 X 5 = 40\n",
            "8 X 6 = 48\n",
            "8 X 7 = 56\n",
            "8 X 8 = 64\n",
            "8 X 9 = 72\n",
            "9 X 1 = 9\n",
            "9 X 2 = 18\n",
            "9 X 3 = 27\n",
            "9 X 4 = 36\n",
            "9 X 5 = 45\n",
            "9 X 6 = 54\n",
            "9 X 7 = 63\n",
            "9 X 8 = 72\n",
            "9 X 9 = 81\n"
          ]
        }
      ]
    },
    {
      "cell_type": "code",
      "source": [
        "# q 정수를 입력 받아서 그 횟수 만큼 'Hello'를 출력하는 프로그램을 \n",
        "# 작성하세요. \n",
        "# 0 이하의 값이 입력되면 '잘못된 입력입니다.' 라고 출력하세요.\n",
        "\n",
        "# 정수를 입력하세요 >>> 3\n",
        "\n",
        "# 1번째 Hello\n",
        "# 2번째 Hello\n",
        "# 3번째 Hello\n",
        "\n",
        "# 정수를 입력하세요 >>> 0\n",
        "# 잘못된 입력입니다. "
      ],
      "metadata": {
        "id": "Ddunx0RyMCAN"
      },
      "execution_count": null,
      "outputs": []
    },
    {
      "cell_type": "code",
      "source": [
        "#\n",
        "i = int(input(\"정수 입력\"))\n",
        "n = 1 \n",
        "if i > 0:\n",
        "  while n != i +1 :\n",
        "    print(f\"{n}번째 hello\")\n",
        "    n += 1\n",
        "else:\n",
        "  print(\"잘못된 입력입니다\")\n",
        "'''\n",
        "no = int(input(\"정수를 입력하세요 >>> \"))\n",
        "n = 1\n",
        "\n",
        "if no > 0:\n",
        "  while no > 0:\n",
        "    print(f'{n}번째 Hello')\n",
        "    n += 1\n",
        "    no -= 1\n",
        "else:\n",
        "   print('잘못된 입력입니다.')'''"
      ],
      "metadata": {
        "colab": {
          "base_uri": "https://localhost:8080/",
          "height": 127
        },
        "id": "vpwjrljowJjt",
        "outputId": "5df2b921-92b9-48a0-a337-0f6fde4fd21b"
      },
      "execution_count": null,
      "outputs": [
        {
          "output_type": "stream",
          "name": "stdout",
          "text": [
            "정수 입력3\n",
            "1번째 hello\n",
            "2번째 hello\n"
          ]
        },
        {
          "output_type": "execute_result",
          "data": {
            "application/vnd.google.colaboratory.intrinsic+json": {
              "type": "string"
            },
            "text/plain": [
              "'\\nno = int(input(\"정수를 입력하세요 >>> \"))\\nn = 1\\n\\nif no > 0:\\n  while no > 0:\\n    print(f\\'{n}번째 Hello\\')\\n    n += 1\\n    no -= 1\\nelse:\\n   print(\\'잘못된 입력입니다.\\')'"
            ]
          },
          "metadata": {},
          "execution_count": 46
        }
      ]
    },
    {
      "cell_type": "code",
      "source": [
        "# q2  1 부터 100사이의 모든 정수 중에서 7의 배수만 출력하세요\n",
        "\n",
        "n = 7\n",
        "while n <= 100:\n",
        "  print(n)\n",
        "  n += 7"
      ],
      "metadata": {
        "id": "WpJhJJmoL1eI"
      },
      "execution_count": null,
      "outputs": []
    },
    {
      "cell_type": "code",
      "source": [
        "\n",
        "n = 1\n",
        "while n <101:\n",
        "  if n%7 == 0:\n",
        "    print(f\"{n}\")\n",
        "  n +=1\n"
      ],
      "metadata": {
        "colab": {
          "base_uri": "https://localhost:8080/",
          "height": 292
        },
        "id": "1Kh3vJbw0tQp",
        "outputId": "f89c61c6-f501-49c0-bb7a-702c5ce972f0"
      },
      "execution_count": null,
      "outputs": [
        {
          "output_type": "stream",
          "name": "stdout",
          "text": [
            "7\n",
            "14\n",
            "21\n",
            "28\n",
            "35\n",
            "42\n",
            "49\n",
            "56\n",
            "63\n",
            "70\n",
            "77\n",
            "84\n",
            "91\n",
            "98\n"
          ]
        },
        {
          "output_type": "execute_result",
          "data": {
            "application/vnd.google.colaboratory.intrinsic+json": {
              "type": "string"
            },
            "text/plain": [
              "' n = 7\\nwhile n <= 100:\\n  print(n)\\n  n +=7'"
            ]
          },
          "metadata": {},
          "execution_count": 43
        }
      ]
    },
    {
      "cell_type": "code",
      "source": [
        "# 커피 1잔을 300원에 판매하는 자판기가 있다 \n",
        "# 자판기에 돈을 넣었을때 자팜기에서 뽑을 수 있는 커피가 몇잔이고\n",
        "# 잔돈이 얼마인지 함께 출력하세요\n",
        "\n",
        "자판기에 얼마를 넣을까요 >>> 1400\n",
        "커피 1잔, 잔돈 1100원\n",
        "커피 2잔, 잔돈 800원\n",
        "커피 3잔, 잔돈 500원\n",
        "커피 4잔, 잔돈 200원\n"
      ],
      "metadata": {
        "colab": {
          "base_uri": "https://localhost:8080/",
          "height": 137
        },
        "id": "CRMyW3FZ84O0",
        "outputId": "8aaa8926-2c92-469b-b2fb-063db17fada1"
      },
      "execution_count": null,
      "outputs": [
        {
          "output_type": "error",
          "ename": "SyntaxError",
          "evalue": "ignored",
          "traceback": [
            "\u001b[0;36m  File \u001b[0;32m\"<ipython-input-1-82802e5aeb74>\"\u001b[0;36m, line \u001b[0;32m4\u001b[0m\n\u001b[0;31m    s ={0,}\u001b[0m\n\u001b[0m    ^\u001b[0m\n\u001b[0;31mSyntaxError\u001b[0m\u001b[0;31m:\u001b[0m invalid syntax\n"
          ]
        }
      ]
    },
    {
      "cell_type": "code",
      "source": [
        "#\n",
        "'''\n",
        "c = 300\n",
        "u = int(input(\"자판기에 얼마를 넣을까요\"))\n",
        "n = 1\n",
        "while c <= u:\n",
        "  print(f\"커피 {n}잔 잔돈 {u-c}원\")\n",
        "  n +=1\n",
        "  c +=300 \n",
        "'''"
      ],
      "metadata": {
        "colab": {
          "base_uri": "https://localhost:8080/",
          "height": 54
        },
        "id": "sc3-ez2O3Cge",
        "outputId": "2e7b9baf-1f2d-47f5-a532-d7e90bb68134"
      },
      "execution_count": null,
      "outputs": [
        {
          "output_type": "execute_result",
          "data": {
            "application/vnd.google.colaboratory.intrinsic+json": {
              "type": "string"
            },
            "text/plain": [
              "'\\nc = 300\\nu = int(input(\"자판기에 얼마를 넣을까요\"))\\nn = 1\\nwhile c <= u:\\n  print(f\"커피 {n}잔 잔돈 {u-c}원\")\\n  n +=1\\n  c +=300 \\n'"
            ]
          },
          "metadata": {},
          "execution_count": 59
        }
      ]
    },
    {
      "cell_type": "code",
      "source": [
        "# 사용자로 부터 0부터 9까지 의 정수를 입력받아 입력된 정수가 5개가 \n",
        "# 될때까지 입력 받는 프로그램을 구현하세요 , \n",
        "# 중복된 값이 입력되면 해당입력은 무시합니다.\n",
        "# set , while 사용할 것\n",
        "\n",
        "0 ~ 9 사이 정수를 입력하세요 >>> 0\n",
        "0 ~ 9 사이 정수를 입력하세요 >>> 0 # 무시\n",
        "0 ~ 9 사이 정수를 입력하세요 >>> 1 \n",
        "0 ~ 9 사이 정수를 입력하세요 >>> 1 # 무시\n",
        "0 ~ 9 사이 정수를 입력하세요 >>> 2\n",
        "0 ~ 9 사이 정수를 입력하세요 >>> 3 \n",
        "0 ~ 9 사이 정수를 입력하세요 >>> 4 \n",
        "\n",
        "5개의 고유한 정수가 모두 입력되었습니다.\n",
        "입력된 값은 ...........입니다. "
      ],
      "metadata": {
        "id": "Hz7qrtSGLryz"
      },
      "execution_count": null,
      "outputs": []
    },
    {
      "cell_type": "code",
      "source": [
        "# dict이 우선순위가 있음 -> set = set([])로 비어있는 set 만들기!\n",
        "s = set([])\n",
        "while len(s) < 6:\n",
        "  n = int(input(\"0~9 사이 정수를 입력하세요\"))\n",
        "  s.add(n)\n",
        "  if len(s) == 5:\n",
        "    print(f\"5개의 고유한 점수가 모두 입력되었습니다\\n입력된 값은 {s}입니다\")\n"
      ],
      "metadata": {
        "colab": {
          "base_uri": "https://localhost:8080/",
          "height": 786
        },
        "id": "Pl5k1P5Y-Wsd",
        "outputId": "64af5733-c621-433a-9978-7e2ba93da140"
      },
      "execution_count": null,
      "outputs": [
        {
          "output_type": "stream",
          "name": "stdout",
          "text": [
            "0~9사이 정수를 입력하세요1\n",
            "0~9사이 정수를 입력하세요2\n",
            "0~9사이 정수를 입력하세요1\n",
            "0~9사이 정수를 입력하세요1\n",
            "0~9사이 정수를 입력하세요1\n",
            "0~9사이 정수를 입력하세요3\n",
            "0~9사이 정수를 입력하세요4\n",
            "0~9사이 정수를 입력하세요5\n",
            "5개의 고유한 점수가 모두 입력되었습니다\n",
            "입력된 값은 {1, 2, 3, 4, 5}입니다\n"
          ]
        },
        {
          "output_type": "error",
          "ename": "KeyboardInterrupt",
          "evalue": "ignored",
          "traceback": [
            "\u001b[0;31m---------------------------------------------------------------------------\u001b[0m",
            "\u001b[0;31mKeyboardInterrupt\u001b[0m                         Traceback (most recent call last)",
            "\u001b[0;32m/usr/local/lib/python3.7/dist-packages/ipykernel/kernelbase.py\u001b[0m in \u001b[0;36m_input_request\u001b[0;34m(self, prompt, ident, parent, password)\u001b[0m\n\u001b[1;32m    728\u001b[0m             \u001b[0;32mtry\u001b[0m\u001b[0;34m:\u001b[0m\u001b[0;34m\u001b[0m\u001b[0;34m\u001b[0m\u001b[0m\n\u001b[0;32m--> 729\u001b[0;31m                 \u001b[0mident\u001b[0m\u001b[0;34m,\u001b[0m \u001b[0mreply\u001b[0m \u001b[0;34m=\u001b[0m \u001b[0mself\u001b[0m\u001b[0;34m.\u001b[0m\u001b[0msession\u001b[0m\u001b[0;34m.\u001b[0m\u001b[0mrecv\u001b[0m\u001b[0;34m(\u001b[0m\u001b[0mself\u001b[0m\u001b[0;34m.\u001b[0m\u001b[0mstdin_socket\u001b[0m\u001b[0;34m,\u001b[0m \u001b[0;36m0\u001b[0m\u001b[0;34m)\u001b[0m\u001b[0;34m\u001b[0m\u001b[0;34m\u001b[0m\u001b[0m\n\u001b[0m\u001b[1;32m    730\u001b[0m             \u001b[0;32mexcept\u001b[0m \u001b[0mException\u001b[0m\u001b[0;34m:\u001b[0m\u001b[0;34m\u001b[0m\u001b[0;34m\u001b[0m\u001b[0m\n",
            "\u001b[0;32m/usr/local/lib/python3.7/dist-packages/jupyter_client/session.py\u001b[0m in \u001b[0;36mrecv\u001b[0;34m(self, socket, mode, content, copy)\u001b[0m\n\u001b[1;32m    802\u001b[0m         \u001b[0;32mtry\u001b[0m\u001b[0;34m:\u001b[0m\u001b[0;34m\u001b[0m\u001b[0;34m\u001b[0m\u001b[0m\n\u001b[0;32m--> 803\u001b[0;31m             \u001b[0mmsg_list\u001b[0m \u001b[0;34m=\u001b[0m \u001b[0msocket\u001b[0m\u001b[0;34m.\u001b[0m\u001b[0mrecv_multipart\u001b[0m\u001b[0;34m(\u001b[0m\u001b[0mmode\u001b[0m\u001b[0;34m,\u001b[0m \u001b[0mcopy\u001b[0m\u001b[0;34m=\u001b[0m\u001b[0mcopy\u001b[0m\u001b[0;34m)\u001b[0m\u001b[0;34m\u001b[0m\u001b[0;34m\u001b[0m\u001b[0m\n\u001b[0m\u001b[1;32m    804\u001b[0m         \u001b[0;32mexcept\u001b[0m \u001b[0mzmq\u001b[0m\u001b[0;34m.\u001b[0m\u001b[0mZMQError\u001b[0m \u001b[0;32mas\u001b[0m \u001b[0me\u001b[0m\u001b[0;34m:\u001b[0m\u001b[0;34m\u001b[0m\u001b[0;34m\u001b[0m\u001b[0m\n",
            "\u001b[0;32m/usr/local/lib/python3.7/dist-packages/zmq/sugar/socket.py\u001b[0m in \u001b[0;36mrecv_multipart\u001b[0;34m(self, flags, copy, track)\u001b[0m\n\u001b[1;32m    624\u001b[0m         \"\"\"\n\u001b[0;32m--> 625\u001b[0;31m         \u001b[0mparts\u001b[0m \u001b[0;34m=\u001b[0m \u001b[0;34m[\u001b[0m\u001b[0mself\u001b[0m\u001b[0;34m.\u001b[0m\u001b[0mrecv\u001b[0m\u001b[0;34m(\u001b[0m\u001b[0mflags\u001b[0m\u001b[0;34m,\u001b[0m \u001b[0mcopy\u001b[0m\u001b[0;34m=\u001b[0m\u001b[0mcopy\u001b[0m\u001b[0;34m,\u001b[0m \u001b[0mtrack\u001b[0m\u001b[0;34m=\u001b[0m\u001b[0mtrack\u001b[0m\u001b[0;34m)\u001b[0m\u001b[0;34m]\u001b[0m\u001b[0;34m\u001b[0m\u001b[0;34m\u001b[0m\u001b[0m\n\u001b[0m\u001b[1;32m    626\u001b[0m         \u001b[0;31m# have first part already, only loop while more to receive\u001b[0m\u001b[0;34m\u001b[0m\u001b[0;34m\u001b[0m\u001b[0;34m\u001b[0m\u001b[0m\n",
            "\u001b[0;32mzmq/backend/cython/socket.pyx\u001b[0m in \u001b[0;36mzmq.backend.cython.socket.Socket.recv\u001b[0;34m()\u001b[0m\n",
            "\u001b[0;32mzmq/backend/cython/socket.pyx\u001b[0m in \u001b[0;36mzmq.backend.cython.socket.Socket.recv\u001b[0;34m()\u001b[0m\n",
            "\u001b[0;32mzmq/backend/cython/socket.pyx\u001b[0m in \u001b[0;36mzmq.backend.cython.socket._recv_copy\u001b[0;34m()\u001b[0m\n",
            "\u001b[0;32m/usr/local/lib/python3.7/dist-packages/zmq/backend/cython/checkrc.pxd\u001b[0m in \u001b[0;36mzmq.backend.cython.checkrc._check_rc\u001b[0;34m()\u001b[0m\n",
            "\u001b[0;31mKeyboardInterrupt\u001b[0m: ",
            "\nDuring handling of the above exception, another exception occurred:\n",
            "\u001b[0;31mKeyboardInterrupt\u001b[0m                         Traceback (most recent call last)",
            "\u001b[0;32m<ipython-input-26-59ddc102d8bc>\u001b[0m in \u001b[0;36m<module>\u001b[0;34m()\u001b[0m\n\u001b[1;32m      2\u001b[0m \u001b[0ms\u001b[0m \u001b[0;34m=\u001b[0m \u001b[0mset\u001b[0m\u001b[0;34m(\u001b[0m\u001b[0;34m[\u001b[0m\u001b[0;34m]\u001b[0m\u001b[0;34m)\u001b[0m\u001b[0;34m\u001b[0m\u001b[0;34m\u001b[0m\u001b[0m\n\u001b[1;32m      3\u001b[0m \u001b[0;32mwhile\u001b[0m \u001b[0mlen\u001b[0m\u001b[0;34m(\u001b[0m\u001b[0ms\u001b[0m\u001b[0;34m)\u001b[0m \u001b[0;34m<\u001b[0m \u001b[0;36m6\u001b[0m\u001b[0;34m:\u001b[0m\u001b[0;34m\u001b[0m\u001b[0;34m\u001b[0m\u001b[0m\n\u001b[0;32m----> 4\u001b[0;31m   \u001b[0mn\u001b[0m \u001b[0;34m=\u001b[0m \u001b[0mint\u001b[0m\u001b[0;34m(\u001b[0m\u001b[0minput\u001b[0m\u001b[0;34m(\u001b[0m\u001b[0;34m\"0~9사이 정수를 입력하세요\"\u001b[0m\u001b[0;34m)\u001b[0m\u001b[0;34m)\u001b[0m\u001b[0;34m\u001b[0m\u001b[0;34m\u001b[0m\u001b[0m\n\u001b[0m\u001b[1;32m      5\u001b[0m   \u001b[0ms\u001b[0m\u001b[0;34m.\u001b[0m\u001b[0madd\u001b[0m\u001b[0;34m(\u001b[0m\u001b[0mn\u001b[0m\u001b[0;34m)\u001b[0m\u001b[0;34m\u001b[0m\u001b[0;34m\u001b[0m\u001b[0m\n\u001b[1;32m      6\u001b[0m   \u001b[0;32mif\u001b[0m \u001b[0mlen\u001b[0m\u001b[0;34m(\u001b[0m\u001b[0ms\u001b[0m\u001b[0;34m)\u001b[0m \u001b[0;34m==\u001b[0m \u001b[0;36m5\u001b[0m\u001b[0;34m:\u001b[0m\u001b[0;34m\u001b[0m\u001b[0;34m\u001b[0m\u001b[0m\n",
            "\u001b[0;32m/usr/local/lib/python3.7/dist-packages/ipykernel/kernelbase.py\u001b[0m in \u001b[0;36mraw_input\u001b[0;34m(self, prompt)\u001b[0m\n\u001b[1;32m    702\u001b[0m             \u001b[0mself\u001b[0m\u001b[0;34m.\u001b[0m\u001b[0m_parent_ident\u001b[0m\u001b[0;34m,\u001b[0m\u001b[0;34m\u001b[0m\u001b[0;34m\u001b[0m\u001b[0m\n\u001b[1;32m    703\u001b[0m             \u001b[0mself\u001b[0m\u001b[0;34m.\u001b[0m\u001b[0m_parent_header\u001b[0m\u001b[0;34m,\u001b[0m\u001b[0;34m\u001b[0m\u001b[0;34m\u001b[0m\u001b[0m\n\u001b[0;32m--> 704\u001b[0;31m             \u001b[0mpassword\u001b[0m\u001b[0;34m=\u001b[0m\u001b[0;32mFalse\u001b[0m\u001b[0;34m,\u001b[0m\u001b[0;34m\u001b[0m\u001b[0;34m\u001b[0m\u001b[0m\n\u001b[0m\u001b[1;32m    705\u001b[0m         )\n\u001b[1;32m    706\u001b[0m \u001b[0;34m\u001b[0m\u001b[0m\n",
            "\u001b[0;32m/usr/local/lib/python3.7/dist-packages/ipykernel/kernelbase.py\u001b[0m in \u001b[0;36m_input_request\u001b[0;34m(self, prompt, ident, parent, password)\u001b[0m\n\u001b[1;32m    732\u001b[0m             \u001b[0;32mexcept\u001b[0m \u001b[0mKeyboardInterrupt\u001b[0m\u001b[0;34m:\u001b[0m\u001b[0;34m\u001b[0m\u001b[0;34m\u001b[0m\u001b[0m\n\u001b[1;32m    733\u001b[0m                 \u001b[0;31m# re-raise KeyboardInterrupt, to truncate traceback\u001b[0m\u001b[0;34m\u001b[0m\u001b[0;34m\u001b[0m\u001b[0;34m\u001b[0m\u001b[0m\n\u001b[0;32m--> 734\u001b[0;31m                 \u001b[0;32mraise\u001b[0m \u001b[0mKeyboardInterrupt\u001b[0m\u001b[0;34m\u001b[0m\u001b[0;34m\u001b[0m\u001b[0m\n\u001b[0m\u001b[1;32m    735\u001b[0m             \u001b[0;32melse\u001b[0m\u001b[0;34m:\u001b[0m\u001b[0;34m\u001b[0m\u001b[0;34m\u001b[0m\u001b[0m\n\u001b[1;32m    736\u001b[0m                 \u001b[0;32mbreak\u001b[0m\u001b[0;34m\u001b[0m\u001b[0;34m\u001b[0m\u001b[0m\n",
            "\u001b[0;31mKeyboardInterrupt\u001b[0m: "
          ]
        }
      ]
    },
    {
      "cell_type": "code",
      "source": [
        "# 1부터 100사이의 모든 정수를 한줄에 10개씩 출력하시오\n",
        "# while 2번 사용할 것\n",
        "1     2     3     4     5     6     7     8     9     10\n",
        "11\n",
        "12\n",
        "13\n",
        ".\n",
        ".\n",
        "91    92    93                    ...                 100"
      ],
      "metadata": {
        "id": "AMafMizxLlnX"
      },
      "execution_count": null,
      "outputs": []
    },
    {
      "cell_type": "code",
      "source": [
        "'''while n <10:\n",
        "  s = {n,}\n",
        "  n+=1\n",
        "if len(s) == 5:\n",
        "  print(f\"5개의 고유한 점수가 모두 입력되었습니다\\n입력된 값은 {s}입니다\")'''"
      ],
      "metadata": {
        "id": "D8Go0KxmANDF"
      },
      "execution_count": null,
      "outputs": []
    },
    {
      "cell_type": "code",
      "source": [
        "n = 1\n",
        "while n <101:\n",
        "  s = 0\n",
        "  while s < 10:\n",
        "    print(f\"{n}\\t\", end=\"\")\n",
        "    s += 1\n",
        "    n += 1\n",
        "  print(\"\\n\")\n",
        "   "
      ],
      "metadata": {
        "colab": {
          "base_uri": "https://localhost:8080/"
        },
        "id": "fkHScGX_9jm2",
        "outputId": "945b9e48-97cc-4c2a-ddb0-b7a76f91436c"
      },
      "execution_count": null,
      "outputs": [
        {
          "output_type": "stream",
          "name": "stdout",
          "text": [
            "1\t2\t3\t4\t5\t6\t7\t8\t9\t10\t\n",
            "\n",
            "11\t12\t13\t14\t15\t16\t17\t18\t19\t20\t\n",
            "\n",
            "21\t22\t23\t24\t25\t26\t27\t28\t29\t30\t\n",
            "\n",
            "31\t32\t33\t34\t35\t36\t37\t38\t39\t40\t\n",
            "\n",
            "41\t42\t43\t44\t45\t46\t47\t48\t49\t50\t\n",
            "\n",
            "51\t52\t53\t54\t55\t56\t57\t58\t59\t60\t\n",
            "\n",
            "61\t62\t63\t64\t65\t66\t67\t68\t69\t70\t\n",
            "\n",
            "71\t72\t73\t74\t75\t76\t77\t78\t79\t80\t\n",
            "\n",
            "81\t82\t83\t84\t85\t86\t87\t88\t89\t90\t\n",
            "\n",
            "91\t92\t93\t94\t95\t96\t97\t98\t99\t100\t\n",
            "\n"
          ]
        }
      ]
    },
    {
      "cell_type": "code",
      "source": [
        "# n = 1\n",
        "# while n <= 100:\n",
        "#   if n % 10 != 0:\n",
        "#     print(n, end='\\t')\n",
        "#   else:\n",
        "#     print(n)\n",
        "#   n += 1\n",
        "\n",
        "n = 1\n",
        "while n <= 100:\n",
        "  t = 0\n",
        "  while t < 10:\n",
        "    print(n, end='\\t')\n",
        "    t += 1\n",
        "    n += 1\n",
        "  print(\"\")"
      ],
      "metadata": {
        "id": "5WLwLC0kLfsg"
      },
      "execution_count": null,
      "outputs": []
    },
    {
      "cell_type": "code",
      "source": [
        "# for 문 몇번 반복할지 알고 있을 때 사용\n",
        "''' \n",
        "# 리스트\n",
        "for i in [1,2,3]:\n",
        "  print(i)\n",
        "# 문자열\n",
        "for i in \"hello\":\n",
        "  print(i)\n",
        "# 튜플\n",
        "for i in (1,2,3):\n",
        "  print(i)\n",
        "# range()\n",
        "for i in range(3): #range(시작(생략가능), 끝(미만), 스탭(생략가능))\n",
        "  print(i) \n",
        "# set, dict는 순서와 상관없이는 사용 가능  '''     "
      ],
      "metadata": {
        "id": "FWO0UAVvMaPX"
      },
      "execution_count": null,
      "outputs": []
    },
    {
      "cell_type": "code",
      "source": [
        "# 비밀 번호(str)를 입력 받아서 숫자와 문자가 모두 반드시 하나이상 \n",
        "# 포함된 경우만 '사용 가능한 비번입니다.'\n",
        "# '불가능한 비번입니다'\n",
        "# ch.isalpha() - 알파벳이면 구성되면 True \n",
        "# ch.isnumeric() - 숫자면  True\n",
        "\n",
        "(입력) 비밀 번호를 입력하세요 >>>\n",
        "(출력) 사용 가능한 비번입니다."
      ],
      "metadata": {
        "colab": {
          "base_uri": "https://localhost:8080/"
        },
        "id": "ZxUk79_pN_mU",
        "outputId": "2abf0112-49ec-430b-9ac7-8b1e63453a3a"
      },
      "execution_count": null,
      "outputs": [
        {
          "output_type": "stream",
          "name": "stdout",
          "text": [
            "비밀번호를 입력하세요>>>11111a\n",
            "사용 가능한 비번 입니다\n"
          ]
        }
      ]
    },
    {
      "cell_type": "code",
      "source": [
        "'''pw = input('비밀 번호를 입력하세요 >>>')\n",
        "ch_count = 0\n",
        "no_count = 0\n",
        "\n",
        "for ch in pw:\n",
        "  if ch.isalpha():\n",
        "    ch_count += 1\n",
        "  elif ch.isnumeric():\n",
        "    no_count += 1\n",
        "\n",
        "if ch_count > 0 and no_count > 0:\n",
        "  print('사용 가능한 비번입니다.')\n",
        "else:\n",
        "  print('사용 불가한 비번입니다.')'''"
      ],
      "metadata": {
        "id": "pY3qGTYMU4vB"
      },
      "execution_count": null,
      "outputs": []
    },
    {
      "cell_type": "code",
      "source": [
        "# range([start], stop, [step])\n",
        "1. 숫자들을 컬렉션으로 만든다\n",
        "2. start를 생략하면 0부터 시작한다\n",
        "3. Stop은 생략할 수 없다\n",
        "4. step을 생략하면 1씩 증가한다"
      ],
      "metadata": {
        "id": "G84RxXnsRWt8"
      },
      "execution_count": null,
      "outputs": []
    },
    {
      "cell_type": "code",
      "source": [
        "a = int(input(\"출력할 구구단을 입력하세요\"))\n",
        "for i in range(1,10):\n",
        "  s = a*i\n",
        "  print(f\"{a} X {i} = {s}\")"
      ],
      "metadata": {
        "colab": {
          "base_uri": "https://localhost:8080/"
        },
        "id": "hdPQqPdyWviR",
        "outputId": "fa1488c5-b63c-46db-b737-99213a05042c"
      },
      "execution_count": null,
      "outputs": [
        {
          "output_type": "stream",
          "name": "stdout",
          "text": [
            "출력할 구구단을 입력하세요2\n",
            "2 X 1 = 2\n",
            "2 X 2 = 4\n",
            "2 X 3 = 6\n",
            "2 X 4 = 8\n",
            "2 X 5 = 10\n",
            "2 X 6 = 12\n",
            "2 X 7 = 14\n",
            "2 X 8 = 16\n",
            "2 X 9 = 18\n"
          ]
        }
      ]
    },
    {
      "cell_type": "code",
      "source": [
        "# set, dict 도 for문으로 사용은 가능하나 순서는 보장하지 않음!\n",
        "person = {'name':'eva', 'age':'20'}\n",
        "for i in person:\n",
        "  print(person[i])\n",
        "\n",
        "for i in person:\n",
        "  print(i)  "
      ],
      "metadata": {
        "colab": {
          "base_uri": "https://localhost:8080/"
        },
        "id": "Ms6ArD9jYEye",
        "outputId": "e8f518e6-0269-43f9-de14-a8ea52f36604"
      },
      "execution_count": null,
      "outputs": [
        {
          "output_type": "stream",
          "name": "stdout",
          "text": [
            "eva\n",
            "20\n",
            "name\n",
            "age\n"
          ]
        }
      ]
    },
    {
      "cell_type": "code",
      "source": [
        "s = int(input(\"임의의 양수를 입력하세요\"))\n",
        "sum = 0\n",
        "for i in range(1,s+1):\n",
        "  sum = sum + i\n",
        "print(f'1부터 {i}사이의 모든 정수의 합계는 {sum}입니다')\n"
      ],
      "metadata": {
        "colab": {
          "base_uri": "https://localhost:8080/"
        },
        "id": "hq6ipL8PZLq7",
        "outputId": "8b1acac4-077a-4dae-f2ab-f1e529236e06"
      },
      "execution_count": null,
      "outputs": [
        {
          "output_type": "stream",
          "name": "stdout",
          "text": [
            "임의의 양수를 입력하세요3\n",
            "1부터 3사이의 모든 정수의 합계는 6입니다\n"
          ]
        }
      ]
    },
    {
      "cell_type": "code",
      "source": [
        "n = int(input(\"몇개의 과일을 보관할까요?\"))+1\n",
        "l = []\n",
        "for i in range(1,n):\n",
        "  f = input(f\"{i}번째 과일을 입력하세요\")\n",
        "  l.append(f)\n",
        "print(f\"입력 받은 과일들은 {l} 입니다\")  "
      ],
      "metadata": {
        "colab": {
          "base_uri": "https://localhost:8080/"
        },
        "id": "-Ezi2MkVasUD",
        "outputId": "a4a1a191-b20b-4b55-cdc7-5072d311fd1a"
      },
      "execution_count": null,
      "outputs": [
        {
          "output_type": "stream",
          "name": "stdout",
          "text": [
            "몇개의 과일을 보관할까요?4\n",
            "1번째 과일을 입력하세요바나나\n",
            "2번째 과일을 입력하세요사과\n",
            "3번째 과일을 입력하세요꿀\n",
            "4번째 과일을 입력하세요달걀\n",
            "입력 받은 과일들은 ['바나나', '사과', '꿀', '달걀'] 입니다\n"
          ]
        }
      ]
    },
    {
      "cell_type": "code",
      "source": [
        "\n",
        "for i in range(1,101):\n",
        "  print(f'{i}', end='\\t')\n",
        "  if i % 10 == 0:\n",
        "    print('')\n",
        "    \n",
        "  \n",
        "\n"
      ],
      "metadata": {
        "colab": {
          "base_uri": "https://localhost:8080/"
        },
        "id": "wzTEawflbrs0",
        "outputId": "b356a9e2-7439-4339-c84f-731b2b62524b"
      },
      "execution_count": null,
      "outputs": [
        {
          "output_type": "stream",
          "name": "stdout",
          "text": [
            "1\t2\t3\t4\t5\t6\t7\t8\t9\t10\t\n",
            "11\t12\t13\t14\t15\t16\t17\t18\t19\t20\t\n",
            "21\t22\t23\t24\t25\t26\t27\t28\t29\t30\t\n",
            "31\t32\t33\t34\t35\t36\t37\t38\t39\t40\t\n",
            "41\t42\t43\t44\t45\t46\t47\t48\t49\t50\t\n",
            "51\t52\t53\t54\t55\t56\t57\t58\t59\t60\t\n",
            "61\t62\t63\t64\t65\t66\t67\t68\t69\t70\t\n",
            "71\t72\t73\t74\t75\t76\t77\t78\t79\t80\t\n",
            "81\t82\t83\t84\t85\t86\t87\t88\t89\t90\t\n",
            "91\t92\t93\t94\t95\t96\t97\t98\t99\t100\t\n"
          ]
        }
      ]
    },
    {
      "cell_type": "code",
      "source": [
        "'''1부터 99 사이의 모든 정수를 대상으로 369게임의 결과를 출력하는 프로그램을 작성하세요\n",
        "\n",
        "1   2   짝    4   5   짝.......8    짝    10\n",
        "11  12  짝...\n",
        "21\n",
        "짝  짝  짝짝  짝  짝\n",
        "41\n",
        "51\n",
        "짝\n",
        "71\n",
        "81\n",
        "짝 짝  짝짝                    짝  짝짝'''"
      ],
      "metadata": {
        "id": "BxksFy0LdLu6"
      },
      "execution_count": null,
      "outputs": []
    }
  ]
}